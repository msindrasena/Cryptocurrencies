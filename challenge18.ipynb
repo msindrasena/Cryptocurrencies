{
 "cells": [
  {
   "cell_type": "code",
   "execution_count": 52,
   "metadata": {},
   "outputs": [],
   "source": [
    "# import dependencies\n",
    "import pandas as pd\n",
    "from sklearn.preprocessing import StandardScaler\n",
    "from sklearn.decomposition import PCA\n",
    "from sklearn.cluster import KMeans\n",
    "import hvplot.pandas\n",
    "import plotly.express as px"
   ]
  },
  {
   "cell_type": "code",
   "execution_count": 53,
   "metadata": {},
   "outputs": [
    {
     "data": {
      "text/html": [
       "<div>\n",
       "<style scoped>\n",
       "    .dataframe tbody tr th:only-of-type {\n",
       "        vertical-align: middle;\n",
       "    }\n",
       "\n",
       "    .dataframe tbody tr th {\n",
       "        vertical-align: top;\n",
       "    }\n",
       "\n",
       "    .dataframe thead th {\n",
       "        text-align: right;\n",
       "    }\n",
       "</style>\n",
       "<table border=\"1\" class=\"dataframe\">\n",
       "  <thead>\n",
       "    <tr style=\"text-align: right;\">\n",
       "      <th></th>\n",
       "      <th>CoinName</th>\n",
       "      <th>Algorithm</th>\n",
       "      <th>IsTrading</th>\n",
       "      <th>ProofType</th>\n",
       "      <th>TotalCoinsMined</th>\n",
       "      <th>TotalCoinSupply</th>\n",
       "    </tr>\n",
       "  </thead>\n",
       "  <tbody>\n",
       "    <tr>\n",
       "      <th>42</th>\n",
       "      <td>42 Coin</td>\n",
       "      <td>Scrypt</td>\n",
       "      <td>True</td>\n",
       "      <td>PoW/PoS</td>\n",
       "      <td>4.199995e+01</td>\n",
       "      <td>42</td>\n",
       "    </tr>\n",
       "    <tr>\n",
       "      <th>365</th>\n",
       "      <td>365Coin</td>\n",
       "      <td>X11</td>\n",
       "      <td>True</td>\n",
       "      <td>PoW/PoS</td>\n",
       "      <td>NaN</td>\n",
       "      <td>2300000000</td>\n",
       "    </tr>\n",
       "    <tr>\n",
       "      <th>404</th>\n",
       "      <td>404Coin</td>\n",
       "      <td>Scrypt</td>\n",
       "      <td>True</td>\n",
       "      <td>PoW/PoS</td>\n",
       "      <td>1.055185e+09</td>\n",
       "      <td>532000000</td>\n",
       "    </tr>\n",
       "    <tr>\n",
       "      <th>611</th>\n",
       "      <td>SixEleven</td>\n",
       "      <td>SHA-256</td>\n",
       "      <td>True</td>\n",
       "      <td>PoW</td>\n",
       "      <td>NaN</td>\n",
       "      <td>611000</td>\n",
       "    </tr>\n",
       "    <tr>\n",
       "      <th>808</th>\n",
       "      <td>808</td>\n",
       "      <td>SHA-256</td>\n",
       "      <td>True</td>\n",
       "      <td>PoW/PoS</td>\n",
       "      <td>0.000000e+00</td>\n",
       "      <td>0</td>\n",
       "    </tr>\n",
       "  </tbody>\n",
       "</table>\n",
       "</div>"
      ],
      "text/plain": [
       "      CoinName Algorithm  IsTrading ProofType  TotalCoinsMined TotalCoinSupply\n",
       "42     42 Coin    Scrypt       True   PoW/PoS     4.199995e+01              42\n",
       "365    365Coin       X11       True   PoW/PoS              NaN      2300000000\n",
       "404    404Coin    Scrypt       True   PoW/PoS     1.055185e+09       532000000\n",
       "611  SixEleven   SHA-256       True       PoW              NaN          611000\n",
       "808        808   SHA-256       True   PoW/PoS     0.000000e+00               0"
      ]
     },
     "execution_count": 53,
     "metadata": {},
     "output_type": "execute_result"
    }
   ],
   "source": [
    "# Read in the file\n",
    "file_path = \"crypto_data.csv\"\n",
    "crypto_df = pd.read_csv(file_path, index_col=0)\n",
    "crypto_df.head()"
   ]
  },
  {
   "cell_type": "markdown",
   "metadata": {},
   "source": [
    "DATA PREPROCESSING"
   ]
  },
  {
   "cell_type": "code",
   "execution_count": 54,
   "metadata": {},
   "outputs": [
    {
     "data": {
      "text/plain": [
       "CoinName            object\n",
       "Algorithm           object\n",
       "IsTrading             bool\n",
       "ProofType           object\n",
       "TotalCoinsMined    float64\n",
       "TotalCoinSupply     object\n",
       "dtype: object"
      ]
     },
     "execution_count": 54,
     "metadata": {},
     "output_type": "execute_result"
    }
   ],
   "source": [
    "# look at what data types you are working with\n",
    "crypto_df.dtypes"
   ]
  },
  {
   "cell_type": "code",
   "execution_count": 55,
   "metadata": {},
   "outputs": [
    {
     "data": {
      "text/html": [
       "<div>\n",
       "<style scoped>\n",
       "    .dataframe tbody tr th:only-of-type {\n",
       "        vertical-align: middle;\n",
       "    }\n",
       "\n",
       "    .dataframe tbody tr th {\n",
       "        vertical-align: top;\n",
       "    }\n",
       "\n",
       "    .dataframe thead th {\n",
       "        text-align: right;\n",
       "    }\n",
       "</style>\n",
       "<table border=\"1\" class=\"dataframe\">\n",
       "  <thead>\n",
       "    <tr style=\"text-align: right;\">\n",
       "      <th></th>\n",
       "      <th>CoinName</th>\n",
       "      <th>Algorithm</th>\n",
       "      <th>IsTrading</th>\n",
       "      <th>ProofType</th>\n",
       "      <th>TotalCoinsMined</th>\n",
       "      <th>TotalCoinSupply</th>\n",
       "    </tr>\n",
       "  </thead>\n",
       "  <tbody>\n",
       "    <tr>\n",
       "      <th>42</th>\n",
       "      <td>42 Coin</td>\n",
       "      <td>Scrypt</td>\n",
       "      <td>True</td>\n",
       "      <td>PoW/PoS</td>\n",
       "      <td>4.199995e+01</td>\n",
       "      <td>42</td>\n",
       "    </tr>\n",
       "    <tr>\n",
       "      <th>365</th>\n",
       "      <td>365Coin</td>\n",
       "      <td>X11</td>\n",
       "      <td>True</td>\n",
       "      <td>PoW/PoS</td>\n",
       "      <td>NaN</td>\n",
       "      <td>2300000000</td>\n",
       "    </tr>\n",
       "    <tr>\n",
       "      <th>404</th>\n",
       "      <td>404Coin</td>\n",
       "      <td>Scrypt</td>\n",
       "      <td>True</td>\n",
       "      <td>PoW/PoS</td>\n",
       "      <td>1.055185e+09</td>\n",
       "      <td>532000000</td>\n",
       "    </tr>\n",
       "    <tr>\n",
       "      <th>611</th>\n",
       "      <td>SixEleven</td>\n",
       "      <td>SHA-256</td>\n",
       "      <td>True</td>\n",
       "      <td>PoW</td>\n",
       "      <td>NaN</td>\n",
       "      <td>611000</td>\n",
       "    </tr>\n",
       "    <tr>\n",
       "      <th>808</th>\n",
       "      <td>808</td>\n",
       "      <td>SHA-256</td>\n",
       "      <td>True</td>\n",
       "      <td>PoW/PoS</td>\n",
       "      <td>0.000000e+00</td>\n",
       "      <td>0</td>\n",
       "    </tr>\n",
       "  </tbody>\n",
       "</table>\n",
       "</div>"
      ],
      "text/plain": [
       "      CoinName Algorithm  IsTrading ProofType  TotalCoinsMined TotalCoinSupply\n",
       "42     42 Coin    Scrypt       True   PoW/PoS     4.199995e+01              42\n",
       "365    365Coin       X11       True   PoW/PoS              NaN      2300000000\n",
       "404    404Coin    Scrypt       True   PoW/PoS     1.055185e+09       532000000\n",
       "611  SixEleven   SHA-256       True       PoW              NaN          611000\n",
       "808        808   SHA-256       True   PoW/PoS     0.000000e+00               0"
      ]
     },
     "execution_count": 55,
     "metadata": {},
     "output_type": "execute_result"
    }
   ],
   "source": [
    "# Remove cryptocurrencies that aren't trading\n",
    "crypto_df.drop(crypto_df[crypto_df['IsTrading'] == False].index, inplace=True)\n",
    "crypto_df.head()"
   ]
  },
  {
   "cell_type": "code",
   "execution_count": 56,
   "metadata": {},
   "outputs": [],
   "source": [
    "# Remove all the cryptocurrencies that dont have an algorithm defined\n",
    "crypto_df = crypto_df[crypto_df.Algorithm != '']"
   ]
  },
  {
   "cell_type": "code",
   "execution_count": 57,
   "metadata": {},
   "outputs": [
    {
     "data": {
      "text/html": [
       "<div>\n",
       "<style scoped>\n",
       "    .dataframe tbody tr th:only-of-type {\n",
       "        vertical-align: middle;\n",
       "    }\n",
       "\n",
       "    .dataframe tbody tr th {\n",
       "        vertical-align: top;\n",
       "    }\n",
       "\n",
       "    .dataframe thead th {\n",
       "        text-align: right;\n",
       "    }\n",
       "</style>\n",
       "<table border=\"1\" class=\"dataframe\">\n",
       "  <thead>\n",
       "    <tr style=\"text-align: right;\">\n",
       "      <th></th>\n",
       "      <th>CoinName</th>\n",
       "      <th>Algorithm</th>\n",
       "      <th>ProofType</th>\n",
       "      <th>TotalCoinsMined</th>\n",
       "      <th>TotalCoinSupply</th>\n",
       "    </tr>\n",
       "  </thead>\n",
       "  <tbody>\n",
       "    <tr>\n",
       "      <th>42</th>\n",
       "      <td>42 Coin</td>\n",
       "      <td>Scrypt</td>\n",
       "      <td>PoW/PoS</td>\n",
       "      <td>4.199995e+01</td>\n",
       "      <td>42</td>\n",
       "    </tr>\n",
       "    <tr>\n",
       "      <th>365</th>\n",
       "      <td>365Coin</td>\n",
       "      <td>X11</td>\n",
       "      <td>PoW/PoS</td>\n",
       "      <td>NaN</td>\n",
       "      <td>2300000000</td>\n",
       "    </tr>\n",
       "    <tr>\n",
       "      <th>404</th>\n",
       "      <td>404Coin</td>\n",
       "      <td>Scrypt</td>\n",
       "      <td>PoW/PoS</td>\n",
       "      <td>1.055185e+09</td>\n",
       "      <td>532000000</td>\n",
       "    </tr>\n",
       "    <tr>\n",
       "      <th>611</th>\n",
       "      <td>SixEleven</td>\n",
       "      <td>SHA-256</td>\n",
       "      <td>PoW</td>\n",
       "      <td>NaN</td>\n",
       "      <td>611000</td>\n",
       "    </tr>\n",
       "    <tr>\n",
       "      <th>808</th>\n",
       "      <td>808</td>\n",
       "      <td>SHA-256</td>\n",
       "      <td>PoW/PoS</td>\n",
       "      <td>0.000000e+00</td>\n",
       "      <td>0</td>\n",
       "    </tr>\n",
       "  </tbody>\n",
       "</table>\n",
       "</div>"
      ],
      "text/plain": [
       "      CoinName Algorithm ProofType  TotalCoinsMined TotalCoinSupply\n",
       "42     42 Coin    Scrypt   PoW/PoS     4.199995e+01              42\n",
       "365    365Coin       X11   PoW/PoS              NaN      2300000000\n",
       "404    404Coin    Scrypt   PoW/PoS     1.055185e+09       532000000\n",
       "611  SixEleven   SHA-256       PoW              NaN          611000\n",
       "808        808   SHA-256   PoW/PoS     0.000000e+00               0"
      ]
     },
     "execution_count": 57,
     "metadata": {},
     "output_type": "execute_result"
    }
   ],
   "source": [
    "# Remove the IsTrading column\n",
    "crypto_df.drop(columns=['IsTrading'], inplace=True)\n",
    "crypto_df.head()"
   ]
  },
  {
   "cell_type": "code",
   "execution_count": 58,
   "metadata": {},
   "outputs": [
    {
     "name": "stdout",
     "output_type": "stream",
     "text": [
      "Column CoinName has 0 nullvalues\n",
      "Column Algorithm has 0 nullvalues\n",
      "Column ProofType has 0 nullvalues\n",
      "Column TotalCoinsMined has 459 nullvalues\n",
      "Column TotalCoinSupply has 0 nullvalues\n"
     ]
    }
   ],
   "source": [
    "# (null values)\n",
    "# Use isnull method to check for missing values\n",
    "# Loop through each column, check if there are null values, sum them up, and print readable total\n",
    "\n",
    "for column in crypto_df.columns:\n",
    "    print(f\"Column {column} has {crypto_df[column].isnull().sum()} nullvalues\")"
   ]
  },
  {
   "cell_type": "code",
   "execution_count": 59,
   "metadata": {},
   "outputs": [
    {
     "data": {
      "text/html": [
       "<div>\n",
       "<style scoped>\n",
       "    .dataframe tbody tr th:only-of-type {\n",
       "        vertical-align: middle;\n",
       "    }\n",
       "\n",
       "    .dataframe tbody tr th {\n",
       "        vertical-align: top;\n",
       "    }\n",
       "\n",
       "    .dataframe thead th {\n",
       "        text-align: right;\n",
       "    }\n",
       "</style>\n",
       "<table border=\"1\" class=\"dataframe\">\n",
       "  <thead>\n",
       "    <tr style=\"text-align: right;\">\n",
       "      <th></th>\n",
       "      <th>CoinName</th>\n",
       "      <th>Algorithm</th>\n",
       "      <th>ProofType</th>\n",
       "      <th>TotalCoinsMined</th>\n",
       "      <th>TotalCoinSupply</th>\n",
       "    </tr>\n",
       "  </thead>\n",
       "  <tbody>\n",
       "    <tr>\n",
       "      <th>42</th>\n",
       "      <td>42 Coin</td>\n",
       "      <td>Scrypt</td>\n",
       "      <td>PoW/PoS</td>\n",
       "      <td>4.199995e+01</td>\n",
       "      <td>42</td>\n",
       "    </tr>\n",
       "    <tr>\n",
       "      <th>404</th>\n",
       "      <td>404Coin</td>\n",
       "      <td>Scrypt</td>\n",
       "      <td>PoW/PoS</td>\n",
       "      <td>1.055185e+09</td>\n",
       "      <td>532000000</td>\n",
       "    </tr>\n",
       "    <tr>\n",
       "      <th>808</th>\n",
       "      <td>808</td>\n",
       "      <td>SHA-256</td>\n",
       "      <td>PoW/PoS</td>\n",
       "      <td>0.000000e+00</td>\n",
       "      <td>0</td>\n",
       "    </tr>\n",
       "    <tr>\n",
       "      <th>1337</th>\n",
       "      <td>EliteCoin</td>\n",
       "      <td>X13</td>\n",
       "      <td>PoW/PoS</td>\n",
       "      <td>2.927942e+10</td>\n",
       "      <td>314159265359</td>\n",
       "    </tr>\n",
       "    <tr>\n",
       "      <th>BTC</th>\n",
       "      <td>Bitcoin</td>\n",
       "      <td>SHA-256</td>\n",
       "      <td>PoW</td>\n",
       "      <td>1.792718e+07</td>\n",
       "      <td>21000000</td>\n",
       "    </tr>\n",
       "  </tbody>\n",
       "</table>\n",
       "</div>"
      ],
      "text/plain": [
       "       CoinName Algorithm ProofType  TotalCoinsMined TotalCoinSupply\n",
       "42      42 Coin    Scrypt   PoW/PoS     4.199995e+01              42\n",
       "404     404Coin    Scrypt   PoW/PoS     1.055185e+09       532000000\n",
       "808         808   SHA-256   PoW/PoS     0.000000e+00               0\n",
       "1337  EliteCoin       X13   PoW/PoS     2.927942e+10    314159265359\n",
       "BTC     Bitcoin   SHA-256       PoW     1.792718e+07        21000000"
      ]
     },
     "execution_count": 59,
     "metadata": {},
     "output_type": "execute_result"
    }
   ],
   "source": [
    "# Remove all cryptocurrencies with at least one null value\n",
    "crypto_df = crypto_df.dropna()\n",
    "crypto_df.head()"
   ]
  },
  {
   "cell_type": "code",
   "execution_count": 60,
   "metadata": {},
   "outputs": [
    {
     "data": {
      "text/html": [
       "<div>\n",
       "<style scoped>\n",
       "    .dataframe tbody tr th:only-of-type {\n",
       "        vertical-align: middle;\n",
       "    }\n",
       "\n",
       "    .dataframe tbody tr th {\n",
       "        vertical-align: top;\n",
       "    }\n",
       "\n",
       "    .dataframe thead th {\n",
       "        text-align: right;\n",
       "    }\n",
       "</style>\n",
       "<table border=\"1\" class=\"dataframe\">\n",
       "  <thead>\n",
       "    <tr style=\"text-align: right;\">\n",
       "      <th></th>\n",
       "      <th>CoinName</th>\n",
       "      <th>Algorithm</th>\n",
       "      <th>ProofType</th>\n",
       "      <th>TotalCoinsMined</th>\n",
       "      <th>TotalCoinSupply</th>\n",
       "    </tr>\n",
       "  </thead>\n",
       "  <tbody>\n",
       "    <tr>\n",
       "      <th>42</th>\n",
       "      <td>42 Coin</td>\n",
       "      <td>Scrypt</td>\n",
       "      <td>PoW/PoS</td>\n",
       "      <td>4.199995e+01</td>\n",
       "      <td>42</td>\n",
       "    </tr>\n",
       "    <tr>\n",
       "      <th>404</th>\n",
       "      <td>404Coin</td>\n",
       "      <td>Scrypt</td>\n",
       "      <td>PoW/PoS</td>\n",
       "      <td>1.055185e+09</td>\n",
       "      <td>532000000</td>\n",
       "    </tr>\n",
       "    <tr>\n",
       "      <th>1337</th>\n",
       "      <td>EliteCoin</td>\n",
       "      <td>X13</td>\n",
       "      <td>PoW/PoS</td>\n",
       "      <td>2.927942e+10</td>\n",
       "      <td>314159265359</td>\n",
       "    </tr>\n",
       "    <tr>\n",
       "      <th>BTC</th>\n",
       "      <td>Bitcoin</td>\n",
       "      <td>SHA-256</td>\n",
       "      <td>PoW</td>\n",
       "      <td>1.792718e+07</td>\n",
       "      <td>21000000</td>\n",
       "    </tr>\n",
       "    <tr>\n",
       "      <th>ETH</th>\n",
       "      <td>Ethereum</td>\n",
       "      <td>Ethash</td>\n",
       "      <td>PoW</td>\n",
       "      <td>1.076842e+08</td>\n",
       "      <td>0</td>\n",
       "    </tr>\n",
       "  </tbody>\n",
       "</table>\n",
       "</div>"
      ],
      "text/plain": [
       "       CoinName Algorithm ProofType  TotalCoinsMined TotalCoinSupply\n",
       "42      42 Coin    Scrypt   PoW/PoS     4.199995e+01              42\n",
       "404     404Coin    Scrypt   PoW/PoS     1.055185e+09       532000000\n",
       "1337  EliteCoin       X13   PoW/PoS     2.927942e+10    314159265359\n",
       "BTC     Bitcoin   SHA-256       PoW     1.792718e+07        21000000\n",
       "ETH    Ethereum    Ethash       PoW     1.076842e+08               0"
      ]
     },
     "execution_count": 60,
     "metadata": {},
     "output_type": "execute_result"
    }
   ],
   "source": [
    "# Remove all cryptocurrencies without coins mined\n",
    "crypto_df = crypto_df[crypto_df['TotalCoinsMined']>0]\n",
    "crypto_df.head()"
   ]
  },
  {
   "cell_type": "code",
   "execution_count": 61,
   "metadata": {},
   "outputs": [
    {
     "data": {
      "text/html": [
       "<div>\n",
       "<style scoped>\n",
       "    .dataframe tbody tr th:only-of-type {\n",
       "        vertical-align: middle;\n",
       "    }\n",
       "\n",
       "    .dataframe tbody tr th {\n",
       "        vertical-align: top;\n",
       "    }\n",
       "\n",
       "    .dataframe thead th {\n",
       "        text-align: right;\n",
       "    }\n",
       "</style>\n",
       "<table border=\"1\" class=\"dataframe\">\n",
       "  <thead>\n",
       "    <tr style=\"text-align: right;\">\n",
       "      <th></th>\n",
       "      <th>CoinName</th>\n",
       "    </tr>\n",
       "  </thead>\n",
       "  <tbody>\n",
       "    <tr>\n",
       "      <th>42</th>\n",
       "      <td>42 Coin</td>\n",
       "    </tr>\n",
       "    <tr>\n",
       "      <th>404</th>\n",
       "      <td>404Coin</td>\n",
       "    </tr>\n",
       "    <tr>\n",
       "      <th>1337</th>\n",
       "      <td>EliteCoin</td>\n",
       "    </tr>\n",
       "    <tr>\n",
       "      <th>BTC</th>\n",
       "      <td>Bitcoin</td>\n",
       "    </tr>\n",
       "    <tr>\n",
       "      <th>ETH</th>\n",
       "      <td>Ethereum</td>\n",
       "    </tr>\n",
       "  </tbody>\n",
       "</table>\n",
       "</div>"
      ],
      "text/plain": [
       "       CoinName\n",
       "42      42 Coin\n",
       "404     404Coin\n",
       "1337  EliteCoin\n",
       "BTC     Bitcoin\n",
       "ETH    Ethereum"
      ]
     },
     "execution_count": 61,
     "metadata": {},
     "output_type": "execute_result"
    }
   ],
   "source": [
    "# Store the names of all cryptocurrencies on a DataFramed named coins_name\n",
    "coins_name = pd.DataFrame([crypto_df.CoinName]).transpose()\n",
    "coins_name.head()"
   ]
  },
  {
   "cell_type": "code",
   "execution_count": 62,
   "metadata": {},
   "outputs": [],
   "source": [
    "# use the crypto_df.index as the index for this new DataFrame.\n",
    "# coins_name.set_index(crypto_df['Unnamed: 0'])"
   ]
  },
  {
   "cell_type": "code",
   "execution_count": 63,
   "metadata": {},
   "outputs": [
    {
     "data": {
      "text/html": [
       "<div>\n",
       "<style scoped>\n",
       "    .dataframe tbody tr th:only-of-type {\n",
       "        vertical-align: middle;\n",
       "    }\n",
       "\n",
       "    .dataframe tbody tr th {\n",
       "        vertical-align: top;\n",
       "    }\n",
       "\n",
       "    .dataframe thead th {\n",
       "        text-align: right;\n",
       "    }\n",
       "</style>\n",
       "<table border=\"1\" class=\"dataframe\">\n",
       "  <thead>\n",
       "    <tr style=\"text-align: right;\">\n",
       "      <th></th>\n",
       "      <th>Algorithm</th>\n",
       "      <th>ProofType</th>\n",
       "      <th>TotalCoinsMined</th>\n",
       "      <th>TotalCoinSupply</th>\n",
       "    </tr>\n",
       "  </thead>\n",
       "  <tbody>\n",
       "    <tr>\n",
       "      <th>42</th>\n",
       "      <td>Scrypt</td>\n",
       "      <td>PoW/PoS</td>\n",
       "      <td>4.199995e+01</td>\n",
       "      <td>42</td>\n",
       "    </tr>\n",
       "    <tr>\n",
       "      <th>404</th>\n",
       "      <td>Scrypt</td>\n",
       "      <td>PoW/PoS</td>\n",
       "      <td>1.055185e+09</td>\n",
       "      <td>532000000</td>\n",
       "    </tr>\n",
       "    <tr>\n",
       "      <th>1337</th>\n",
       "      <td>X13</td>\n",
       "      <td>PoW/PoS</td>\n",
       "      <td>2.927942e+10</td>\n",
       "      <td>314159265359</td>\n",
       "    </tr>\n",
       "    <tr>\n",
       "      <th>BTC</th>\n",
       "      <td>SHA-256</td>\n",
       "      <td>PoW</td>\n",
       "      <td>1.792718e+07</td>\n",
       "      <td>21000000</td>\n",
       "    </tr>\n",
       "    <tr>\n",
       "      <th>ETH</th>\n",
       "      <td>Ethash</td>\n",
       "      <td>PoW</td>\n",
       "      <td>1.076842e+08</td>\n",
       "      <td>0</td>\n",
       "    </tr>\n",
       "  </tbody>\n",
       "</table>\n",
       "</div>"
      ],
      "text/plain": [
       "     Algorithm ProofType  TotalCoinsMined TotalCoinSupply\n",
       "42      Scrypt   PoW/PoS     4.199995e+01              42\n",
       "404     Scrypt   PoW/PoS     1.055185e+09       532000000\n",
       "1337       X13   PoW/PoS     2.927942e+10    314159265359\n",
       "BTC    SHA-256       PoW     1.792718e+07        21000000\n",
       "ETH     Ethash       PoW     1.076842e+08               0"
      ]
     },
     "execution_count": 63,
     "metadata": {},
     "output_type": "execute_result"
    }
   ],
   "source": [
    "# Remove the CoinName column.\n",
    "crypto_df.drop(columns=[\"CoinName\"], inplace=True)\n",
    "crypto_df.head()"
   ]
  },
  {
   "cell_type": "code",
   "execution_count": 64,
   "metadata": {},
   "outputs": [
    {
     "data": {
      "text/html": [
       "<div>\n",
       "<style scoped>\n",
       "    .dataframe tbody tr th:only-of-type {\n",
       "        vertical-align: middle;\n",
       "    }\n",
       "\n",
       "    .dataframe tbody tr th {\n",
       "        vertical-align: top;\n",
       "    }\n",
       "\n",
       "    .dataframe thead th {\n",
       "        text-align: right;\n",
       "    }\n",
       "</style>\n",
       "<table border=\"1\" class=\"dataframe\">\n",
       "  <thead>\n",
       "    <tr style=\"text-align: right;\">\n",
       "      <th></th>\n",
       "      <th>TotalCoinsMined</th>\n",
       "      <th>TotalCoinSupply</th>\n",
       "      <th>Algorithm_1GB AES Pattern Search</th>\n",
       "      <th>Algorithm_536</th>\n",
       "      <th>Algorithm_Argon2d</th>\n",
       "      <th>Algorithm_BLAKE256</th>\n",
       "      <th>Algorithm_Blake</th>\n",
       "      <th>Algorithm_Blake2S</th>\n",
       "      <th>Algorithm_Blake2b</th>\n",
       "      <th>Algorithm_C11</th>\n",
       "      <th>...</th>\n",
       "      <th>ProofType_PoW/PoS</th>\n",
       "      <th>ProofType_PoW/PoS</th>\n",
       "      <th>ProofType_PoW/PoW</th>\n",
       "      <th>ProofType_PoW/nPoS</th>\n",
       "      <th>ProofType_Pos</th>\n",
       "      <th>ProofType_Proof of Authority</th>\n",
       "      <th>ProofType_Proof of Trust</th>\n",
       "      <th>ProofType_TPoS</th>\n",
       "      <th>ProofType_Zero-Knowledge Proof</th>\n",
       "      <th>ProofType_dPoW/PoW</th>\n",
       "    </tr>\n",
       "  </thead>\n",
       "  <tbody>\n",
       "    <tr>\n",
       "      <th>42</th>\n",
       "      <td>4.199995e+01</td>\n",
       "      <td>42</td>\n",
       "      <td>0</td>\n",
       "      <td>0</td>\n",
       "      <td>0</td>\n",
       "      <td>0</td>\n",
       "      <td>0</td>\n",
       "      <td>0</td>\n",
       "      <td>0</td>\n",
       "      <td>0</td>\n",
       "      <td>...</td>\n",
       "      <td>1</td>\n",
       "      <td>0</td>\n",
       "      <td>0</td>\n",
       "      <td>0</td>\n",
       "      <td>0</td>\n",
       "      <td>0</td>\n",
       "      <td>0</td>\n",
       "      <td>0</td>\n",
       "      <td>0</td>\n",
       "      <td>0</td>\n",
       "    </tr>\n",
       "    <tr>\n",
       "      <th>404</th>\n",
       "      <td>1.055185e+09</td>\n",
       "      <td>532000000</td>\n",
       "      <td>0</td>\n",
       "      <td>0</td>\n",
       "      <td>0</td>\n",
       "      <td>0</td>\n",
       "      <td>0</td>\n",
       "      <td>0</td>\n",
       "      <td>0</td>\n",
       "      <td>0</td>\n",
       "      <td>...</td>\n",
       "      <td>1</td>\n",
       "      <td>0</td>\n",
       "      <td>0</td>\n",
       "      <td>0</td>\n",
       "      <td>0</td>\n",
       "      <td>0</td>\n",
       "      <td>0</td>\n",
       "      <td>0</td>\n",
       "      <td>0</td>\n",
       "      <td>0</td>\n",
       "    </tr>\n",
       "    <tr>\n",
       "      <th>1337</th>\n",
       "      <td>2.927942e+10</td>\n",
       "      <td>314159265359</td>\n",
       "      <td>0</td>\n",
       "      <td>0</td>\n",
       "      <td>0</td>\n",
       "      <td>0</td>\n",
       "      <td>0</td>\n",
       "      <td>0</td>\n",
       "      <td>0</td>\n",
       "      <td>0</td>\n",
       "      <td>...</td>\n",
       "      <td>1</td>\n",
       "      <td>0</td>\n",
       "      <td>0</td>\n",
       "      <td>0</td>\n",
       "      <td>0</td>\n",
       "      <td>0</td>\n",
       "      <td>0</td>\n",
       "      <td>0</td>\n",
       "      <td>0</td>\n",
       "      <td>0</td>\n",
       "    </tr>\n",
       "    <tr>\n",
       "      <th>BTC</th>\n",
       "      <td>1.792718e+07</td>\n",
       "      <td>21000000</td>\n",
       "      <td>0</td>\n",
       "      <td>0</td>\n",
       "      <td>0</td>\n",
       "      <td>0</td>\n",
       "      <td>0</td>\n",
       "      <td>0</td>\n",
       "      <td>0</td>\n",
       "      <td>0</td>\n",
       "      <td>...</td>\n",
       "      <td>0</td>\n",
       "      <td>0</td>\n",
       "      <td>0</td>\n",
       "      <td>0</td>\n",
       "      <td>0</td>\n",
       "      <td>0</td>\n",
       "      <td>0</td>\n",
       "      <td>0</td>\n",
       "      <td>0</td>\n",
       "      <td>0</td>\n",
       "    </tr>\n",
       "    <tr>\n",
       "      <th>ETH</th>\n",
       "      <td>1.076842e+08</td>\n",
       "      <td>0</td>\n",
       "      <td>0</td>\n",
       "      <td>0</td>\n",
       "      <td>0</td>\n",
       "      <td>0</td>\n",
       "      <td>0</td>\n",
       "      <td>0</td>\n",
       "      <td>0</td>\n",
       "      <td>0</td>\n",
       "      <td>...</td>\n",
       "      <td>0</td>\n",
       "      <td>0</td>\n",
       "      <td>0</td>\n",
       "      <td>0</td>\n",
       "      <td>0</td>\n",
       "      <td>0</td>\n",
       "      <td>0</td>\n",
       "      <td>0</td>\n",
       "      <td>0</td>\n",
       "      <td>0</td>\n",
       "    </tr>\n",
       "  </tbody>\n",
       "</table>\n",
       "<p>5 rows × 98 columns</p>\n",
       "</div>"
      ],
      "text/plain": [
       "      TotalCoinsMined TotalCoinSupply  Algorithm_1GB AES Pattern Search  \\\n",
       "42       4.199995e+01              42                                 0   \n",
       "404      1.055185e+09       532000000                                 0   \n",
       "1337     2.927942e+10    314159265359                                 0   \n",
       "BTC      1.792718e+07        21000000                                 0   \n",
       "ETH      1.076842e+08               0                                 0   \n",
       "\n",
       "      Algorithm_536  Algorithm_Argon2d  Algorithm_BLAKE256  Algorithm_Blake  \\\n",
       "42                0                  0                   0                0   \n",
       "404               0                  0                   0                0   \n",
       "1337              0                  0                   0                0   \n",
       "BTC               0                  0                   0                0   \n",
       "ETH               0                  0                   0                0   \n",
       "\n",
       "      Algorithm_Blake2S  Algorithm_Blake2b  Algorithm_C11  ...  \\\n",
       "42                    0                  0              0  ...   \n",
       "404                   0                  0              0  ...   \n",
       "1337                  0                  0              0  ...   \n",
       "BTC                   0                  0              0  ...   \n",
       "ETH                   0                  0              0  ...   \n",
       "\n",
       "      ProofType_PoW/PoS  ProofType_PoW/PoS   ProofType_PoW/PoW  \\\n",
       "42                    1                   0                  0   \n",
       "404                   1                   0                  0   \n",
       "1337                  1                   0                  0   \n",
       "BTC                   0                   0                  0   \n",
       "ETH                   0                   0                  0   \n",
       "\n",
       "      ProofType_PoW/nPoS  ProofType_Pos  ProofType_Proof of Authority  \\\n",
       "42                     0              0                             0   \n",
       "404                    0              0                             0   \n",
       "1337                   0              0                             0   \n",
       "BTC                    0              0                             0   \n",
       "ETH                    0              0                             0   \n",
       "\n",
       "      ProofType_Proof of Trust  ProofType_TPoS  \\\n",
       "42                           0               0   \n",
       "404                          0               0   \n",
       "1337                         0               0   \n",
       "BTC                          0               0   \n",
       "ETH                          0               0   \n",
       "\n",
       "      ProofType_Zero-Knowledge Proof  ProofType_dPoW/PoW  \n",
       "42                                 0                   0  \n",
       "404                                0                   0  \n",
       "1337                               0                   0  \n",
       "BTC                                0                   0  \n",
       "ETH                                0                   0  \n",
       "\n",
       "[5 rows x 98 columns]"
      ]
     },
     "execution_count": 64,
     "metadata": {},
     "output_type": "execute_result"
    }
   ],
   "source": [
    "# Create dummies variables for all of the text features, and store the resulting data on a DataFrame named X.\n",
    "X = pd.get_dummies(crypto_df, columns=['Algorithm', 'ProofType'])\n",
    "X.head()"
   ]
  },
  {
   "cell_type": "code",
   "execution_count": 65,
   "metadata": {},
   "outputs": [
    {
     "data": {
      "text/plain": [
       "array([[-0.11710817, -0.1528703 , -0.0433963 , -0.0433963 , -0.0433963 ,\n",
       "        -0.06142951, -0.07530656, -0.0433963 , -0.06142951, -0.06142951,\n",
       "        -0.0433963 , -0.0433963 , -0.19245009, -0.06142951, -0.09740465,\n",
       "        -0.0433963 , -0.11547005, -0.07530656, -0.0433963 , -0.0433963 ,\n",
       "        -0.15191091, -0.0433963 , -0.13118084, -0.0433963 , -0.0433963 ,\n",
       "        -0.08703883, -0.0433963 , -0.0433963 , -0.0433963 , -0.0433963 ,\n",
       "        -0.06142951, -0.0433963 , -0.08703883, -0.08703883, -0.08703883,\n",
       "        -0.0433963 , -0.13118084, -0.13840913, -0.13840913, -0.0433963 ,\n",
       "        -0.06142951, -0.0433963 , -0.07530656, -0.18168574, -0.0433963 ,\n",
       "        -0.0433963 , -0.0433963 , -0.07530656, -0.15826614, -0.31491833,\n",
       "        -0.0433963 , -0.08703883, -0.07530656, -0.06142951,  1.38675049,\n",
       "        -0.0433963 , -0.0433963 , -0.06142951, -0.0433963 , -0.0433963 ,\n",
       "        -0.0433963 , -0.0433963 , -0.0433963 , -0.0433963 , -0.0433963 ,\n",
       "        -0.0433963 , -0.39879994, -0.0433963 , -0.18168574, -0.0433963 ,\n",
       "        -0.08703883, -0.08703883, -0.10680283, -0.0433963 , -0.13118084,\n",
       "        -0.0433963 , -0.0433963 , -0.0433963 , -0.0433963 , -0.07530656,\n",
       "        -0.43911856, -0.0433963 , -0.06142951, -0.0433963 , -0.0433963 ,\n",
       "        -0.89632016, -0.0433963 , -0.0433963 ,  1.42222617, -0.0433963 ,\n",
       "        -0.0433963 , -0.0433963 , -0.0433963 , -0.0433963 , -0.0433963 ,\n",
       "        -0.0433963 , -0.0433963 , -0.0433963 ],\n",
       "       [-0.09396955, -0.145009  , -0.0433963 , -0.0433963 , -0.0433963 ,\n",
       "        -0.06142951, -0.07530656, -0.0433963 , -0.06142951, -0.06142951,\n",
       "        -0.0433963 , -0.0433963 , -0.19245009, -0.06142951, -0.09740465,\n",
       "        -0.0433963 , -0.11547005, -0.07530656, -0.0433963 , -0.0433963 ,\n",
       "        -0.15191091, -0.0433963 , -0.13118084, -0.0433963 , -0.0433963 ,\n",
       "        -0.08703883, -0.0433963 , -0.0433963 , -0.0433963 , -0.0433963 ,\n",
       "        -0.06142951, -0.0433963 , -0.08703883, -0.08703883, -0.08703883,\n",
       "        -0.0433963 , -0.13118084, -0.13840913, -0.13840913, -0.0433963 ,\n",
       "        -0.06142951, -0.0433963 , -0.07530656, -0.18168574, -0.0433963 ,\n",
       "        -0.0433963 , -0.0433963 , -0.07530656, -0.15826614, -0.31491833,\n",
       "        -0.0433963 , -0.08703883, -0.07530656, -0.06142951,  1.38675049,\n",
       "        -0.0433963 , -0.0433963 , -0.06142951, -0.0433963 , -0.0433963 ,\n",
       "        -0.0433963 , -0.0433963 , -0.0433963 , -0.0433963 , -0.0433963 ,\n",
       "        -0.0433963 , -0.39879994, -0.0433963 , -0.18168574, -0.0433963 ,\n",
       "        -0.08703883, -0.08703883, -0.10680283, -0.0433963 , -0.13118084,\n",
       "        -0.0433963 , -0.0433963 , -0.0433963 , -0.0433963 , -0.07530656,\n",
       "        -0.43911856, -0.0433963 , -0.06142951, -0.0433963 , -0.0433963 ,\n",
       "        -0.89632016, -0.0433963 , -0.0433963 ,  1.42222617, -0.0433963 ,\n",
       "        -0.0433963 , -0.0433963 , -0.0433963 , -0.0433963 , -0.0433963 ,\n",
       "        -0.0433963 , -0.0433963 , -0.0433963 ],\n",
       "       [ 0.52494561,  4.48942416, -0.0433963 , -0.0433963 , -0.0433963 ,\n",
       "        -0.06142951, -0.07530656, -0.0433963 , -0.06142951, -0.06142951,\n",
       "        -0.0433963 , -0.0433963 , -0.19245009, -0.06142951, -0.09740465,\n",
       "        -0.0433963 , -0.11547005, -0.07530656, -0.0433963 , -0.0433963 ,\n",
       "        -0.15191091, -0.0433963 , -0.13118084, -0.0433963 , -0.0433963 ,\n",
       "        -0.08703883, -0.0433963 , -0.0433963 , -0.0433963 , -0.0433963 ,\n",
       "        -0.06142951, -0.0433963 , -0.08703883, -0.08703883, -0.08703883,\n",
       "        -0.0433963 , -0.13118084, -0.13840913, -0.13840913, -0.0433963 ,\n",
       "        -0.06142951, -0.0433963 , -0.07530656, -0.18168574, -0.0433963 ,\n",
       "        -0.0433963 , -0.0433963 , -0.07530656, -0.15826614, -0.31491833,\n",
       "        -0.0433963 , -0.08703883, -0.07530656, -0.06142951, -0.72111026,\n",
       "        -0.0433963 , -0.0433963 , -0.06142951, -0.0433963 , -0.0433963 ,\n",
       "        -0.0433963 , -0.0433963 , -0.0433963 , -0.0433963 , -0.0433963 ,\n",
       "        -0.0433963 , -0.39879994, -0.0433963 ,  5.50400923, -0.0433963 ,\n",
       "        -0.08703883, -0.08703883, -0.10680283, -0.0433963 , -0.13118084,\n",
       "        -0.0433963 , -0.0433963 , -0.0433963 , -0.0433963 , -0.07530656,\n",
       "        -0.43911856, -0.0433963 , -0.06142951, -0.0433963 , -0.0433963 ,\n",
       "        -0.89632016, -0.0433963 , -0.0433963 ,  1.42222617, -0.0433963 ,\n",
       "        -0.0433963 , -0.0433963 , -0.0433963 , -0.0433963 , -0.0433963 ,\n",
       "        -0.0433963 , -0.0433963 , -0.0433963 ],\n",
       "       [-0.11671506, -0.15255998, -0.0433963 , -0.0433963 , -0.0433963 ,\n",
       "        -0.06142951, -0.07530656, -0.0433963 , -0.06142951, -0.06142951,\n",
       "        -0.0433963 , -0.0433963 , -0.19245009, -0.06142951, -0.09740465,\n",
       "        -0.0433963 , -0.11547005, -0.07530656, -0.0433963 , -0.0433963 ,\n",
       "        -0.15191091, -0.0433963 , -0.13118084, -0.0433963 , -0.0433963 ,\n",
       "        -0.08703883, -0.0433963 , -0.0433963 , -0.0433963 , -0.0433963 ,\n",
       "        -0.06142951, -0.0433963 , -0.08703883, -0.08703883, -0.08703883,\n",
       "        -0.0433963 , -0.13118084, -0.13840913, -0.13840913, -0.0433963 ,\n",
       "        -0.06142951, -0.0433963 , -0.07530656, -0.18168574, -0.0433963 ,\n",
       "        -0.0433963 , -0.0433963 , -0.07530656, -0.15826614,  3.17542648,\n",
       "        -0.0433963 , -0.08703883, -0.07530656, -0.06142951, -0.72111026,\n",
       "        -0.0433963 , -0.0433963 , -0.06142951, -0.0433963 , -0.0433963 ,\n",
       "        -0.0433963 , -0.0433963 , -0.0433963 , -0.0433963 , -0.0433963 ,\n",
       "        -0.0433963 , -0.39879994, -0.0433963 , -0.18168574, -0.0433963 ,\n",
       "        -0.08703883, -0.08703883, -0.10680283, -0.0433963 , -0.13118084,\n",
       "        -0.0433963 , -0.0433963 , -0.0433963 , -0.0433963 , -0.07530656,\n",
       "        -0.43911856, -0.0433963 , -0.06142951, -0.0433963 , -0.0433963 ,\n",
       "         1.11567277, -0.0433963 , -0.0433963 , -0.70312305, -0.0433963 ,\n",
       "        -0.0433963 , -0.0433963 , -0.0433963 , -0.0433963 , -0.0433963 ,\n",
       "        -0.0433963 , -0.0433963 , -0.0433963 ],\n",
       "       [-0.11474682, -0.1528703 , -0.0433963 , -0.0433963 , -0.0433963 ,\n",
       "        -0.06142951, -0.07530656, -0.0433963 , -0.06142951, -0.06142951,\n",
       "        -0.0433963 , -0.0433963 , -0.19245009, -0.06142951, -0.09740465,\n",
       "        -0.0433963 , -0.11547005, -0.07530656, -0.0433963 , -0.0433963 ,\n",
       "        -0.15191091, -0.0433963 ,  7.62306442, -0.0433963 , -0.0433963 ,\n",
       "        -0.08703883, -0.0433963 , -0.0433963 , -0.0433963 , -0.0433963 ,\n",
       "        -0.06142951, -0.0433963 , -0.08703883, -0.08703883, -0.08703883,\n",
       "        -0.0433963 , -0.13118084, -0.13840913, -0.13840913, -0.0433963 ,\n",
       "        -0.06142951, -0.0433963 , -0.07530656, -0.18168574, -0.0433963 ,\n",
       "        -0.0433963 , -0.0433963 , -0.07530656, -0.15826614, -0.31491833,\n",
       "        -0.0433963 , -0.08703883, -0.07530656, -0.06142951, -0.72111026,\n",
       "        -0.0433963 , -0.0433963 , -0.06142951, -0.0433963 , -0.0433963 ,\n",
       "        -0.0433963 , -0.0433963 , -0.0433963 , -0.0433963 , -0.0433963 ,\n",
       "        -0.0433963 , -0.39879994, -0.0433963 , -0.18168574, -0.0433963 ,\n",
       "        -0.08703883, -0.08703883, -0.10680283, -0.0433963 , -0.13118084,\n",
       "        -0.0433963 , -0.0433963 , -0.0433963 , -0.0433963 , -0.07530656,\n",
       "        -0.43911856, -0.0433963 , -0.06142951, -0.0433963 , -0.0433963 ,\n",
       "         1.11567277, -0.0433963 , -0.0433963 , -0.70312305, -0.0433963 ,\n",
       "        -0.0433963 , -0.0433963 , -0.0433963 , -0.0433963 , -0.0433963 ,\n",
       "        -0.0433963 , -0.0433963 , -0.0433963 ]])"
      ]
     },
     "execution_count": 65,
     "metadata": {},
     "output_type": "execute_result"
    }
   ],
   "source": [
    "# Standardize the data\n",
    "X = StandardScaler().fit_transform(X)\n",
    "X[:5]"
   ]
  },
  {
   "cell_type": "markdown",
   "metadata": {},
   "source": [
    "REDUCING DATA DIMENSIONS USING PCA"
   ]
  },
  {
   "cell_type": "code",
   "execution_count": 66,
   "metadata": {},
   "outputs": [],
   "source": [
    "# reduce it to 3 dimensions\n",
    "essentialEigenVectors = PCA(n_components=3)"
   ]
  },
  {
   "cell_type": "code",
   "execution_count": 67,
   "metadata": {},
   "outputs": [
    {
     "data": {
      "text/plain": [
       "PCA(n_components=3)"
      ]
     },
     "execution_count": 67,
     "metadata": {},
     "output_type": "execute_result"
    }
   ],
   "source": [
    "essentialEigenVectors.fit(X)"
   ]
  },
  {
   "cell_type": "code",
   "execution_count": 68,
   "metadata": {},
   "outputs": [
    {
     "name": "stdout",
     "output_type": "stream",
     "text": [
      "[0.02792059 0.02136095 0.02049865]\n"
     ]
    }
   ],
   "source": [
    "print(essentialEigenVectors.explained_variance_ratio_)"
   ]
  },
  {
   "cell_type": "code",
   "execution_count": 69,
   "metadata": {},
   "outputs": [],
   "source": [
    "pcs = essentialEigenVectors.transform(X)"
   ]
  },
  {
   "cell_type": "code",
   "execution_count": 70,
   "metadata": {},
   "outputs": [
    {
     "data": {
      "text/html": [
       "<div>\n",
       "<style scoped>\n",
       "    .dataframe tbody tr th:only-of-type {\n",
       "        vertical-align: middle;\n",
       "    }\n",
       "\n",
       "    .dataframe tbody tr th {\n",
       "        vertical-align: top;\n",
       "    }\n",
       "\n",
       "    .dataframe thead th {\n",
       "        text-align: right;\n",
       "    }\n",
       "</style>\n",
       "<table border=\"1\" class=\"dataframe\">\n",
       "  <thead>\n",
       "    <tr style=\"text-align: right;\">\n",
       "      <th></th>\n",
       "      <th>pc1</th>\n",
       "      <th>pc2</th>\n",
       "      <th>pcs3</th>\n",
       "    </tr>\n",
       "  </thead>\n",
       "  <tbody>\n",
       "    <tr>\n",
       "      <th>42</th>\n",
       "      <td>-0.302826</td>\n",
       "      <td>0.900306</td>\n",
       "      <td>-0.550951</td>\n",
       "    </tr>\n",
       "    <tr>\n",
       "      <th>404</th>\n",
       "      <td>-0.286205</td>\n",
       "      <td>0.900530</td>\n",
       "      <td>-0.551477</td>\n",
       "    </tr>\n",
       "    <tr>\n",
       "      <th>1337</th>\n",
       "      <td>2.317847</td>\n",
       "      <td>1.585897</td>\n",
       "      <td>-0.631227</td>\n",
       "    </tr>\n",
       "    <tr>\n",
       "      <th>BTC</th>\n",
       "      <td>-0.156913</td>\n",
       "      <td>-1.284662</td>\n",
       "      <td>0.199533</td>\n",
       "    </tr>\n",
       "    <tr>\n",
       "      <th>ETH</th>\n",
       "      <td>-0.172724</td>\n",
       "      <td>-1.960039</td>\n",
       "      <td>0.374533</td>\n",
       "    </tr>\n",
       "  </tbody>\n",
       "</table>\n",
       "</div>"
      ],
      "text/plain": [
       "           pc1       pc2      pcs3\n",
       "42   -0.302826  0.900306 -0.550951\n",
       "404  -0.286205  0.900530 -0.551477\n",
       "1337  2.317847  1.585897 -0.631227\n",
       "BTC  -0.156913 -1.284662  0.199533\n",
       "ETH  -0.172724 -1.960039  0.374533"
      ]
     },
     "execution_count": 70,
     "metadata": {},
     "output_type": "execute_result"
    }
   ],
   "source": [
    "pcs_df = pd.DataFrame(pcs, index=crypto_df.index, columns=['pc1', 'pc2', 'pcs3'])\n",
    "pcs_df.head()"
   ]
  },
  {
   "cell_type": "markdown",
   "metadata": {},
   "source": [
    "CLUSTERING CRYPTOCURRENCIES USING K-MEANS"
   ]
  },
  {
   "cell_type": "code",
   "execution_count": 88,
   "metadata": {},
   "outputs": [
    {
     "data": {},
     "metadata": {},
     "output_type": "display_data"
    },
    {
     "data": {
      "application/vnd.holoviews_exec.v0+json": "",
      "text/html": [
       "<div id='1102'>\n",
       "\n",
       "\n",
       "\n",
       "\n",
       "\n",
       "  <div class=\"bk-root\" id=\"fc4290c6-ccdb-4894-9b27-ec5dcdce4ce0\" data-root-id=\"1102\"></div>\n",
       "</div>\n",
       "<script type=\"application/javascript\">(function(root) {\n",
       "  function embed_document(root) {\n",
       "  var docs_json = {\"09bb8da6-a2dd-482e-8f27-3b718bb25f5c\":{\"roots\":{\"references\":[{\"attributes\":{\"overlay\":{\"id\":\"1129\"}},\"id\":\"1127\",\"type\":\"BoxZoomTool\"},{\"attributes\":{\"axis\":{\"id\":\"1116\"},\"grid_line_color\":null,\"ticker\":null},\"id\":\"1119\",\"type\":\"Grid\"},{\"attributes\":{},\"id\":\"1138\",\"type\":\"Selection\"},{\"attributes\":{},\"id\":\"1125\",\"type\":\"PanTool\"},{\"attributes\":{\"margin\":[5,5,5,5],\"name\":\"HSpacer01703\",\"sizing_mode\":\"stretch_width\"},\"id\":\"1103\",\"type\":\"Spacer\"},{\"attributes\":{\"callback\":null,\"renderers\":[{\"id\":\"1143\"}],\"tags\":[\"hv_created\"],\"tooltips\":[[\"k\",\"@{k}\"],[\"inertia\",\"@{inertia}\"]]},\"id\":\"1106\",\"type\":\"HoverTool\"},{\"attributes\":{},\"id\":\"1128\",\"type\":\"ResetTool\"},{\"attributes\":{\"line_alpha\":0.2,\"line_color\":\"#1f77b3\",\"line_width\":2,\"x\":{\"field\":\"k\"},\"y\":{\"field\":\"inertia\"}},\"id\":\"1142\",\"type\":\"Line\"},{\"attributes\":{\"ticks\":[1,2,3,4,5,6,7,8,9,10]},\"id\":\"1145\",\"type\":\"FixedTicker\"},{\"attributes\":{\"axis_label\":\"inertia\",\"bounds\":\"auto\",\"formatter\":{\"id\":\"1151\"},\"major_label_orientation\":\"horizontal\",\"ticker\":{\"id\":\"1121\"}},\"id\":\"1120\",\"type\":\"LinearAxis\"},{\"attributes\":{\"data\":{\"inertia\":{\"__ndarray__\":\"39h5nw0jwEALWaKckLCtQP6XH+S0laRAmppKGRbhmUDcHOC4aIyLQCzbe1F6W3xAREBZk+Axc0BTZLogs51tQIYjv5kSQWVAFlMekQHwXEA=\",\"dtype\":\"float64\",\"order\":\"little\",\"shape\":[10]},\"k\":[1,2,3,4,5,6,7,8,9,10]},\"selected\":{\"id\":\"1138\"},\"selection_policy\":{\"id\":\"1158\"}},\"id\":\"1137\",\"type\":\"ColumnDataSource\"},{\"attributes\":{\"source\":{\"id\":\"1137\"}},\"id\":\"1144\",\"type\":\"CDSView\"},{\"attributes\":{\"align\":null,\"below\":[{\"id\":\"1116\"}],\"center\":[{\"id\":\"1119\"},{\"id\":\"1123\"}],\"left\":[{\"id\":\"1120\"}],\"margin\":null,\"min_border_bottom\":10,\"min_border_left\":10,\"min_border_right\":10,\"min_border_top\":10,\"plot_height\":300,\"plot_width\":700,\"renderers\":[{\"id\":\"1143\"}],\"sizing_mode\":\"fixed\",\"title\":{\"id\":\"1108\"},\"toolbar\":{\"id\":\"1130\"},\"x_range\":{\"id\":\"1104\"},\"x_scale\":{\"id\":\"1112\"},\"y_range\":{\"id\":\"1105\"},\"y_scale\":{\"id\":\"1114\"}},\"id\":\"1107\",\"subtype\":\"Figure\",\"type\":\"Plot\"},{\"attributes\":{},\"id\":\"1147\",\"type\":\"BasicTickFormatter\"},{\"attributes\":{\"data_source\":{\"id\":\"1137\"},\"glyph\":{\"id\":\"1140\"},\"hover_glyph\":null,\"muted_glyph\":{\"id\":\"1142\"},\"nonselection_glyph\":{\"id\":\"1141\"},\"selection_glyph\":null,\"view\":{\"id\":\"1144\"}},\"id\":\"1143\",\"type\":\"GlyphRenderer\"},{\"attributes\":{\"bottom_units\":\"screen\",\"fill_alpha\":0.5,\"fill_color\":\"lightgrey\",\"left_units\":\"screen\",\"level\":\"overlay\",\"line_alpha\":1.0,\"line_color\":\"black\",\"line_dash\":[4,4],\"line_width\":2,\"right_units\":\"screen\",\"top_units\":\"screen\"},\"id\":\"1129\",\"type\":\"BoxAnnotation\"},{\"attributes\":{\"axis\":{\"id\":\"1120\"},\"dimension\":1,\"grid_line_color\":null,\"ticker\":null},\"id\":\"1123\",\"type\":\"Grid\"},{\"attributes\":{},\"id\":\"1126\",\"type\":\"WheelZoomTool\"},{\"attributes\":{\"line_alpha\":0.1,\"line_color\":\"#1f77b3\",\"line_width\":2,\"x\":{\"field\":\"k\"},\"y\":{\"field\":\"inertia\"}},\"id\":\"1141\",\"type\":\"Line\"},{\"attributes\":{},\"id\":\"1121\",\"type\":\"BasicTicker\"},{\"attributes\":{\"line_color\":\"#1f77b3\",\"line_width\":2,\"x\":{\"field\":\"k\"},\"y\":{\"field\":\"inertia\"}},\"id\":\"1140\",\"type\":\"Line\"},{\"attributes\":{},\"id\":\"1158\",\"type\":\"UnionRenderers\"},{\"attributes\":{\"margin\":[5,5,5,5],\"name\":\"HSpacer01704\",\"sizing_mode\":\"stretch_width\"},\"id\":\"1166\",\"type\":\"Spacer\"},{\"attributes\":{\"text\":\"Elbow Curve\",\"text_color\":{\"value\":\"black\"},\"text_font_size\":{\"value\":\"12pt\"}},\"id\":\"1108\",\"type\":\"Title\"},{\"attributes\":{},\"id\":\"1151\",\"type\":\"BasicTickFormatter\"},{\"attributes\":{},\"id\":\"1114\",\"type\":\"LinearScale\"},{\"attributes\":{\"active_drag\":\"auto\",\"active_inspect\":\"auto\",\"active_multi\":null,\"active_scroll\":\"auto\",\"active_tap\":\"auto\",\"tools\":[{\"id\":\"1106\"},{\"id\":\"1124\"},{\"id\":\"1125\"},{\"id\":\"1126\"},{\"id\":\"1127\"},{\"id\":\"1128\"}]},\"id\":\"1130\",\"type\":\"Toolbar\"},{\"attributes\":{\"axis_label\":\"k\",\"bounds\":\"auto\",\"formatter\":{\"id\":\"1147\"},\"major_label_orientation\":\"horizontal\",\"ticker\":{\"id\":\"1145\"}},\"id\":\"1116\",\"type\":\"LinearAxis\"},{\"attributes\":{},\"id\":\"1112\",\"type\":\"LinearScale\"},{\"attributes\":{\"children\":[{\"id\":\"1103\"},{\"id\":\"1107\"},{\"id\":\"1166\"}],\"margin\":[0,0,0,0],\"name\":\"Row01699\",\"tags\":[\"embedded\"]},\"id\":\"1102\",\"type\":\"Row\"},{\"attributes\":{\"end\":9076.742062688849,\"reset_end\":9076.742062688849,\"reset_start\":-698.8855377345221,\"start\":-698.8855377345221,\"tags\":[[[\"inertia\",\"inertia\",null]]]},\"id\":\"1105\",\"type\":\"Range1d\"},{\"attributes\":{},\"id\":\"1124\",\"type\":\"SaveTool\"},{\"attributes\":{\"end\":10.0,\"reset_end\":10.0,\"reset_start\":1.0,\"start\":1.0,\"tags\":[[[\"k\",\"k\",null]]]},\"id\":\"1104\",\"type\":\"Range1d\"}],\"root_ids\":[\"1102\"]},\"title\":\"Bokeh Application\",\"version\":\"2.1.0\"}};\n",
       "  var render_items = [{\"docid\":\"09bb8da6-a2dd-482e-8f27-3b718bb25f5c\",\"root_ids\":[\"1102\"],\"roots\":{\"1102\":\"fc4290c6-ccdb-4894-9b27-ec5dcdce4ce0\"}}];\n",
       "  root.Bokeh.embed.embed_items_notebook(docs_json, render_items);\n",
       "  }\n",
       "if (root.Bokeh !== undefined) {\n",
       "    embed_document(root);\n",
       "  } else {\n",
       "    var attempts = 0;\n",
       "    var timer = setInterval(function(root) {\n",
       "      if (root.Bokeh !== undefined) {\n",
       "        clearInterval(timer);\n",
       "        embed_document(root);\n",
       "      } else if (document.readyState == \"complete\") {\n",
       "        attempts++;\n",
       "        if (attempts > 100) {\n",
       "          clearInterval(timer);\n",
       "          console.log(\"Bokeh: ERROR: Unable to run BokehJS code because BokehJS library is missing\");\n",
       "        }\n",
       "      }\n",
       "    }, 10, root)\n",
       "  }\n",
       "})(window);</script>"
      ],
      "text/plain": [
       ":Curve   [k]   (inertia)"
      ]
     },
     "execution_count": 88,
     "metadata": {
      "application/vnd.holoviews_exec.v0+json": {
       "id": "1102"
      }
     },
     "output_type": "execute_result"
    }
   ],
   "source": [
    "# Elbow Curve\n",
    "inertia = []\n",
    "k = list(range(1, 11))\n",
    "clusters = range(1,30)\n",
    "# Looking for the best k\n",
    "for i in k:\n",
    "    km = KMeans(n_clusters=i, random_state=0)\n",
    "    km.fit(pcs_df)\n",
    "    inertia.append(km.inertia_)\n",
    "\n",
    "# Create the elbow curve\n",
    "elbow_data = {\"k\": k, \"inertia\": inertia}\n",
    "df_elbow = pd.DataFrame(elbow_data)\n",
    "df_elbow.hvplot.line(x=\"k\", y=\"inertia\", xticks=k, title=\"Elbow Curve\")"
   ]
  },
  {
   "cell_type": "code",
   "execution_count": 89,
   "metadata": {},
   "outputs": [
    {
     "data": {
      "text/html": [
       "<div>\n",
       "<style scoped>\n",
       "    .dataframe tbody tr th:only-of-type {\n",
       "        vertical-align: middle;\n",
       "    }\n",
       "\n",
       "    .dataframe tbody tr th {\n",
       "        vertical-align: top;\n",
       "    }\n",
       "\n",
       "    .dataframe thead th {\n",
       "        text-align: right;\n",
       "    }\n",
       "</style>\n",
       "<table border=\"1\" class=\"dataframe\">\n",
       "  <thead>\n",
       "    <tr style=\"text-align: right;\">\n",
       "      <th></th>\n",
       "      <th>pc1</th>\n",
       "      <th>pc2</th>\n",
       "      <th>pcs3</th>\n",
       "      <th>class</th>\n",
       "    </tr>\n",
       "  </thead>\n",
       "  <tbody>\n",
       "    <tr>\n",
       "      <th>42</th>\n",
       "      <td>-0.302826</td>\n",
       "      <td>0.900306</td>\n",
       "      <td>-0.550951</td>\n",
       "      <td>0</td>\n",
       "    </tr>\n",
       "    <tr>\n",
       "      <th>404</th>\n",
       "      <td>-0.286205</td>\n",
       "      <td>0.900530</td>\n",
       "      <td>-0.551477</td>\n",
       "      <td>0</td>\n",
       "    </tr>\n",
       "    <tr>\n",
       "      <th>1337</th>\n",
       "      <td>2.317847</td>\n",
       "      <td>1.585897</td>\n",
       "      <td>-0.631227</td>\n",
       "      <td>7</td>\n",
       "    </tr>\n",
       "    <tr>\n",
       "      <th>BTC</th>\n",
       "      <td>-0.156913</td>\n",
       "      <td>-1.284662</td>\n",
       "      <td>0.199533</td>\n",
       "      <td>3</td>\n",
       "    </tr>\n",
       "    <tr>\n",
       "      <th>ETH</th>\n",
       "      <td>-0.172724</td>\n",
       "      <td>-1.960039</td>\n",
       "      <td>0.374533</td>\n",
       "      <td>2</td>\n",
       "    </tr>\n",
       "  </tbody>\n",
       "</table>\n",
       "</div>"
      ],
      "text/plain": [
       "           pc1       pc2      pcs3  class\n",
       "42   -0.302826  0.900306 -0.550951      0\n",
       "404  -0.286205  0.900530 -0.551477      0\n",
       "1337  2.317847  1.585897 -0.631227      7\n",
       "BTC  -0.156913 -1.284662  0.199533      3\n",
       "ETH  -0.172724 -1.960039  0.374533      2"
      ]
     },
     "execution_count": 89,
     "metadata": {},
     "output_type": "execute_result"
    }
   ],
   "source": [
    "# Initialize K-means model\n",
    "model = KMeans(n_clusters=10, random_state=0)\n",
    "\n",
    "# Fit the model\n",
    "model.fit(pcs_df)\n",
    "\n",
    "# Predict clusters\n",
    "predictions = model.predict(pcs_df)\n",
    "\n",
    "# Add the predicted class columns\n",
    "pcs_df[\"class\"] = model.labels_\n",
    "pcs_df.head()"
   ]
  },
  {
   "cell_type": "code",
   "execution_count": 90,
   "metadata": {},
   "outputs": [],
   "source": [
    "# Create a new DataFrame named “clustered_df\"\n",
    "clustered_df = crypto_df.join(pcs_df, how='inner')"
   ]
  },
  {
   "cell_type": "code",
   "execution_count": 91,
   "metadata": {},
   "outputs": [
    {
     "data": {
      "text/html": [
       "<div>\n",
       "<style scoped>\n",
       "    .dataframe tbody tr th:only-of-type {\n",
       "        vertical-align: middle;\n",
       "    }\n",
       "\n",
       "    .dataframe tbody tr th {\n",
       "        vertical-align: top;\n",
       "    }\n",
       "\n",
       "    .dataframe thead th {\n",
       "        text-align: right;\n",
       "    }\n",
       "</style>\n",
       "<table border=\"1\" class=\"dataframe\">\n",
       "  <thead>\n",
       "    <tr style=\"text-align: right;\">\n",
       "      <th></th>\n",
       "      <th>Algorithm</th>\n",
       "      <th>ProofType</th>\n",
       "      <th>TotalCoinsMined</th>\n",
       "      <th>TotalCoinSupply</th>\n",
       "      <th>pc1</th>\n",
       "      <th>pc2</th>\n",
       "      <th>pcs3</th>\n",
       "      <th>class</th>\n",
       "      <th>CoinName</th>\n",
       "    </tr>\n",
       "  </thead>\n",
       "  <tbody>\n",
       "    <tr>\n",
       "      <th>42</th>\n",
       "      <td>Scrypt</td>\n",
       "      <td>PoW/PoS</td>\n",
       "      <td>4.199995e+01</td>\n",
       "      <td>42</td>\n",
       "      <td>-0.302826</td>\n",
       "      <td>0.900306</td>\n",
       "      <td>-0.550951</td>\n",
       "      <td>0</td>\n",
       "      <td>42 Coin</td>\n",
       "    </tr>\n",
       "    <tr>\n",
       "      <th>404</th>\n",
       "      <td>Scrypt</td>\n",
       "      <td>PoW/PoS</td>\n",
       "      <td>1.055185e+09</td>\n",
       "      <td>532000000</td>\n",
       "      <td>-0.286205</td>\n",
       "      <td>0.900530</td>\n",
       "      <td>-0.551477</td>\n",
       "      <td>0</td>\n",
       "      <td>404Coin</td>\n",
       "    </tr>\n",
       "    <tr>\n",
       "      <th>1337</th>\n",
       "      <td>X13</td>\n",
       "      <td>PoW/PoS</td>\n",
       "      <td>2.927942e+10</td>\n",
       "      <td>314159265359</td>\n",
       "      <td>2.317847</td>\n",
       "      <td>1.585897</td>\n",
       "      <td>-0.631227</td>\n",
       "      <td>7</td>\n",
       "      <td>EliteCoin</td>\n",
       "    </tr>\n",
       "    <tr>\n",
       "      <th>BTC</th>\n",
       "      <td>SHA-256</td>\n",
       "      <td>PoW</td>\n",
       "      <td>1.792718e+07</td>\n",
       "      <td>21000000</td>\n",
       "      <td>-0.156913</td>\n",
       "      <td>-1.284662</td>\n",
       "      <td>0.199533</td>\n",
       "      <td>3</td>\n",
       "      <td>Bitcoin</td>\n",
       "    </tr>\n",
       "    <tr>\n",
       "      <th>ETH</th>\n",
       "      <td>Ethash</td>\n",
       "      <td>PoW</td>\n",
       "      <td>1.076842e+08</td>\n",
       "      <td>0</td>\n",
       "      <td>-0.172724</td>\n",
       "      <td>-1.960039</td>\n",
       "      <td>0.374533</td>\n",
       "      <td>2</td>\n",
       "      <td>Ethereum</td>\n",
       "    </tr>\n",
       "  </tbody>\n",
       "</table>\n",
       "</div>"
      ],
      "text/plain": [
       "     Algorithm ProofType  TotalCoinsMined TotalCoinSupply       pc1       pc2  \\\n",
       "42      Scrypt   PoW/PoS     4.199995e+01              42 -0.302826  0.900306   \n",
       "404     Scrypt   PoW/PoS     1.055185e+09       532000000 -0.286205  0.900530   \n",
       "1337       X13   PoW/PoS     2.927942e+10    314159265359  2.317847  1.585897   \n",
       "BTC    SHA-256       PoW     1.792718e+07        21000000 -0.156913 -1.284662   \n",
       "ETH     Ethash       PoW     1.076842e+08               0 -0.172724 -1.960039   \n",
       "\n",
       "          pcs3  class   CoinName  \n",
       "42   -0.550951      0    42 Coin  \n",
       "404  -0.551477      0    404Coin  \n",
       "1337 -0.631227      7  EliteCoin  \n",
       "BTC   0.199533      3    Bitcoin  \n",
       "ETH   0.374533      2   Ethereum  "
      ]
     },
     "execution_count": 91,
     "metadata": {},
     "output_type": "execute_result"
    }
   ],
   "source": [
    "clustered_df = clustered_df.join(coins_name, how='inner')\n",
    "clustered_df.head()"
   ]
  },
  {
   "cell_type": "markdown",
   "metadata": {},
   "source": [
    "VISUALIZING RESULTS"
   ]
  },
  {
   "cell_type": "code",
   "execution_count": 92,
   "metadata": {},
   "outputs": [],
   "source": [
    "from sklearn.cluster import AgglomerativeClustering\n",
    "import plotly.figure_factory as ff"
   ]
  },
  {
   "cell_type": "code",
   "execution_count": 93,
   "metadata": {},
   "outputs": [
    {
     "data": {
      "application/vnd.plotly.v1+json": {
       "config": {
        "plotlyServerURL": "https://plot.ly"
       },
       "data": [
        {
         "customdata": [
          [
           "Scrypt"
          ],
          [
           "Scrypt"
          ],
          [
           "X11"
          ],
          [
           "SHA-256"
          ],
          [
           "SHA-256"
          ],
          [
           "Scrypt"
          ],
          [
           "Scrypt"
          ],
          [
           "Scrypt"
          ],
          [
           "Scrypt"
          ],
          [
           "Scrypt"
          ],
          [
           "Scrypt"
          ],
          [
           "Groestl"
          ],
          [
           "Scrypt"
          ],
          [
           "Scrypt"
          ],
          [
           "X11"
          ],
          [
           "X11"
          ],
          [
           "Scrypt"
          ],
          [
           "SHA-256"
          ],
          [
           "Scrypt"
          ],
          [
           "NeoScrypt"
          ],
          [
           "Scrypt"
          ],
          [
           "Scrypt"
          ],
          [
           "Scrypt"
          ],
          [
           "X11"
          ],
          [
           "X11"
          ],
          [
           "Multiple"
          ],
          [
           "X11"
          ],
          [
           "Scrypt"
          ],
          [
           "Scrypt"
          ],
          [
           "Scrypt"
          ],
          [
           "X11"
          ],
          [
           "Multiple"
          ],
          [
           "Scrypt"
          ],
          [
           "Shabal256"
          ],
          [
           "SHA-256"
          ],
          [
           "Groestl"
          ],
          [
           "Scrypt"
          ],
          [
           "Scrypt"
          ],
          [
           "Scrypt"
          ],
          [
           "X11"
          ],
          [
           "Scrypt"
          ],
          [
           "X11"
          ],
          [
           "X11"
          ],
          [
           "Scrypt"
          ],
          [
           "SHA-256"
          ],
          [
           "BLAKE256"
          ],
          [
           "SHA-256"
          ],
          [
           "X11"
          ],
          [
           "SHA-256"
          ],
          [
           "Scrypt"
          ],
          [
           "Scrypt"
          ],
          [
           "X11"
          ],
          [
           "Scrypt"
          ],
          [
           "SHA-256"
          ],
          [
           "Scrypt"
          ],
          [
           "X11"
          ],
          [
           "SHA-256"
          ],
          [
           "SHA-256"
          ],
          [
           "X11"
          ],
          [
           "Scrypt"
          ],
          [
           "Scrypt"
          ],
          [
           "Scrypt"
          ],
          [
           "X11"
          ],
          [
           "X11"
          ],
          [
           "Scrypt"
          ],
          [
           "SHA-256"
          ],
          [
           "X11"
          ],
          [
           "Scrypt"
          ],
          [
           "Scrypt"
          ],
          [
           "Scrypt"
          ],
          [
           "Scrypt"
          ],
          [
           "Scrypt"
          ],
          [
           "X11"
          ],
          [
           "X11"
          ],
          [
           "X11"
          ],
          [
           "Scrypt"
          ],
          [
           "Scrypt"
          ],
          [
           "X11"
          ],
          [
           "SHA-256"
          ],
          [
           "Scrypt"
          ],
          [
           "X11"
          ],
          [
           "Scrypt"
          ],
          [
           "Scrypt"
          ],
          [
           "X11"
          ],
          [
           "Scrypt"
          ],
          [
           "Scrypt"
          ],
          [
           "Scrypt"
          ],
          [
           "Scrypt"
          ],
          [
           "QuBit"
          ],
          [
           "Scrypt"
          ],
          [
           "SHA-256"
          ],
          [
           "X11"
          ],
          [
           "Scrypt"
          ],
          [
           "Scrypt"
          ],
          [
           "Scrypt"
          ],
          [
           "Scrypt"
          ],
          [
           "Scrypt"
          ],
          [
           "Scrypt"
          ],
          [
           "X11"
          ],
          [
           "X11"
          ],
          [
           "X11"
          ],
          [
           "X11"
          ],
          [
           "Scrypt"
          ],
          [
           "Scrypt"
          ],
          [
           "Scrypt"
          ],
          [
           "SHA-256"
          ],
          [
           "X11"
          ],
          [
           "Scrypt"
          ],
          [
           "Scrypt"
          ],
          [
           "SHA-256"
          ],
          [
           "Scrypt"
          ],
          [
           "X11"
          ],
          [
           "Scrypt"
          ],
          [
           "Scrypt"
          ],
          [
           "Scrypt"
          ],
          [
           "X11"
          ],
          [
           "NeoScrypt"
          ],
          [
           "Scrypt"
          ],
          [
           "Lyra2REv2"
          ],
          [
           "Scrypt"
          ],
          [
           "SHA-256"
          ],
          [
           "Scrypt"
          ],
          [
           "Scrypt"
          ],
          [
           "SHA-256"
          ],
          [
           "X11"
          ],
          [
           "Scrypt"
          ],
          [
           "Scrypt"
          ],
          [
           "Scrypt"
          ],
          [
           "X11"
          ],
          [
           "Scrypt"
          ],
          [
           "Scrypt"
          ],
          [
           "X11"
          ],
          [
           "Ethash"
          ],
          [
           "Scrypt"
          ],
          [
           "Scrypt"
          ],
          [
           "C11"
          ],
          [
           "X11"
          ],
          [
           "Scrypt"
          ],
          [
           "Scrypt"
          ],
          [
           "Scrypt"
          ],
          [
           "Scrypt"
          ],
          [
           "Scrypt"
          ],
          [
           "X16R"
          ],
          [
           "Scrypt"
          ],
          [
           "XEVAN"
          ],
          [
           "Scrypt"
          ],
          [
           "Scrypt"
          ],
          [
           "Scrypt"
          ],
          [
           "Scrypt"
          ],
          [
           "SHA-256"
          ],
          [
           "X16R"
          ],
          [
           "Scrypt"
          ],
          [
           "Lyra2REv2"
          ],
          [
           "Scrypt"
          ],
          [
           "X11"
          ],
          [
           "X11"
          ],
          [
           "Scrypt"
          ],
          [
           "Keccak"
          ],
          [
           "X11"
          ],
          [
           "Scrypt"
          ],
          [
           "X11"
          ],
          [
           "Equihash"
          ],
          [
           "Scrypt"
          ],
          [
           "Scrypt"
          ],
          [
           "X11"
          ],
          [
           "Scrypt"
          ],
          [
           "X11"
          ],
          [
           "X11"
          ],
          [
           "Scrypt"
          ],
          [
           "X11"
          ],
          [
           "Scrypt"
          ],
          [
           "Scrypt"
          ],
          [
           "SHA-256"
          ],
          [
           "Scrypt"
          ],
          [
           "X11"
          ],
          [
           "Scrypt"
          ],
          [
           "SHA-256"
          ],
          [
           "X11"
          ],
          [
           "Scrypt"
          ],
          [
           "Scrypt"
          ],
          [
           "X11"
          ],
          [
           "Scrypt"
          ],
          [
           "X11"
          ],
          [
           "SHA-256"
          ],
          [
           "Scrypt"
          ],
          [
           "Scrypt"
          ],
          [
           "NeoScrypt"
          ],
          [
           "SHA-256"
          ],
          [
           "Scrypt"
          ],
          [
           "Scrypt"
          ]
         ],
         "hovertemplate": "<b>%{hovertext}</b><br><br>class=%{marker.color}<br>pc1=%{x}<br>pc2=%{y}<br>pcs3=%{z}<br>Algorithm=%{customdata[0]}<extra></extra>",
         "hovertext": [
          "42 Coin",
          "404Coin",
          "Dash",
          "BitcoinDark",
          "PayCoin",
          "Aurora Coin",
          "BlueCoin",
          "EnergyCoin",
          "BitBar",
          "CryptoBullion",
          "CasinoCoin",
          "Diamond",
          "FlutterCoin",
          "HoboNickels",
          "HyperStake",
          "IOCoin",
          "MintCoin",
          "MazaCoin",
          "Nautilus Coin",
          "Orbitcoin",
          "PotCoin",
          "PhoenixCoin",
          "Reddcoin",
          "SuperCoin",
          "SyncCoin",
          "TeslaCoin",
          "TorCoin",
          "UnitaryStatus Dollar",
          "UltraCoin",
          "VeriCoin",
          "X11 Coin",
          "Crypti",
          "ZCC Coin",
          "BurstCoin",
          "Neutron",
          "FairCoin",
          "RubyCoin",
          "Dnotes",
          "8BIT Coin",
          "Ucoin",
          "Vtorrent",
          "IslaCoin",
          "Squall Coin",
          "Diggits",
          "Emercoin",
          "Decred",
          "EDRCoin",
          "Hitcoin",
          "DubaiCoin",
          "BillaryCoin",
          "GPU Coin",
          "EuropeCoin",
          "ZeitCoin",
          "SwingCoin",
          "SafeExchangeCoin",
          "Ratecoin",
          "Revenu",
          "Clockcoin",
          "BitSend",
          "PutinCoin",
          "iBankCoin",
          "Frankywillcoin",
          "Lutetium Coin",
          "GoldBlocks",
          "CarterCoin",
          "BitTokens",
          "MustangCoin",
          "ZoneCoin",
          "RootCoin",
          "BitCurrency",
          "Swiscoin",
          "PesoBit",
          "Halloween Coin",
          "InsaneCoin",
          "XenixCoin",
          "PLNCoin",
          "AquariusCoin",
          "Eternity",
          "Eurocoin",
          "BitcoinFast",
          "Stakenet",
          "BitConnect Coin",
          "MoneyCoin",
          "Enigma",
          "Russiacoin",
          "PandaCoin",
          "GameUnits",
          "GAKHcoin",
          "LiteCreed",
          "Klingon Empire Darsek",
          "Internet of People",
          "KushCoin",
          "Printerium",
          "Impeach",
          "Zilbercoin",
          "FirstCoin",
          "OpenChat",
          "RenosCoin",
          "VirtacoinPlus",
          "Impact",
          "HappyCoin",
          "Condensate",
          "Independent Money System",
          "ArgusCoin",
          "LomoCoin",
          "ProCurrency",
          "GoldReserve",
          "GrowthCoin",
          "Degas Coin",
          "Ultimate Secure Cash",
          "Linda",
          "Monoeci",
          "Draftcoin",
          "CoinonatX",
          "Ethereum Dark",
          "Regalcoin",
          "TrezarCoin",
          "TerraNovaCoin",
          "Rupee",
          "WomenCoin",
          "Theresa May Coin",
          "Xios",
          "BlackholeCoin",
          "Infinity Economics",
          "Magnet",
          "Cash & Back Coin",
          "GermanCoin",
          "LiteCoin Ultra",
          "PhantomX",
          "Trollcoin",
          "Litecoin Plus",
          "Monkey Project",
          "1717 Masonic Commemorative Token",
          "My Big Coin",
          "Unified Society USDEX",
          "Stipend",
          "Pushi",
          "Velox",
          "Briacoin",
          "Ignition",
          "MedicCoin",
          "Abjcoin",
          "Proton",
          "iDealCash",
          "Bitcoin Incognito",
          "HollyWoodCoin",
          "Swisscoin",
          "Xt3ch",
          "EmaratCoin",
          "BitcoinWSpectrum",
          "Trivechain",
          "Peony Coin",
          "Absolute Coin",
          "TPCash",
          "ARENON",
          "EUNO",
          "MMOCoin",
          "XDNA",
          "PAXEX",
          "ThunderStake",
          "Junson Ming Chan Coin",
          "PirateCash",
          "Oduwa",
          "Credit",
          "Dash Platinum",
          "Nasdacoin",
          "Award",
          "Insane Coin",
          "LiteDoge",
          "TruckCoin",
          "OrangeCoin",
          "BitstarCoin",
          "NeosCoin",
          "HyperCoin",
          "PinkCoin",
          "AudioCoin",
          "IncaKoin",
          "Piggy Coin",
          "Genstake",
          "XiaoMiCoin",
          "CapriCoin",
          " ClubCoin",
          "Creditbit ",
          "OKCash",
          "HiCoin",
          "WhiteCoin",
          "FriendshipCoin",
          "TigerCash",
          "Gapcoin",
          "BitcoinPlus"
         ],
         "legendgroup": "0",
         "marker": {
          "color": [
           0,
           0,
           0,
           0,
           0,
           0,
           0,
           0,
           0,
           0,
           0,
           0,
           0,
           0,
           0,
           0,
           0,
           0,
           0,
           0,
           0,
           0,
           0,
           0,
           0,
           0,
           0,
           0,
           0,
           0,
           0,
           0,
           0,
           0,
           0,
           0,
           0,
           0,
           0,
           0,
           0,
           0,
           0,
           0,
           0,
           0,
           0,
           0,
           0,
           0,
           0,
           0,
           0,
           0,
           0,
           0,
           0,
           0,
           0,
           0,
           0,
           0,
           0,
           0,
           0,
           0,
           0,
           0,
           0,
           0,
           0,
           0,
           0,
           0,
           0,
           0,
           0,
           0,
           0,
           0,
           0,
           0,
           0,
           0,
           0,
           0,
           0,
           0,
           0,
           0,
           0,
           0,
           0,
           0,
           0,
           0,
           0,
           0,
           0,
           0,
           0,
           0,
           0,
           0,
           0,
           0,
           0,
           0,
           0,
           0,
           0,
           0,
           0,
           0,
           0,
           0,
           0,
           0,
           0,
           0,
           0,
           0,
           0,
           0,
           0,
           0,
           0,
           0,
           0,
           0,
           0,
           0,
           0,
           0,
           0,
           0,
           0,
           0,
           0,
           0,
           0,
           0,
           0,
           0,
           0,
           0,
           0,
           0,
           0,
           0,
           0,
           0,
           0,
           0,
           0,
           0,
           0,
           0,
           0,
           0,
           0,
           0,
           0,
           0,
           0,
           0,
           0,
           0,
           0,
           0,
           0,
           0,
           0,
           0,
           0,
           0,
           0,
           0,
           0,
           0,
           0,
           0,
           0,
           0,
           0,
           0,
           0,
           0,
           0,
           0
          ],
          "coloraxis": "coloraxis",
          "symbol": "circle"
         },
         "mode": "markers",
         "name": "0",
         "scene": "scene",
         "showlegend": true,
         "type": "scatter3d",
         "x": [
          -0.3028264578706869,
          -0.2862052466636213,
          -0.3731366594473549,
          -0.29750125129557187,
          -0.2928963541311743,
          -0.3024869287211072,
          -0.29508044433379527,
          -0.30132628497966174,
          -0.30282240749743394,
          -0.30280672727539415,
          0.7620031455765474,
          -0.3511057427677435,
          -0.24470776410269737,
          -0.30089055710113516,
          -0.3483989945993251,
          -0.3730315836120502,
          -0.03870541329130295,
          -0.2609093808030234,
          -0.2979734275865992,
          -0.33419795388358614,
          -0.2971449693240295,
          -0.3012325757074527,
          0.054539394006759986,
          -0.3682425327903212,
          -0.373402145810027,
          -0.2853984477092332,
          -0.3733140700162703,
          -0.278127086118586,
          -0.3015076508969591,
          -0.25165663282585293,
          -0.3732785810620756,
          -0.2858642416260151,
          -0.29395816195754115,
          0.22622341449362834,
          -0.29671510185136274,
          -0.35052851762027054,
          -0.2979535789993165,
          -0.2926238511705934,
          -0.3028085652425036,
          -0.3686866002692802,
          -0.3025437085235406,
          -0.3733837147012083,
          -0.373863311273754,
          -0.29635951037787844,
          -0.2900832143321064,
          -0.058902195436634226,
          -0.2974722282416179,
          -0.05179780712338218,
          -0.29753567752524757,
          -0.3024200627161117,
          -0.296229967654129,
          -0.37056262743893276,
          0.8517665974891844,
          -0.2973364484439777,
          0.03316963595465421,
          -0.3712320820348116,
          -0.29608441755370485,
          -0.2937605203122937,
          -0.37212294257196665,
          -0.2787861113068425,
          -0.30245809964600645,
          -0.3009010026918799,
          -0.3562104290704087,
          -0.372859226293108,
          -0.30166447536603275,
          -0.2975167687086699,
          -0.37337295768181333,
          -0.30264663441796424,
          -0.3028028108310315,
          -0.29621750665458024,
          -0.20828586328883097,
          -0.3024178034402086,
          -0.3595792799979937,
          -0.37296663514970546,
          -0.37332797311112476,
          -0.3023458749682024,
          -0.30249989907800917,
          -0.3729043233636791,
          -0.29737972977977856,
          -0.3023465575101409,
          -0.3745974637353905,
          -0.3024935822426964,
          -0.29809698491989506,
          -0.37335691488101147,
          -0.30170707783331624,
          0.34360123657636876,
          -0.3026922866919558,
          -0.3027626146215445,
          -0.32907486191694585,
          -0.2990021884453036,
          -0.29749323349299484,
          -0.3732671020828465,
          -0.30254106315312085,
          -0.3026677593377179,
          -0.2978608050539172,
          -0.2485800989732151,
          -0.2835718988043984,
          -0.2976023043859803,
          -0.3725352842461326,
          -0.37127648101268357,
          -0.37243339065072517,
          -0.36838690272675084,
          -0.3026111619870038,
          -0.30261042270841415,
          -0.29575611368584964,
          0.23791353758725145,
          -0.37291027275839644,
          -0.2805586738506472,
          -0.3018243424911785,
          -0.29159135357364124,
          0.16064654570270023,
          -0.37318178227740256,
          -0.2979344954203115,
          -0.3022474008604652,
          -0.3027455895279029,
          -0.3731229015441226,
          -0.3292117277604609,
          -0.3027014085719681,
          -0.3420707844659275,
          0.4645157807013828,
          -0.2958438236444373,
          -0.30265190406956743,
          -0.3025225261066584,
          -0.11983984535248007,
          -0.37191926253153984,
          -0.29999012245317425,
          0.11025874427443041,
          -0.3016641860789866,
          -0.37249826705471756,
          -0.2892638832879927,
          -0.30276767121642584,
          -0.3686585998933727,
          -0.3098562593830316,
          -0.26104963771771134,
          -0.2983247039260519,
          -0.34993216389046816,
          -0.37319913449185455,
          -0.2970972929976513,
          -0.3027949573427375,
          -0.3027767266125096,
          -0.2914943998998442,
          -0.30249408479699436,
          -0.35012264247478253,
          -0.2495265999764733,
          -0.3162583404010223,
          -0.2976294478616555,
          -0.10642994795458778,
          -0.29788112730671595,
          -0.3019697590457486,
          -0.2917178728141925,
          -0.35400247587957007,
          -0.17902772663647315,
          -0.34654098435410363,
          -0.2956963348130669,
          -0.36823723986673274,
          -0.3726738451645265,
          -0.2951345864467182,
          -0.32899892094543554,
          -0.36809933697840685,
          -0.16274879272128268,
          -0.15906636895597626,
          -0.31586999314293573,
          -0.30249796652407607,
          0.6013543912358242,
          -0.36871278507596844,
          -0.3019825931439389,
          -0.3702472048502329,
          -0.3729004033993917,
          0.13116426859970465,
          -0.370445113672774,
          -0.30137048975653036,
          -0.30219234559493857,
          -0.29292899186899835,
          -0.30270905136543874,
          -0.3645507563349426,
          -0.21669640178390948,
          -0.07763935867843867,
          -0.36031297043224225,
          -0.301989076329612,
          -0.295072015554222,
          -0.3694781096742353,
          -0.30043299590817923,
          -0.36320830687899586,
          -0.29602030580231964,
          -0.10567396778543575,
          -0.297635157769402,
          -0.3338251457672585,
          -0.27387632423041247,
          -0.3008783821379562,
          -0.2982763377696662
         ],
         "y": [
          0.9003055013128058,
          0.9005302905156359,
          1.1464936268810388,
          0.7683176043162626,
          0.7207287057930584,
          0.9003059476705987,
          0.9005844290165714,
          0.9003595213531832,
          0.9003052959456203,
          0.9003055093303662,
          0.08470415233703159,
          0.8524349822183168,
          0.17145411740898342,
          0.9002909121969946,
          1.0996384742011298,
          1.1464974105767713,
          0.8620548954155657,
          0.7679512276391992,
          0.8527074978278509,
          0.463909984262407,
          0.9002150393689017,
          0.9002940512674085,
          0.9131739562513645,
          1.098923924461401,
          1.146499521113071,
          0.2807329860683153,
          1.146495668406552,
          0.9000709141931547,
          0.9002827410432037,
          0.1686246866294583,
          1.1465001075612093,
          0.28078646267677987,
          0.8999223467942561,
          0.02162115876064297,
          0.7683135981647936,
          0.8524588445551985,
          0.8527195789236793,
          0.8525602507555522,
          0.9003061456413609,
          1.0988938840570814,
          0.9003016330232776,
          1.1465001855048678,
          0.8838003579279275,
          0.8527067305735826,
          0.7678976820013792,
          0.8273502116382713,
          0.7683186494129308,
          1.1394289992639814,
          0.768324443344683,
          0.9002906305252276,
          0.8526263564695352,
          1.1463320126070031,
          0.8245730958870198,
          0.7683108938288487,
          0.0850506400975821,
          1.1465249769520247,
          0.7682276151028504,
          0.7680989501744937,
          1.1464479381246413,
          0.899766185349129,
          0.9002876216921167,
          0.9003045859537673,
          1.0988956517529345,
          1.1464839471725907,
          0.9002841188680965,
          0.7683177480414857,
          1.1464984653723191,
          0.9002972242504733,
          0.9003063528530577,
          0.8527820934828342,
          0.19356615269698796,
          0.9003202166573984,
          1.145943529966157,
          1.1464941293606867,
          1.1464994857727384,
          0.9002957325976162,
          0.9002877556824921,
          1.1464752983165838,
          0.7683233851970341,
          0.9002995998404817,
          0.7018735791011873,
          0.900297818072441,
          0.9000187207476975,
          1.14649763807118,
          0.900244650073855,
          0.8529798914116459,
          0.9003012003066733,
          0.9003054709618032,
          0.5000833519778715,
          0.9000919628362927,
          0.7683185955255418,
          1.1464978134953743,
          0.9003017282809239,
          0.9002958078977338,
          0.8526842824297206,
          0.19665103263068615,
          0.90029634771896,
          0.8527080436582625,
          1.1464604873282644,
          1.1464987908662259,
          1.1464641564341151,
          1.1463288693064444,
          0.9002983525701058,
          0.9002931892450742,
          0.8998576040086127,
          0.6871644186605385,
          1.146489133977734,
          0.8519409659670284,
          0.9002678247618634,
          0.7206439208996251,
          0.8818700537622642,
          1.1465007781204055,
          0.8527080385615583,
          0.9002924559419415,
          0.9003054628680945,
          1.1464906098184833,
          0.463811184751255,
          0.9002989516832107,
          0.7787976034268546,
          0.9103745063671516,
          0.7683224923569525,
          0.9002970344945868,
          0.9003060569934581,
          0.7206466593899348,
          1.1464517600044355,
          0.9002601115962787,
          0.880055629840002,
          0.9002419796029814,
          1.1464969450224378,
          0.9001616334376072,
          0.9003048082233143,
          1.0988941898332396,
          0.045302635426833944,
          0.24116018549422558,
          0.9003046270852417,
          0.8375266199962469,
          1.1464892697211773,
          0.8526633037461039,
          0.9003045281667056,
          0.9003037796511332,
          0.852600921381112,
          0.9002963949864642,
          0.8191334800010249,
          0.8986266424646692,
          1.2255806693732991,
          0.8527129857611985,
          0.9002121346520423,
          0.8526912780835753,
          0.9002773408182383,
          0.7207094894668457,
          0.8667287849203975,
          0.8451438919875075,
          0.826378004890555,
          0.8998597565974089,
          1.0988854778466945,
          1.1464906225968978,
          0.8526384399400379,
          0.8448440703800345,
          1.0988588313564402,
          0.8927046799885267,
          1.1064561887172324,
          0.11289030549736749,
          0.9003025776609318,
          0.8803177177629404,
          1.0988931519118093,
          0.9002768786727563,
          1.146318080909709,
          1.1464965143123769,
          0.8913458413672174,
          1.1466060021480402,
          0.9002174306346099,
          0.9002902205756795,
          0.7207215593295863,
          0.9003097290554815,
          1.1464670058312638,
          0.8960307805397313,
          0.7761166339016946,
          1.1462683577187027,
          0.9003251173529143,
          0.9003037346493816,
          1.1464947042809153,
          0.90027928881692,
          0.68666112926254,
          0.7683126249038644,
          0.8526122579988479,
          0.9002816874441837,
          0.46388378938269953,
          0.720719888148166,
          0.900200026296326,
          0.8527072541470473
         ],
         "z": [
          -0.5509510424186745,
          -0.551476723584447,
          -0.436599898447003,
          -0.33414771138695987,
          -0.09965329402517828,
          -0.5509607335018017,
          -0.5512400254538803,
          -0.551007009860491,
          -0.5509511048018778,
          -0.5509516010561508,
          -0.32059730016888394,
          -0.3832053563496109,
          -0.3535902646511477,
          -0.551001969821233,
          -0.20285879906970128,
          -0.4366038185451135,
          -0.32613679183460564,
          -0.3350874354187859,
          -0.3164613249284532,
          -0.2544079707211461,
          -0.5510884679739302,
          -0.5509931142673165,
          -0.5642834056344974,
          -0.2021184897841005,
          -0.43659389792874226,
          0.04166253539850232,
          -0.4365954093216224,
          -0.5515885647968138,
          -0.5509824970170845,
          -0.3405201767491803,
          -0.4365975319149898,
          0.04166216635595552,
          -0.551104429139034,
          -0.11852159362683634,
          -0.33416887709745063,
          -0.3832276683741557,
          -0.31646493682057913,
          -0.31657504186445234,
          -0.5509517099521842,
          -0.20209837350198423,
          -0.5509580417339897,
          -0.436594585721535,
          -0.07090176890902822,
          -0.31650666068669236,
          -0.33425089706567396,
          -0.38999171688696826,
          -0.3341487941594035,
          -0.4438803815703273,
          -0.3341484678916516,
          -0.5509587503833983,
          -0.3164900108929772,
          -0.4366316861191335,
          -0.3417888177099056,
          -0.33415066535816546,
          -0.3001239951439085,
          -0.4366615474511224,
          -0.33416494786501694,
          -0.3341980028155293,
          -0.43661695402684675,
          -0.5514929920650448,
          -0.5509569172408805,
          -0.5510051294375223,
          -0.20245078041962175,
          -0.43660527969661356,
          -0.5509784209726452,
          -0.33414730993948555,
          -0.436594454640133,
          -0.550954024378752,
          -0.5509519246338708,
          -0.31652970503201966,
          -0.4011224290726796,
          -0.5509662882288964,
          -0.4368433937249822,
          -0.43660482187304,
          -0.4365959814578299,
          -0.550962132160864,
          -0.5509557719024706,
          -0.4366018225889848,
          -0.3341525999607133,
          -0.55096308985684,
          -0.09347721346178084,
          -0.5509584920860058,
          -0.5510120166199144,
          -0.43659469822275027,
          -0.5509672484426924,
          -0.3346293480705526,
          -0.550953740939954,
          -0.5509528358081326,
          -0.29559939070807617,
          -0.5510049828473241,
          -0.3341481879753749,
          -0.4365972762122979,
          -0.5509581404256779,
          -0.5509530706299884,
          -0.3164586373564937,
          -0.3821521734831966,
          -0.5514919128116007,
          -0.3164719324279068,
          -0.43660849182385303,
          -0.436653679745819,
          -0.43661229320111233,
          -0.4366922705661542,
          -0.5509553101159913,
          -0.5509540266016308,
          -0.5510373523734533,
          -0.10614868341037148,
          -0.4366051499463109,
          -0.31675896283119837,
          -0.550969794773209,
          -0.09966869034734391,
          -0.5593686961097608,
          -0.4366004320654842,
          -0.31646255982975235,
          -0.5509640824196469,
          -0.5509533140517038,
          -0.4365995243892116,
          -0.2545236762481297,
          -0.5509529155542707,
          -0.07812069805329774,
          -0.5751418854057306,
          -0.33419570325349596,
          -0.5509538277821584,
          -0.550959756895326,
          -0.1045145963967725,
          -0.4366236654555424,
          -0.5510195907174219,
          -0.5574888621346241,
          -0.5509677838252237,
          -0.43661874611945267,
          -0.5512973066754424,
          -0.5509525257361543,
          -0.20209924065538212,
          0.07539168300653887,
          -0.4130079431116939,
          -0.5510778187794316,
          -0.4000658684612525,
          -0.436597035273351,
          -0.3164748768163313,
          -0.5509516852294967,
          -0.5509520104379033,
          -0.31661717866764344,
          -0.5509581184057187,
          -0.09202394711628518,
          -0.5520305469486413,
          -0.020312272305844755,
          -0.3164724151782646,
          -0.5564679206355132,
          -0.3164598313099712,
          -0.5509680964498425,
          -0.09968168522999281,
          -0.3265404373636739,
          -0.3179061215505299,
          -0.3126167687621994,
          -0.5510395825631593,
          -0.2021089266372919,
          -0.4366121957702262,
          -0.31652396481272377,
          -0.3759378312670681,
          -0.20210608546990746,
          -0.552982583118712,
          -0.2099222924589269,
          0.09234646035351984,
          -0.5509595707798653,
          -0.5714091774704145,
          -0.20209744985664732,
          -0.5509676176439979,
          -0.4366370649275136,
          -0.4366072928023313,
          -0.5609307762664305,
          -0.4367042170588039,
          -0.5509698675654541,
          -0.5509650708592362,
          -0.0996505679403974,
          -0.550955422548523,
          -0.436835386918059,
          -0.5523009347442289,
          -0.3423203557634276,
          -0.43690475453197436,
          -0.5509796209046356,
          -0.5511693536427706,
          -0.4367033805306846,
          -0.551011941577747,
          -0.09336075886152181,
          -0.3341882318483273,
          -0.32186214967228394,
          -0.5510914762352388,
          -0.2544118704595488,
          -0.10018763307617912,
          -0.550979353499964,
          -0.31645271808926817
         ]
        },
        {
         "customdata": [
          [
           "X13"
          ],
          [
           "DPoS"
          ],
          [
           "DPoS"
          ],
          [
           "Semux BFT consensus"
          ],
          [
           "Scrypt"
          ],
          [
           "DPoS"
          ],
          [
           "DPoS"
          ],
          [
           "DPoS"
          ],
          [
           "DPoS"
          ],
          [
           "SHA-256"
          ]
         ],
         "hovertemplate": "<b>%{hovertext}</b><br><br>class=%{marker.color}<br>pc1=%{x}<br>pc2=%{y}<br>pcs3=%{z}<br>Algorithm=%{customdata[0]}<extra></extra>",
         "hovertext": [
          "EliteCoin",
          "ARK",
          "Lamden Tau",
          "Semux",
          "Lynx",
          "ALAX",
          "Lisk",
          "EOS",
          "Oxycoin",
          "ZEPHYR"
         ],
         "legendgroup": "7",
         "marker": {
          "color": [
           7,
           7,
           7,
           7,
           7,
           7,
           7,
           7,
           7,
           7
          ],
          "coloraxis": "coloraxis",
          "symbol": "diamond"
         },
         "mode": "markers",
         "name": "7",
         "scene": "scene",
         "showlegend": true,
         "type": "scatter3d",
         "x": [
          2.317846732811969,
          3.7706584046284712,
          3.7755003947036934,
          3.9887107816182135,
          2.24980878049283,
          3.787710916323085,
          3.7710490451742205,
          3.7808971105903764,
          3.7821385444618265,
          2.4917624621728955
         ],
         "y": [
          1.5858973543509864,
          1.821079104659701,
          1.8209900252877946,
          1.7936946332971844,
          0.2648811396972418,
          1.8210784689315753,
          1.8210686413183939,
          1.8215356040071735,
          1.8215803070354943,
          0.8029259045551543
         ],
         "z": [
          -0.6312266663659871,
          -0.5089236601276438,
          -0.5090377521899072,
          -0.5948581906606799,
          -0.4469825440894006,
          -0.5094045612291319,
          -0.5089320370634949,
          -0.5093278220446614,
          -0.5093741366188894,
          -0.2760837276246303
         ]
        },
        {
         "customdata": [
          [
           "SHA-256"
          ],
          [
           "Scrypt"
          ],
          [
           "Scrypt"
          ],
          [
           "X11"
          ],
          [
           "Scrypt"
          ],
          [
           "SHA-256"
          ],
          [
           "Scrypt"
          ],
          [
           "Scrypt"
          ],
          [
           "Quark"
          ],
          [
           "Groestl"
          ],
          [
           "Scrypt"
          ],
          [
           "Scrypt"
          ],
          [
           "Scrypt"
          ],
          [
           "X11"
          ],
          [
           "SHA-256"
          ],
          [
           "Scrypt"
          ],
          [
           "Scrypt"
          ],
          [
           "Scrypt"
          ],
          [
           "Scrypt"
          ],
          [
           "Scrypt"
          ],
          [
           "Scrypt"
          ],
          [
           "Scrypt"
          ],
          [
           "Scrypt"
          ],
          [
           "Scrypt"
          ],
          [
           "SHA-256"
          ],
          [
           "Scrypt"
          ],
          [
           "Scrypt"
          ],
          [
           "Scrypt"
          ],
          [
           "Scrypt"
          ],
          [
           "Scrypt"
          ],
          [
           "Scrypt"
          ],
          [
           "SHA-256"
          ],
          [
           "Scrypt"
          ],
          [
           "Scrypt"
          ],
          [
           "Scrypt"
          ],
          [
           "Scrypt"
          ],
          [
           "SHA-256"
          ],
          [
           "SHA-256"
          ],
          [
           "SHA-256"
          ],
          [
           "SHA-256"
          ],
          [
           "SHA-256"
          ],
          [
           "X11"
          ],
          [
           "Scrypt"
          ],
          [
           "Lyra2REv2"
          ],
          [
           "Scrypt"
          ],
          [
           "SHA-256"
          ],
          [
           "Scrypt"
          ],
          [
           "Scrypt"
          ],
          [
           "Scrypt"
          ],
          [
           "Scrypt"
          ],
          [
           "Scrypt"
          ],
          [
           "Scrypt"
          ],
          [
           "QuBit"
          ],
          [
           "Scrypt"
          ],
          [
           "Scrypt"
          ],
          [
           "Scrypt"
          ],
          [
           "SHA-256"
          ],
          [
           "Scrypt"
          ],
          [
           "X11"
          ],
          [
           "SHA-256"
          ],
          [
           "X11"
          ],
          [
           "Scrypt"
          ],
          [
           "Scrypt"
          ],
          [
           "X11"
          ],
          [
           "SHA-256"
          ],
          [
           "Scrypt"
          ],
          [
           "Scrypt"
          ],
          [
           "SHA-256"
          ],
          [
           "X11"
          ],
          [
           "Scrypt"
          ],
          [
           "Scrypt"
          ],
          [
           "X11"
          ],
          [
           "Scrypt"
          ],
          [
           "X11"
          ],
          [
           "Equihash"
          ],
          [
           "SHA-256"
          ],
          [
           "Scrypt"
          ],
          [
           "SHA-256"
          ],
          [
           "Scrypt"
          ],
          [
           "Scrypt"
          ],
          [
           "X11"
          ],
          [
           "X11"
          ],
          [
           "Scrypt"
          ],
          [
           "X11"
          ],
          [
           "Scrypt"
          ],
          [
           "X11"
          ],
          [
           "Scrypt"
          ],
          [
           "Scrypt"
          ],
          [
           "NIST5"
          ],
          [
           "Scrypt"
          ],
          [
           "SHA-256"
          ],
          [
           "Scrypt"
          ],
          [
           "X11"
          ],
          [
           "Scrypt"
          ],
          [
           "Scrypt"
          ],
          [
           "X11"
          ],
          [
           "X11"
          ],
          [
           "Keccak"
          ],
          [
           "X11"
          ],
          [
           "SHA-256"
          ],
          [
           "Scrypt"
          ],
          [
           "Scrypt"
          ],
          [
           "Scrypt"
          ],
          [
           "Scrypt"
          ],
          [
           "Scrypt"
          ],
          [
           "Scrypt"
          ],
          [
           "X11"
          ],
          [
           "Scrypt"
          ],
          [
           "X11"
          ],
          [
           "X11"
          ],
          [
           "Scrypt"
          ],
          [
           "BLAKE256"
          ],
          [
           "X11"
          ],
          [
           "Scrypt"
          ],
          [
           "X11"
          ],
          [
           "SHA-256"
          ],
          [
           "C11"
          ],
          [
           "Scrypt"
          ],
          [
           "Lyra2REv2"
          ],
          [
           "Scrypt"
          ],
          [
           "Scrypt"
          ],
          [
           "X11"
          ],
          [
           "Scrypt"
          ],
          [
           "X11"
          ],
          [
           "NIST5"
          ],
          [
           "X16R"
          ],
          [
           "X11"
          ],
          [
           "Scrypt"
          ],
          [
           "XEVAN"
          ],
          [
           "SHA-256"
          ],
          [
           "X11"
          ],
          [
           "X16R"
          ],
          [
           "SHA-256"
          ],
          [
           "Scrypt"
          ],
          [
           "QuBit"
          ],
          [
           "SHA-256"
          ],
          [
           "X13"
          ],
          [
           "SHA-256"
          ],
          [
           "Scrypt"
          ],
          [
           "Scrypt"
          ],
          [
           "SHA-256"
          ],
          [
           "Scrypt"
          ],
          [
           "Groestl"
          ],
          [
           "Scrypt"
          ],
          [
           "Scrypt"
          ]
         ],
         "hovertemplate": "<b>%{hovertext}</b><br><br>class=%{marker.color}<br>pc1=%{x}<br>pc2=%{y}<br>pcs3=%{z}<br>Algorithm=%{customdata[0]}<extra></extra>",
         "hovertext": [
          "Bitcoin",
          "Litecoin",
          "ProsperCoin",
          "Spreadcoin",
          "Argentum",
          "ZetaCoin",
          "SexCoin",
          "Quatloo",
          "QuarkCoin",
          "Riecoin",
          "Digitalcoin ",
          "Catcoin",
          "CannaCoin",
          "CryptCoin",
          "DevCoin",
          "EarthCoin",
          "E-Gulden",
          "Einsteinium",
          "Emerald",
          "Franko",
          "GrandCoin",
          "GlobalCoin",
          "GoldCoin",
          "Infinite Coin",
          "IXcoin",
          "KrugerCoin",
          "LuckyCoin",
          "Litebar ",
          "MegaCoin",
          "MinCoin",
          "NobleCoin",
          "Namecoin",
          "NyanCoin",
          "RonPaulCoin",
          "StableCoin",
          "SmartCoin",
          "SysCoin",
          "TigerCoin",
          "TerraCoin",
          "UnbreakableCoin",
          "Unobtanium",
          "UroCoin",
          "ViaCoin",
          "Vertcoin",
          "WorldCoin",
          "JouleCoin",
          "MonaCoin",
          "Gulden",
          "PesetaCoin",
          "Wild Beast Coin",
          "Flo",
          "ArtByte",
          "CypherPunkCoin",
          "OmniCron",
          "GreenCoin",
          "MasterCoin",
          "SoonCoin",
          "1Credit",
          "MarsCoin ",
          "Anarchists Prime",
          "BowsCoin",
          "Song Coin",
          "BitZeny",
          "MindCoin",
          "I0coin",
          "Revolution VR",
          "Gamecredits",
          "CarpeDiemCoin",
          "Adzcoin",
          "YoCoin",
          "Francs",
          "BolivarCoin",
          "Omni",
          "PizzaCoin",
          "Komodo",
          "ZayedCoin",
          "DopeCoin",
          "DollarCoin",
          "Shilling",
          "KiloCoin",
          "ArtexCoin",
          "Kurrent",
          "OsmiumCoin",
          "PacCoin",
          "BeaverCoin",
          "VaultCoin",
          "Canada eCoin",
          "EB3coin",
          "Coinonat",
          "BenjiRolls",
          "ILCoin",
          "EquiTrader",
          "DigitalPrice",
          "Unify",
          "SocialCoin",
          "ArcticCoin",
          "DAS",
          "SmartCash",
          "Onix",
          "Bitcoin Cash",
          "Sojourn Coin",
          "NewYorkCoin",
          "FrazCoin",
          "Kronecoin",
          "AdCoin",
          "Linx",
          "Elements",
          "eBoost",
          "Pura",
          "AC3",
          "PopularCoin",
          "Photon",
          "Sucre",
          "IrishCoin",
          "Pioneer Coin",
          "UnitedBitcoin",
          "Interzone",
          "ShareChain",
          "KREDS",
          "BitFlip",
          "LottoCoin",
          "Crypto Improvement Fund",
          "Poseidon",
          "FuturoCoin",
          "Jumpcoin",
          "Motion",
          "Axe",
          "HexCoin",
          "Urals Coin",
          "Project Pai",
          "Azart",
          "Xchange",
          "Bitcoin SV",
          "Block-Logic",
          "SLICE",
          "BLAST",
          "Bitcoin Rhodium",
          "GlobalToken",
          "SolarCoin",
          "Crypto Escudo",
          "Crown Coin",
          "SmileyCoin",
          "Groestlcoin",
          "Bata",
          "Pakcoin"
         ],
         "legendgroup": "3",
         "marker": {
          "color": [
           3,
           3,
           3,
           3,
           3,
           3,
           3,
           3,
           3,
           3,
           3,
           3,
           3,
           3,
           3,
           3,
           3,
           3,
           3,
           3,
           3,
           3,
           3,
           3,
           3,
           3,
           3,
           3,
           3,
           3,
           3,
           3,
           3,
           3,
           3,
           3,
           3,
           3,
           3,
           3,
           3,
           3,
           3,
           3,
           3,
           3,
           3,
           3,
           3,
           3,
           3,
           3,
           3,
           3,
           3,
           3,
           3,
           3,
           3,
           3,
           3,
           3,
           3,
           3,
           3,
           3,
           3,
           3,
           3,
           3,
           3,
           3,
           3,
           3,
           3,
           3,
           3,
           3,
           3,
           3,
           3,
           3,
           3,
           3,
           3,
           3,
           3,
           3,
           3,
           3,
           3,
           3,
           3,
           3,
           3,
           3,
           3,
           3,
           3,
           3,
           3,
           3,
           3,
           3,
           3,
           3,
           3,
           3,
           3,
           3,
           3,
           3,
           3,
           3,
           3,
           3,
           3,
           3,
           3,
           3,
           3,
           3,
           3,
           3,
           3,
           3,
           3,
           3,
           3,
           3,
           3,
           3,
           3,
           3,
           3,
           3,
           3,
           3,
           3,
           3,
           3,
           3,
           3,
           3,
           3
          ],
          "coloraxis": "coloraxis",
          "symbol": "square"
         },
         "mode": "markers",
         "name": "3",
         "scene": "scene",
         "showlegend": true,
         "type": "scatter3d",
         "x": [
          -0.1569133572047628,
          -0.16107246162595773,
          -0.16221565979878888,
          -0.2327328313645526,
          -0.1618334221123037,
          -0.15400592153691114,
          -0.15909643390173797,
          -0.16163820774912777,
          -0.2491792900945306,
          -0.20958742516431875,
          -0.16168638947850253,
          -0.16219796377610754,
          -0.16228416054010444,
          -0.2328219637673887,
          0.21992814584150658,
          0.08578752896655938,
          -0.16203107206641612,
          -0.157648401433066,
          -0.161970598668015,
          -0.16234102368332676,
          -0.14162101765877666,
          -0.16113925822050998,
          -0.1614161330233062,
          1.581977026120846,
          -0.1568748093233257,
          -0.15871313388379021,
          -0.16205744771368777,
          -0.16241132749685894,
          -0.16167254333103936,
          -0.16229292897719966,
          -0.02762749712091777,
          -0.1569522537412694,
          -0.1559734651307808,
          -0.16227251726477576,
          -0.16037307350023935,
          -0.16176064135027865,
          -0.1441399433227837,
          -0.15641741289535174,
          -0.1567039561914329,
          -0.15668733293080916,
          -0.1572760290332113,
          -0.23299531759236783,
          -0.16198963223324991,
          -0.20546503352475448,
          -0.15910128199584317,
          -0.1564845448150341,
          -0.16086041836014411,
          -0.14550701292900114,
          -0.15958255141625938,
          -0.1624135440321274,
          -0.15944781994441182,
          -0.1457088019012232,
          -0.1895305321657054,
          -0.16228690028028214,
          -0.03559034636140018,
          -0.16242239875644182,
          -0.15697997182442414,
          0.4874777339540495,
          -0.23238412384397586,
          -0.15672069726120896,
          -0.23266830073147585,
          -0.1605521575432051,
          -0.15974649987480394,
          -0.23270357495654767,
          -0.1568759292731226,
          -0.1583908689589384,
          -0.16098960583551133,
          0.260510198723524,
          -0.23186672925373755,
          -0.16123729221291513,
          -0.16221294135338774,
          -0.23266698133069133,
          -0.16242245709775824,
          -0.23281663159418067,
          -0.32413868891973313,
          -0.1571353523908537,
          -0.1595970970093801,
          -0.15709407901069755,
          -0.16208685254217126,
          -0.08939889502156462,
          -0.219433094686272,
          -0.23065133001659768,
          -0.16240425368412623,
          0.4799609267415031,
          -0.16237261469236305,
          -0.22557537608384234,
          -0.16051077944636505,
          -0.1333959764326506,
          -0.19135398415140012,
          -0.16193622961779391,
          -0.12355586910164207,
          -0.16175901748064417,
          -0.23187525509211318,
          -0.16207710113239532,
          -0.16184151101534708,
          -0.23226871558947101,
          -0.2328445469600998,
          -0.12860941811591087,
          -0.22374634424933146,
          -0.15691252320900595,
          -0.0882537883192355,
          1.5808613149014747,
          -0.16217474625532693,
          -0.16162816292971244,
          -0.1613299277754974,
          -0.16131688664354038,
          -0.18734573677911417,
          -0.16050899243008065,
          -0.22840161198758316,
          -0.22814561820011423,
          -0.07878823507649849,
          1.0838001446463486,
          -0.2328186096138757,
          -0.161427762070163,
          -0.23274420660886977,
          -0.1568919568182607,
          -0.20950607123167533,
          0.03011127221711001,
          -0.1910635074859884,
          -0.16200003472136487,
          0.14424713636443157,
          -0.22690212643302818,
          -0.16223636013806114,
          -0.2319159404202473,
          -0.1914130621714796,
          -0.2143885724980816,
          -0.23280081923674675,
          -0.16226089987011433,
          -0.17401908263604696,
          -0.11684566853524267,
          -0.23277228368057032,
          -0.21381825130772272,
          -0.1569125606942091,
          -0.16115648491016332,
          -0.1887441325867558,
          -0.1561906542015456,
          -0.11795683730473241,
          -0.15506199037768312,
          0.5312459381334916,
          -0.14585906636740323,
          -0.15670332798714445,
          0.5514161673548263,
          -0.20914956070194743,
          -0.16233741306035238,
          -0.16029915794555494
         ],
         "y": [
          -1.2846618706683672,
          -1.1526916952977908,
          -1.1526886037719488,
          -0.9064917736767693,
          -1.1527050469745954,
          -1.2846617043768096,
          -1.1527371542602487,
          -1.1527233072727385,
          -0.38680382388010415,
          -1.200567624091997,
          -1.15268862914742,
          -1.1526879665525034,
          -1.1526855488198113,
          -0.9064935782730068,
          -1.2858297496821731,
          -1.1532271358783182,
          -1.1526819569171967,
          -1.1527199907216925,
          -1.152687506760815,
          -1.1526862587342688,
          -1.1529302257257166,
          -1.1526842656632397,
          -1.1526958132930096,
          -1.1535129053009618,
          -1.2846604825903751,
          -1.15273418496732,
          -1.1526822041881926,
          -1.1526818455864023,
          -1.1526837989765322,
          -1.1526836587307663,
          -1.1583648611698845,
          -1.284663271301146,
          -1.1526858157230364,
          -1.1526906511632524,
          -1.1527831250182887,
          -1.1526934342661141,
          -1.284810973285633,
          -1.284662285385135,
          -1.2846690826962008,
          -1.2846951789047163,
          -1.2846603534221335,
          -0.9064871756992193,
          -1.1526818696917684,
          -1.226606726643987,
          -1.1527481618664885,
          -1.284663289354335,
          -1.1526988964796165,
          -1.1532523776401373,
          -1.152695920566263,
          -1.152682823190271,
          -1.1526865828639101,
          -1.1527819475003884,
          -1.5528790220978703,
          -1.1526787850416353,
          -1.1551391234132733,
          -1.1526817310656592,
          -1.2846642694068726,
          -1.193908431000919,
          -0.9064883494324815,
          -1.2846779468662586,
          -0.9064901524756348,
          -1.1527616425002996,
          -1.152760562609475,
          -0.9064879101984035,
          -1.2846605229188603,
          -1.1526836476499973,
          -1.1526887117278786,
          -1.2848083812055946,
          -0.9065055457020966,
          -1.1527568870550762,
          -1.1526878033882297,
          -0.9064929149438883,
          -1.1526817310379238,
          -0.9064983037286805,
          -0.9851216440673974,
          -1.284661951634912,
          -1.1527200579981973,
          -1.2846610992734828,
          -1.1526902879792702,
          -1.1570767256730226,
          -0.906350058386796,
          -0.9065629393969308,
          -1.1526825492678214,
          -0.95106366891601,
          -1.152681863584015,
          -0.9069224843164169,
          -1.1526827094926175,
          -1.1544460567323265,
          -0.6465436236490885,
          -1.152688742221499,
          -1.2852021789024768,
          -1.152707987681681,
          -0.9065170926258603,
          -1.1526824038477153,
          -1.1527130656911626,
          -0.9065031610316499,
          -0.9064950237207187,
          -1.2092380600477675,
          -0.9069268718314987,
          -1.2846618406368555,
          -1.1573867386589454,
          -1.0899070611762027,
          -1.1526864280136813,
          -1.1527117056516976,
          -1.1527122063605524,
          -1.152711736759952,
          -0.9061078617272211,
          -1.1526826451436083,
          -0.9065676332262856,
          -0.9066989140376767,
          -1.1531821708919183,
          -1.2527544069877588,
          -0.9064947219831184,
          -1.1526904394850066,
          -0.9064942907742101,
          -1.2846605141771994,
          -1.2154619545349417,
          -1.1527732613375108,
          -1.2268018739715998,
          -1.1526941866868714,
          -1.1545691800995317,
          -0.9066190121711112,
          -1.1526893491744017,
          -0.906518557671577,
          -0.6465266066151333,
          -1.186243984714006,
          -0.9064949243596879,
          -1.1526910092716807,
          -0.5647902576433709,
          -1.2846795521337016,
          -0.906496706796227,
          -1.1862781893177134,
          -1.2846618419866673,
          -1.1527200107174722,
          -1.5529209539560864,
          -1.2846660539906882,
          -0.33916284903856186,
          -1.2846984711694391,
          -1.1966175910955468,
          -1.1527873584021222,
          -1.2846690600750732,
          -1.1621012823202794,
          -1.2005666093360543,
          -1.1526817480930658,
          -1.1527326937393043
         ],
         "z": [
          0.19953307870958223,
          -0.01729867189751697,
          -0.017267202571155698,
          0.09708758119385813,
          -0.017273831812299054,
          0.199451016176571,
          -0.017342932901248522,
          -0.01727472597360134,
          0.050015630295079404,
          0.15045502941854202,
          -0.017282127197588353,
          -0.01726786276238688,
          -0.017266041872017596,
          0.09709055155385478,
          0.18919718329783405,
          -0.02412747789104579,
          -0.01727408904527984,
          -0.01738811866433203,
          -0.01727439302355376,
          -0.01726425838818935,
          -0.017787150882294527,
          -0.01729866441472017,
          -0.017287936422420064,
          -0.06626369966147656,
          0.1995316405913246,
          -0.017354496136224282,
          -0.017273282506157724,
          -0.017263389933506745,
          -0.017283738013577046,
          -0.017266271987294617,
          -0.019630068399106703,
          0.1995345298352271,
          -0.017444002992486694,
          -0.017265081371316198,
          -0.017295304895595522,
          -0.017278818628206485,
          0.19921039956633238,
          0.1995191925863391,
          0.19952899329735596,
          0.19953511682330471,
          0.19954292661200668,
          0.09709382453898505,
          -0.017275280123182708,
          0.22105158087817092,
          -0.017340015369297777,
          0.19952134004329902,
          -0.01730283458922974,
          -0.017596141914641945,
          -0.01733963577237377,
          -0.01726308043938903,
          -0.017345795538632473,
          -0.017709290361037227,
          0.2381065189045988,
          -0.017267673261929333,
          -0.020220324140637642,
          -0.01726310653702431,
          0.19953556392270388,
          -0.025182409287190396,
          0.09707687890346595,
          0.19953170485808036,
          0.09708535119436258,
          -0.017295679784260182,
          -0.017318680680123346,
          0.09708577985293643,
          0.19953168237365326,
          -0.01737635426698592,
          -0.017301763025240394,
          0.1877943187465731,
          0.09706662704540628,
          -0.01727755304998167,
          -0.017267481454741686,
          0.09708601183371465,
          -0.01726310489818696,
          0.0970915948844079,
          0.43198540981009803,
          0.1995393617823996,
          -0.017333127784345894,
          0.19953798210999668,
          -0.017270410834070635,
          -0.01821287124416295,
          0.09667658714347269,
          0.09704683880955726,
          -0.017263411724598773,
          0.08824190233766685,
          -0.017264477498613925,
          0.09699447205144066,
          -0.01731678730527268,
          -0.01763625191855084,
          0.02658629552929873,
          -0.017275050490676295,
          0.19872853751721056,
          -0.017275187924587054,
          0.09706978457226347,
          -0.01727267763289055,
          -0.01727157791465825,
          0.09707736490343255,
          0.09709155379141524,
          0.156334474266715,
          0.09694398233688155,
          0.19953304759543328,
          -0.01816685927670619,
          -0.0823004647821319,
          -0.017268906411596004,
          -0.01727794016957457,
          -0.017286227074103027,
          -0.01728671360382315,
          0.09571019908842202,
          -0.017316853974066137,
          0.0969845586639721,
          0.0970105013542529,
          -0.019496054889348368,
          0.12227122665576687,
          0.09709074585756522,
          -0.017288965902454937,
          0.09708853797076761,
          0.19953213231208883,
          0.13362178489813786,
          -0.02267147563612758,
          0.22069460361326698,
          -0.017271875117882047,
          -0.025437628893145537,
          0.0969552367221592,
          -0.017266430296915557,
          0.09707130243293506,
          0.026583663277742923,
          0.207166135682231,
          0.09709029510502112,
          -0.017265318638975253,
          0.14766570396113338,
          0.1984072116320411,
          0.09708994038247751,
          0.20715868741323878,
          0.19953304899390586,
          -0.017289148449758988,
          0.23809492700820248,
          0.19951374761895135,
          -0.05717954119235244,
          0.1994900966225362,
          -0.025732743249452957,
          -0.017703684396085894,
          0.19952896986073576,
          -0.035021339026621794,
          0.150442420646665,
          -0.01726549973357203,
          -0.01731013015232988
         ]
        },
        {
         "customdata": [
          [
           "Ethash"
          ],
          [
           "CryptoNight-V7"
          ],
          [
           "Ethash"
          ],
          [
           "Equihash"
          ],
          [
           "Multiple"
          ],
          [
           "Multiple"
          ],
          [
           "Multiple"
          ],
          [
           "NeoScrypt"
          ],
          [
           "HybridScryptHash256"
          ],
          [
           "CryptoNight"
          ],
          [
           "Stanford Folding"
          ],
          [
           "Multiple"
          ],
          [
           "M7 POW"
          ],
          [
           "Lyra2RE"
          ],
          [
           "Ethash"
          ],
          [
           "Blake2b"
          ],
          [
           "1GB AES Pattern Search"
          ],
          [
           "Dagger"
          ],
          [
           "X11GOST"
          ],
          [
           "CryptoNight"
          ],
          [
           "Multiple"
          ],
          [
           "Lyra2Z"
          ],
          [
           "Ethash"
          ],
          [
           "Equihash"
          ],
          [
           "CryptoNight"
          ],
          [
           "CryptoNight"
          ],
          [
           "Lyra2RE"
          ],
          [
           "CryptoNight-V7"
          ],
          [
           "Equihash"
          ],
          [
           "Lyra2RE"
          ],
          [
           "Dagger-Hashimoto"
          ],
          [
           "CryptoNight-V7"
          ],
          [
           "Argon2d"
          ],
          [
           "Blake2b"
          ],
          [
           "Cloverhash"
          ],
          [
           "CryptoNight"
          ],
          [
           "CryptoNight"
          ],
          [
           "Time Travel"
          ],
          [
           "CryptoNight"
          ],
          [
           "Equihash"
          ],
          [
           "NeoScrypt"
          ],
          [
           "Equihash"
          ],
          [
           "Dagger"
          ],
          [
           "NeoScrypt"
          ],
          [
           "Ethash"
          ],
          [
           "NeoScrypt"
          ],
          [
           "Multiple"
          ],
          [
           "CryptoNight"
          ],
          [
           "CryptoNight"
          ],
          [
           "Ethash"
          ],
          [
           "CryptoNight-V7"
          ],
          [
           "NeoScrypt"
          ],
          [
           "NeoScrypt"
          ],
          [
           "SkunkHash"
          ],
          [
           "CryptoNight"
          ],
          [
           "Dagger"
          ],
          [
           "Ethash"
          ],
          [
           "CryptoNight"
          ],
          [
           "IMesh"
          ],
          [
           "Equihash"
          ],
          [
           "Lyra2Z"
          ],
          [
           "CryptoNight"
          ],
          [
           "Lyra2RE"
          ],
          [
           "Tribus"
          ],
          [
           "Lyra2Z"
          ],
          [
           "CryptoNight"
          ],
          [
           "CryptoNight Heavy"
          ],
          [
           "Jump Consistent Hash"
          ],
          [
           "CryptoNight"
          ],
          [
           "HMQ1725"
          ],
          [
           "CryptoNight-V7"
          ],
          [
           "Cryptonight-GPU"
          ],
          [
           "Equihash"
          ],
          [
           "Lyra2Z"
          ],
          [
           "CryptoNight"
          ],
          [
           "Blake"
          ],
          [
           "Blake"
          ],
          [
           "Exosis"
          ],
          [
           "Equihash"
          ],
          [
           "Equihash"
          ],
          [
           "NeoScrypt"
          ],
          [
           "Blake"
          ],
          [
           "Multiple"
          ],
          [
           "Equihash+Scrypt"
          ],
          [
           "Ethash"
          ],
          [
           "CryptoNight"
          ],
          [
           "Equihash"
          ]
         ],
         "hovertemplate": "<b>%{hovertext}</b><br><br>class=%{marker.color}<br>pc1=%{x}<br>pc2=%{y}<br>pcs3=%{z}<br>Algorithm=%{customdata[0]}<extra></extra>",
         "hovertext": [
          "Ethereum",
          "Monero",
          "Ethereum Classic",
          "ZCash",
          "DigiByte",
          "MyriadCoin",
          "Verge",
          "FeatherCoin",
          "MediterraneanCoin",
          "DigitalNote ",
          "Folding Coin",
          "Unitus",
          "Cryptonite",
          "Crypto",
          "Expanse",
          "Siacoin",
          "HOdlcoin",
          "SoilCoin",
          "SibCoin",
          "Karbo",
          "Circuits of Value",
          "ZCoin",
          "Elementrem",
          "ZClassic",
          "Cannabis Industry Coin",
          "Bikercoins",
          "HexxCoin",
          "Citadel",
          "Zero",
          "Zoin",
          "DubaiCoin",
          "Quantum Resistant Ledger",
          "Dynamic",
          "Nano",
          "ChanCoin",
          "Dinastycoin",
          "LeviarCoin",
          "Bitcore",
          "Sumokoin",
          "BitcoinZ",
          "VIVO Coin",
          "Bitcoin Gold",
          "Pirl",
          "Innova",
          "Ellaism",
          "GoByte",
          "SHIELD",
          "UltraNote",
          "BitCoal",
          "DaxxCoin",
          "Lethean",
          "SparksPay",
          "GunCoin",
          "MUNcoin",
          "Niobio Cash",
          "Travelflex",
          "Callisto Network",
          "BitTube",
          "Aidos Kuneen",
          "Bitrolium",
          "Alpenschillling",
          "Monero Classic",
          "Infinex",
          "KEYCO",
          "GINcoin",
          "PlatinCoin",
          "Loki",
          "MassGrid",
          "PluraCoin",
          "PlusOneCoin",
          "Webchain",
          "Ryo",
          "CrypticCoin",
          "Actinium",
          "FREDEnergy",
          "Universal Molecule",
          "Lithium",
          "Exosis",
          "Beam",
          "Bithereum",
          "UFO Coin",
          "BlakeCoin",
          "JoinCoin",
          "Vollar",
          "Reality Clash",
          "Beldex",
          "Horizen"
         ],
         "legendgroup": "2",
         "marker": {
          "color": [
           2,
           2,
           2,
           2,
           2,
           2,
           2,
           2,
           2,
           2,
           2,
           2,
           2,
           2,
           2,
           2,
           2,
           2,
           2,
           2,
           2,
           2,
           2,
           2,
           2,
           2,
           2,
           2,
           2,
           2,
           2,
           2,
           2,
           2,
           2,
           2,
           2,
           2,
           2,
           2,
           2,
           2,
           2,
           2,
           2,
           2,
           2,
           2,
           2,
           2,
           2,
           2,
           2,
           2,
           2,
           2,
           2,
           2,
           2,
           2,
           2,
           2,
           2,
           2,
           2,
           2,
           2,
           2,
           2,
           2,
           2,
           2,
           2,
           2,
           2,
           2,
           2,
           2,
           2,
           2,
           2,
           2,
           2,
           2,
           2,
           2,
           2
          ],
          "coloraxis": "coloraxis",
          "symbol": "x"
         },
         "mode": "markers",
         "name": "2",
         "scene": "scene",
         "showlegend": true,
         "type": "scatter3d",
         "x": [
          -0.1727240700030328,
          -0.1638773726092203,
          -0.17117139167231826,
          -0.1806870241948007,
          0.13616196148444137,
          -0.11652379039206251,
          0.15990194087159124,
          -0.18895438538520334,
          -0.1530785790510109,
          0.43297500761467206,
          -0.15032665859681496,
          -0.15043888145809142,
          -0.14214152169319577,
          -0.1717788013173379,
          -0.17378940235860146,
          0.341652809609287,
          -0.1686771108017895,
          -0.1778499893733227,
          -0.1902202641328106,
          0.2783050653435013,
          -0.13056522295428827,
          -0.16915322004577393,
          -0.17353219794388583,
          -0.18070859502459968,
          0.27829933810238566,
          0.2784297370146876,
          -0.17231756689521646,
          -0.16264645426333055,
          -0.18072090583185513,
          -0.17203665241296368,
          -0.17743008374872268,
          -0.16250374319520533,
          -0.16433252239734686,
          -0.05779750906202476,
          -0.1804265826378612,
          0.3143255301159606,
          0.27869317122549125,
          -0.1737686970605422,
          0.2788760607515244,
          0.030954321409372248,
          -0.19363019508775495,
          -0.18056732382447077,
          -0.1766129249667329,
          -0.19347610664274248,
          -0.1719032800401657,
          -0.19357597349583708,
          -0.14069778294306734,
          1.1136516823366187,
          0.2782822244831118,
          -0.0970444433848695,
          -0.15164749559061166,
          -0.19362770257284548,
          -0.18668495935511195,
          -0.1682384671913662,
          0.2821453312168215,
          -0.1761166733499646,
          -0.12510067754234203,
          0.2861791379422321,
          -0.15601000500299098,
          -0.17956103230998774,
          -0.16694409054395618,
          0.2784642976999669,
          -0.17216328928955846,
          -0.16387135664375682,
          -0.16923731368545486,
          0.2823786461704898,
          0.5652062749193968,
          -0.16471656828693956,
          0.2920309362103601,
          -0.17526909124007178,
          -0.15153469519974244,
          -0.177090714404124,
          -0.07560975414065962,
          -0.1686370446519578,
          0.35797818142055926,
          -0.16050215619934607,
          -0.16089259089967423,
          -0.1729345185726508,
          -0.1786338483953205,
          -0.18040059286831503,
          -0.11899061882757805,
          -0.1115295145081302,
          -0.15117222353881932,
          -0.1405503338231088,
          -0.17356526947848622,
          0.29997980464933927,
          -0.18068807888518718
         ],
         "y": [
          -1.9600394516804502,
          -2.193536193386017,
          -1.9601310648785926,
          -1.8924640985637278,
          -1.7290503471181347,
          -1.7248019570685837,
          -1.7250729007370549,
          -1.5891359359667376,
          -2.2112101431525923,
          -2.2415158146863794,
          -2.12507428279967,
          -1.7246182226277447,
          -2.102324025847546,
          -2.1465759611476933,
          -1.9600896900901208,
          -2.080370796966251,
          -2.152459753559975,
          -2.1279629252465035,
          -2.101492847305906,
          -2.240067431975358,
          -1.7247455819220934,
          -2.1747472264138574,
          -1.9600869609654332,
          -1.8924648753118396,
          -2.2400753656503922,
          -2.2400734800699724,
          -2.1465561701119564,
          -2.1936218305330866,
          -1.8924625086352316,
          -2.1465537820513747,
          -2.1309139155158494,
          -2.1935604920469562,
          -2.1728596304750907,
          -2.0949937260018685,
          -2.0934860432624194,
          -2.2401683286670733,
          -2.2400843663637384,
          -2.1547522887349815,
          -2.240102289918993,
          -1.89958070145768,
          -1.5890872372245124,
          -1.8924597882503331,
          -2.128007109369603,
          -1.58909433352903,
          -1.9602065942151154,
          -1.5890886567234679,
          -1.7247311000623464,
          -2.2696923015181394,
          -2.2400700106929974,
          -1.9643392366338928,
          -2.1937979358886177,
          -1.5890829325028584,
          -1.5891694249044097,
          -2.1301403034077624,
          -2.240158160384129,
          -2.1279496845693746,
          -1.962890787447957,
          -2.240479362752763,
          -2.2236928024564895,
          -1.8924579747482415,
          -2.174863392473506,
          -2.240067599102653,
          -2.1465620513147683,
          -2.1687270042802904,
          -2.174742597365469,
          -2.2403352178667655,
          -2.1885661230187634,
          -2.1517491240955184,
          -2.2402686442362776,
          -2.1172662469375467,
          -2.1943211092965007,
          -2.154891534422091,
          -1.8940045585120433,
          -2.1747726155242892,
          -2.2428675998331062,
          -2.171151365318495,
          -2.1711093014101244,
          -2.165353039822828,
          -1.8925600285848707,
          -1.892460729266253,
          -1.5891905379813587,
          -2.174231516820748,
          -1.7246465966673308,
          -2.1555132421446768,
          -1.9600869452432235,
          -2.2402635661843386,
          -1.8924641365422745
         ],
         "z": [
          0.37453338684396414,
          0.41554617700510244,
          0.37451272836202476,
          0.39154626441626345,
          0.33390230337424914,
          0.339957484647101,
          0.3322277934146375,
          0.2791582655110362,
          0.4059561859590159,
          0.40714926941221824,
          0.3891350053056354,
          0.3408678345671338,
          0.4278253372551177,
          0.4048970096408508,
          0.3745761318470858,
          0.3708776213577815,
          0.4605243831988125,
          0.41812202587861713,
          0.4099107138183022,
          0.4111467088812368,
          0.3403393603722304,
          0.41042094958913533,
          0.37456818651737606,
          0.3915470691661747,
          0.41114887467159356,
          0.4111447196999373,
          0.40490720889224835,
          0.4155330858851499,
          0.39154681858677226,
          0.4048986808474692,
          0.4215425610137206,
          0.4155135644639963,
          0.4458321301889609,
          0.3858404317922357,
          0.4112277620013537,
          0.41015603844797927,
          0.411140038179095,
          0.4189532781380855,
          0.4111394066402401,
          0.38737354461160467,
          0.27927787056242787,
          0.39154179871590333,
          0.41809828942583765,
          0.27927531631704766,
          0.37455245575425206,
          0.279276699535189,
          0.34062154759941926,
          0.3950649698911809,
          0.4111480046767538,
          0.37348463923898884,
          0.4152672866875304,
          0.2792767127793748,
          0.2791027036706549,
          0.4096521264123919,
          0.41106129264954827,
          0.41806978309475235,
          0.37391021239419026,
          0.4110286393218402,
          0.3877951940896367,
          0.3915129524911233,
          0.41038797481609846,
          0.4111422590598999,
          0.40490434234902317,
          0.4030774024285585,
          0.4104221525219428,
          0.41109943932094023,
          0.3953244140547099,
          0.41200859691335684,
          0.41081032439465026,
          0.4034980392019319,
          0.41539626966937193,
          0.47004580953766184,
          0.3889711250600113,
          0.4104128018177532,
          0.4096064661408082,
          0.4104744046047734,
          0.41047479273293375,
          0.4709941441294669,
          0.3915125771218474,
          0.3915373328558663,
          0.27719833888429657,
          0.4098709709202094,
          0.3408956905007567,
          0.36999465701893414,
          0.37456911551365407,
          0.41058479916551827,
          0.3915463037639382
         ]
        },
        {
         "customdata": [
          [
           "SHA-512"
          ],
          [
           "X15"
          ],
          [
           "PoS"
          ],
          [
           "SHA3"
          ],
          [
           "X13"
          ],
          [
           "X13"
          ],
          [
           "PHI1612"
          ],
          [
           "X13"
          ],
          [
           "Counterparty"
          ],
          [
           "X13"
          ],
          [
           "X13"
          ],
          [
           "SHA3"
          ],
          [
           "QUAIT"
          ],
          [
           "X13"
          ],
          [
           "X15"
          ],
          [
           "NIST5"
          ],
          [
           "PoS"
          ],
          [
           "NIST5"
          ],
          [
           "POS 3.0"
          ],
          [
           "X13"
          ],
          [
           "SHA-256D"
          ],
          [
           "PoS"
          ],
          [
           "PoS"
          ],
          [
           "X13"
          ],
          [
           "X14"
          ],
          [
           "PoS"
          ],
          [
           "SHA-256D"
          ],
          [
           "X13"
          ],
          [
           "PoS"
          ],
          [
           "PoS"
          ],
          [
           "Quark"
          ],
          [
           "X13"
          ],
          [
           "Blake2S"
          ],
          [
           "PoS"
          ],
          [
           "PoS"
          ],
          [
           "PoS"
          ],
          [
           "X15"
          ],
          [
           "POS 3.0"
          ],
          [
           "536"
          ],
          [
           "NIST5"
          ],
          [
           "NIST5"
          ],
          [
           "Skein"
          ],
          [
           "X13"
          ],
          [
           "X13"
          ],
          [
           "SkunkHash v2 Raptor"
          ],
          [
           "Skein"
          ],
          [
           "PoS"
          ],
          [
           "SHA-512"
          ],
          [
           "Ouroboros"
          ],
          [
           "NIST5"
          ],
          [
           "PHI1612"
          ],
          [
           "Quark"
          ],
          [
           "POS 2.0"
          ],
          [
           "NIST5"
          ],
          [
           "X13"
          ],
          [
           "NIST5"
          ],
          [
           "Quark"
          ],
          [
           "Quark"
          ],
          [
           "POS 3.0"
          ],
          [
           "X13"
          ],
          [
           "XEVAN"
          ],
          [
           "VBFT"
          ],
          [
           "NIST5"
          ],
          [
           "Green Protocol"
          ],
          [
           "PoS"
          ],
          [
           "Quark"
          ],
          [
           "PoS"
          ],
          [
           "SHA-256D"
          ],
          [
           "X15"
          ],
          [
           "Quark"
          ],
          [
           "DPoS"
          ],
          [
           "Quark"
          ],
          [
           "Quark"
          ],
          [
           "Quark"
          ],
          [
           "PoS"
          ],
          [
           "SHA-512"
          ],
          [
           "XEVAN"
          ],
          [
           "XEVAN"
          ],
          [
           "Quark"
          ],
          [
           "Quark"
          ],
          [
           "Quark"
          ],
          [
           "XEVAN"
          ],
          [
           "SHA-256D"
          ],
          [
           "PoS"
          ],
          [
           "X13"
          ],
          [
           "PoS"
          ],
          [
           "PoS"
          ]
         ],
         "hovertemplate": "<b>%{hovertext}</b><br><br>class=%{marker.color}<br>pc1=%{x}<br>pc2=%{y}<br>pcs3=%{z}<br>Algorithm=%{customdata[0]}<extra></extra>",
         "hovertext": [
          "Bitshares",
          "KoboCoin",
          "Exclusive Coin",
          "MaxCoin",
          "NavCoin",
          "OpalCoin",
          "TittieCoin",
          "StealthCoin",
          "StorjCoin",
          "Kore",
          "Sativa Coin",
          "Nexus",
          "Droidz",
          "Paycon",
          "EverGreenCoin",
          "PWR Coin",
          "Nebuchadnezzar",
          "VIP Tokens",
          "Let it Ride",
          "MudraCoin",
          "BuzzCoin",
          "Opair",
          "CoffeeCoin",
          "RoyalCoin",
          "GanjaCoin V2",
          "TeamUP",
          "LanaCoin",
          "EmberCoin",
          "FreeCoin",
          "Creatio",
          "Allsafe",
          "FindCoin",
          "TajCoin",
          "Atmos",
          "MacronCoin",
          "Phreak",
          "HTML5 Coin",
          "QTUM",
          "Espers",
          "Denarius",
          "Virta Unique Coin",
          "Bitcoin Planet",
          "BritCoin",
          "DeepOnion",
          "Signatum",
          "Cream",
          "Stakecoin",
          "Obsidian",
          "Cardano",
          "NamoCoin",
          "LUXCoin",
          "Bitcloud 2.0",
          "KekCoin",
          "Electra",
          "Bitcoin Diamond",
          "Bulwark",
          "Kalkulus",
          "Digiwage",
          "TokenPay",
          "Tokyo Coin",
          "Ellerium",
          "Ontology",
          "Bitspace",
          "Bitcoin Green",
          "Deviant Coin",
          "Carebit",
          "Zealium",
          "TheVig",
          "Dekado",
          "Poseidon Quark",
          "Muse",
          "Dystem",
          "Giant",
          "Vitae",
          "Ketan",
          "Kcash",
          "Bettex coin",
          "BitMoney",
          "HerbCoin",
          "Galilel",
          "Crypto Sports",
          "Beetle Coin",
          "Titan Coin",
          "Radium",
          "Triangles Coin",
          "Particl",
          "Nxt"
         ],
         "legendgroup": "1",
         "marker": {
          "color": [
           1,
           1,
           1,
           1,
           1,
           1,
           1,
           1,
           1,
           1,
           1,
           1,
           1,
           1,
           1,
           1,
           1,
           1,
           1,
           1,
           1,
           1,
           1,
           1,
           1,
           1,
           1,
           1,
           1,
           1,
           1,
           1,
           1,
           1,
           1,
           1,
           1,
           1,
           1,
           1,
           1,
           1,
           1,
           1,
           1,
           1,
           1,
           1,
           1,
           1,
           1,
           1,
           1,
           1,
           1,
           1,
           1,
           1,
           1,
           1,
           1,
           1,
           1,
           1,
           1,
           1,
           1,
           1,
           1,
           1,
           1,
           1,
           1,
           1,
           1,
           1,
           1,
           1,
           1,
           1,
           1,
           1,
           1,
           1,
           1,
           1,
           1
          ],
          "coloraxis": "coloraxis",
          "symbol": "cross"
         },
         "mode": "markers",
         "name": "1",
         "scene": "scene",
         "showlegend": true,
         "type": "scatter3d",
         "x": [
          -0.2650869601276919,
          -0.22100819079205963,
          -0.4178524241841963,
          -0.44329451356126925,
          -0.25757244841231347,
          -0.25819330982427907,
          -0.347018988512154,
          -0.2579746478314571,
          -0.389255284161565,
          -0.25826864513242326,
          -0.258220915499373,
          -0.5346878854603653,
          -0.38573318851751953,
          -0.25774396162576235,
          -0.22344133234352023,
          -0.20946067983226735,
          -0.4175365703515624,
          -0.33055731665715865,
          -0.3938608914823944,
          -0.2523627767726096,
          0.06611552682560012,
          -0.4164964120030015,
          -0.4158261881813985,
          -0.25378843950324115,
          -0.3690408214815547,
          -0.415578107087633,
          -0.24761260913491773,
          0.8714856338888755,
          -0.41695893355531305,
          -0.4175365703515624,
          -0.3897047032916717,
          -0.25355690866794517,
          -0.3786823927294959,
          -0.41578776491460584,
          -0.4102025102801941,
          -0.4175708836678948,
          0.9076364953814322,
          -0.3926425095963708,
          0.609149778554127,
          -0.33208889248961726,
          -0.33059539203865296,
          -0.38102831343195886,
          -0.257906878473976,
          -0.25797739384054535,
          -0.3988872866032829,
          -0.3805342713675545,
          -0.4174377427661127,
          -0.32299252590373884,
          0.6095951855073293,
          -0.3168998461748093,
          -0.3870598133873268,
          -0.3926931409734783,
          -0.3921932199145843,
          0.22591155553522116,
          -0.25465724147276053,
          -0.3273116122928984,
          -0.38959090092200105,
          -0.3887583804061153,
          -0.3941421179468386,
          -0.24537776312287032,
          -0.3156455013397334,
          -0.38471909286129613,
          -0.331689094713287,
          -0.39207287316155487,
          -0.41703332518699493,
          -0.39136405529034457,
          -0.41722151078085484,
          -0.31271715771137193,
          -0.2182456011210633,
          -0.38531400744288286,
          1.0224216661685999,
          -0.38970419614592794,
          -0.394371825897385,
          -0.3884272397186147,
          -0.41632446845705545,
          -0.220076411770011,
          -0.3110970220475009,
          0.4613663584348786,
          -0.3936684382802735,
          -0.39412324306103275,
          -0.3898208483162427,
          -0.3101172248497921,
          -0.26758059672472867,
          -0.41781150113020094,
          -0.25837550677005505,
          -0.4177475035020441,
          -0.4827062676355118
         ],
         "y": [
          1.6737207074530513,
          1.7911165920836332,
          1.8018454155221377,
          2.035469128035858,
          1.7138538148024545,
          1.7138314580858218,
          1.7327339592308362,
          1.7138393319270973,
          1.7098597952328944,
          1.7138203153859652,
          1.7138234390808005,
          2.474661245038937,
          1.7689307612861114,
          1.7138125140154508,
          1.7912563755668331,
          1.4108808993664574,
          1.801842739268817,
          1.4064570830228065,
          1.7316038599470014,
          1.6661395210782972,
          1.7988375388771711,
          1.8018422598146673,
          1.8018902789232096,
          1.6662269267344516,
          1.7334648833696051,
          1.8017158609336632,
          1.7963174115819216,
          1.7539131614682693,
          1.8018424646609903,
          1.801842739268817,
          1.6185801914159934,
          1.6662268166649754,
          1.7507147024049112,
          1.801842284068611,
          1.8018398848457298,
          1.8018344787270673,
          1.7687795231707093,
          1.7316010169943268,
          1.785779956315395,
          1.406458131793588,
          1.406434637118101,
          1.781741964567995,
          1.7138206974057226,
          1.713825957168856,
          1.713696818003462,
          1.7817597546226285,
          1.8018170742151254,
          1.674100756375688,
          1.6764454186726256,
          1.4061691083552212,
          1.7806271005270666,
          1.6661040095158923,
          1.7136178927833265,
          1.4054834599168682,
          1.7138112651560564,
          1.3588563214629656,
          1.618580776873652,
          1.6185405057930233,
          1.7315997044147367,
          1.6659695489418525,
          1.488257897610981,
          1.7893626576138457,
          1.406444428399661,
          1.739076799335027,
          1.8018130910799122,
          1.666151868814966,
          1.8018119346266959,
          1.7991757252748475,
          1.743637328482405,
          1.6182922126820134,
          1.738872336668917,
          1.6185759947096903,
          1.6661804418214348,
          1.6185664797950376,
          1.8017529120830629,
          1.7160154863708297,
          1.440667318773242,
          1.448970854594986,
          1.6661714540761923,
          1.6661796389498222,
          1.6185771541940839,
          1.4881478687014547,
          1.797358832242815,
          1.8018405666758541,
          1.7138248130219946,
          1.8018431281933265,
          2.1116864572285046
         ],
         "z": [
          -0.16734026661295515,
          -0.6050643438713097,
          -0.20876966726545432,
          -0.7372083657546107,
          -0.5908971547076067,
          -0.5908739920304709,
          -0.2915420404562253,
          -0.5908821497240302,
          -0.15321181707807568,
          -0.5908690518838193,
          -0.5908711874799802,
          -0.8047121617320377,
          -0.6342149004796573,
          -0.5908818827254922,
          -0.6050310158648744,
          -0.5116726807172561,
          -0.20877790161304344,
          -0.5071389174823411,
          -0.20052272027735663,
          -0.3563881208054413,
          -0.6594954520039533,
          -0.20880712399040718,
          -0.2088381620976334,
          -0.3563699825926721,
          -0.6252136368689193,
          -0.2088010987822202,
          -0.6500083511795507,
          -0.6328684432744375,
          -0.20879412772551276,
          -0.20877790161304344,
          -0.24904094062569135,
          -0.35637648641202363,
          -0.6705596405626016,
          -0.20882712148177934,
          -0.20898407880686698,
          -0.20877484681841552,
          -0.6312612586144264,
          -0.20055637337694812,
          -0.6712743457909092,
          -0.5070959757415661,
          -0.5071321730218181,
          -0.6609829857195018,
          -0.5908793540473553,
          -0.5908786934983344,
          -0.18578726620720082,
          -0.6610014171062957,
          -0.20877420604019445,
          -0.16580272421741749,
          -0.25327730166299794,
          -0.5074514542538072,
          -0.5251136472378911,
          -0.48356451853890586,
          -0.19363986080406956,
          -0.5225912832848707,
          -0.5909686454842362,
          -0.27260315960219045,
          -0.24904429895910785,
          -0.2490576115041882,
          -0.20051373692901522,
          -0.3565422335652558,
          -0.38600313887792986,
          -0.19257695487801071,
          -0.5071037924996478,
          -0.19019610793240194,
          -0.2087846086775934,
          -0.48361410316757,
          -0.20877900770221547,
          -0.6488937854881239,
          -0.37054565009837603,
          -0.2490920550354513,
          -0.33351829804261984,
          -0.24903989475194668,
          -0.48353647030601205,
          -0.24907351479003814,
          -0.20878940341324065,
          -0.07374467343324514,
          -0.1515067054492103,
          -0.01784507328890286,
          -0.4835540427946185,
          -0.4835432801555487,
          -0.24903689683479852,
          -0.3861312991807534,
          -0.6497081279784858,
          -0.20876959680404938,
          -0.5908671734543143,
          -0.2087720493118126,
          -0.19899785283182017
         ]
        },
        {
         "customdata": [
          [
           "Scrypt"
          ],
          [
           "CryptoNight"
          ],
          [
           "Scrypt"
          ],
          [
           "CryptoNight"
          ],
          [
           "CryptoNight"
          ],
          [
           "CryptoNight Heavy"
          ]
         ],
         "hovertemplate": "<b>%{hovertext}</b><br><br>class=%{marker.color}<br>pc1=%{x}<br>pc2=%{y}<br>pcs3=%{z}<br>Algorithm=%{customdata[0]}<extra></extra>",
         "hovertext": [
          "MoonCoin",
          "ByteCoin",
          "gCn Coin",
          "TurtleCoin",
          "Newton Coin",
          "Qwertycoin"
         ],
         "legendgroup": "9",
         "marker": {
          "color": [
           9,
           9,
           9,
           9,
           9,
           9
          ],
          "coloraxis": "coloraxis",
          "symbol": "circle"
         },
         "mode": "markers",
         "name": "9",
         "scene": "scene",
         "showlegend": true,
         "type": "scatter3d",
         "x": [
          2.550237612527882,
          3.8250948640599427,
          3.2381078327210617,
          7.990179970017661,
          2.081354037065221,
          3.0806385988821563
         ],
         "y": [
          -1.3247585712472378,
          -2.2419307785562768,
          -1.1707298965686845,
          -2.6648567390563387,
          -2.304393098907041,
          -2.227471265620102
         ],
         "z": [
          -0.0503184836141518,
          0.3115603393384659,
          -0.10863476249446383,
          0.3009011932219716,
          0.3765316866410812,
          0.33419083977559344
         ]
        },
        {
         "customdata": [
          [
           "VeChainThor Authority"
          ]
         ],
         "hovertemplate": "<b>%{hovertext}</b><br><br>class=%{marker.color}<br>pc1=%{x}<br>pc2=%{y}<br>pcs3=%{z}<br>Algorithm=%{customdata[0]}<extra></extra>",
         "hovertext": [
          "Vechain"
         ],
         "legendgroup": "6",
         "marker": {
          "color": [
           6
          ],
          "coloraxis": "coloraxis",
          "symbol": "diamond"
         },
         "mode": "markers",
         "name": "6",
         "scene": "scene",
         "showlegend": true,
         "type": "scatter3d",
         "x": [
          4.698533387164553
         ],
         "y": [
          0.3145825872314652
         ],
         "z": [
          13.317000244795048
         ]
        },
        {
         "customdata": [
          [
           "Proof-of-BibleHash"
          ],
          [
           "SHA-256 + Hive"
          ],
          [
           "Proof-of-Authority"
          ]
         ],
         "hovertemplate": "<b>%{hovertext}</b><br><br>class=%{marker.color}<br>pc1=%{x}<br>pc2=%{y}<br>pcs3=%{z}<br>Algorithm=%{customdata[0]}<extra></extra>",
         "hovertext": [
          "BiblePay",
          "LitecoinCash",
          "Poa Network"
         ],
         "legendgroup": "5",
         "marker": {
          "color": [
           5,
           5,
           5
          ],
          "coloraxis": "coloraxis",
          "symbol": "square"
         },
         "mode": "markers",
         "name": "5",
         "scene": "scene",
         "showlegend": true,
         "type": "scatter3d",
         "x": [
          -0.34474453375139763,
          -0.214409932952175,
          -0.3467051543853136
         ],
         "y": [
          5.012418771501364,
          1.7009599354463474,
          2.6799684401392097
         ],
         "z": [
          16.54026564880999,
          15.181068489254992,
          13.793979127229129
         ]
        },
        {
         "customdata": [
          [
           "ECC 256K1"
          ],
          [
           "Leased POS"
          ]
         ],
         "hovertemplate": "<b>%{hovertext}</b><br><br>class=%{marker.color}<br>pc1=%{x}<br>pc2=%{y}<br>pcs3=%{z}<br>Algorithm=%{customdata[0]}<extra></extra>",
         "hovertext": [
          "Acute Angle Cloud",
          "Waves"
         ],
         "legendgroup": "8",
         "marker": {
          "color": [
           8,
           8
          ],
          "coloraxis": "coloraxis",
          "symbol": "x"
         },
         "mode": "markers",
         "name": "8",
         "scene": "scene",
         "showlegend": true,
         "type": "scatter3d",
         "x": [
          -0.3830653735783824,
          -0.7416619251540273
         ],
         "y": [
          3.744888945169045,
          6.806261327599305
         ],
         "z": [
          9.854669621185352,
          5.188799373679297
         ]
        },
        {
         "customdata": [
          [
           "TRC10"
          ]
         ],
         "hovertemplate": "<b>%{hovertext}</b><br><br>class=%{marker.color}<br>pc1=%{x}<br>pc2=%{y}<br>pcs3=%{z}<br>Algorithm=%{customdata[0]}<extra></extra>",
         "hovertext": [
          "BitTorrent"
         ],
         "legendgroup": "4",
         "marker": {
          "color": [
           4
          ],
          "coloraxis": "coloraxis",
          "symbol": "cross"
         },
         "mode": "markers",
         "name": "4",
         "scene": "scene",
         "showlegend": true,
         "type": "scatter3d",
         "x": [
          33.99561698806623
         ],
         "y": [
          1.8933258953938026
         ],
         "z": [
          -1.5999822980043499
         ]
        }
       ],
       "layout": {
        "coloraxis": {
         "colorbar": {
          "title": {
           "text": "class"
          }
         },
         "colorscale": [
          [
           0,
           "#0d0887"
          ],
          [
           0.1111111111111111,
           "#46039f"
          ],
          [
           0.2222222222222222,
           "#7201a8"
          ],
          [
           0.3333333333333333,
           "#9c179e"
          ],
          [
           0.4444444444444444,
           "#bd3786"
          ],
          [
           0.5555555555555556,
           "#d8576b"
          ],
          [
           0.6666666666666666,
           "#ed7953"
          ],
          [
           0.7777777777777778,
           "#fb9f3a"
          ],
          [
           0.8888888888888888,
           "#fdca26"
          ],
          [
           1,
           "#f0f921"
          ]
         ]
        },
        "legend": {
         "title": {
          "text": "class"
         },
         "tracegroupgap": 0,
         "x": 0,
         "y": 1
        },
        "margin": {
         "t": 60
        },
        "scene": {
         "domain": {
          "x": [
           0,
           1
          ],
          "y": [
           0,
           1
          ]
         },
         "xaxis": {
          "title": {
           "text": "pc1"
          }
         },
         "yaxis": {
          "title": {
           "text": "pc2"
          }
         },
         "zaxis": {
          "title": {
           "text": "pcs3"
          }
         }
        },
        "template": {
         "data": {
          "bar": [
           {
            "error_x": {
             "color": "#2a3f5f"
            },
            "error_y": {
             "color": "#2a3f5f"
            },
            "marker": {
             "line": {
              "color": "#E5ECF6",
              "width": 0.5
             }
            },
            "type": "bar"
           }
          ],
          "barpolar": [
           {
            "marker": {
             "line": {
              "color": "#E5ECF6",
              "width": 0.5
             }
            },
            "type": "barpolar"
           }
          ],
          "carpet": [
           {
            "aaxis": {
             "endlinecolor": "#2a3f5f",
             "gridcolor": "white",
             "linecolor": "white",
             "minorgridcolor": "white",
             "startlinecolor": "#2a3f5f"
            },
            "baxis": {
             "endlinecolor": "#2a3f5f",
             "gridcolor": "white",
             "linecolor": "white",
             "minorgridcolor": "white",
             "startlinecolor": "#2a3f5f"
            },
            "type": "carpet"
           }
          ],
          "choropleth": [
           {
            "colorbar": {
             "outlinewidth": 0,
             "ticks": ""
            },
            "type": "choropleth"
           }
          ],
          "contour": [
           {
            "colorbar": {
             "outlinewidth": 0,
             "ticks": ""
            },
            "colorscale": [
             [
              0,
              "#0d0887"
             ],
             [
              0.1111111111111111,
              "#46039f"
             ],
             [
              0.2222222222222222,
              "#7201a8"
             ],
             [
              0.3333333333333333,
              "#9c179e"
             ],
             [
              0.4444444444444444,
              "#bd3786"
             ],
             [
              0.5555555555555556,
              "#d8576b"
             ],
             [
              0.6666666666666666,
              "#ed7953"
             ],
             [
              0.7777777777777778,
              "#fb9f3a"
             ],
             [
              0.8888888888888888,
              "#fdca26"
             ],
             [
              1,
              "#f0f921"
             ]
            ],
            "type": "contour"
           }
          ],
          "contourcarpet": [
           {
            "colorbar": {
             "outlinewidth": 0,
             "ticks": ""
            },
            "type": "contourcarpet"
           }
          ],
          "heatmap": [
           {
            "colorbar": {
             "outlinewidth": 0,
             "ticks": ""
            },
            "colorscale": [
             [
              0,
              "#0d0887"
             ],
             [
              0.1111111111111111,
              "#46039f"
             ],
             [
              0.2222222222222222,
              "#7201a8"
             ],
             [
              0.3333333333333333,
              "#9c179e"
             ],
             [
              0.4444444444444444,
              "#bd3786"
             ],
             [
              0.5555555555555556,
              "#d8576b"
             ],
             [
              0.6666666666666666,
              "#ed7953"
             ],
             [
              0.7777777777777778,
              "#fb9f3a"
             ],
             [
              0.8888888888888888,
              "#fdca26"
             ],
             [
              1,
              "#f0f921"
             ]
            ],
            "type": "heatmap"
           }
          ],
          "heatmapgl": [
           {
            "colorbar": {
             "outlinewidth": 0,
             "ticks": ""
            },
            "colorscale": [
             [
              0,
              "#0d0887"
             ],
             [
              0.1111111111111111,
              "#46039f"
             ],
             [
              0.2222222222222222,
              "#7201a8"
             ],
             [
              0.3333333333333333,
              "#9c179e"
             ],
             [
              0.4444444444444444,
              "#bd3786"
             ],
             [
              0.5555555555555556,
              "#d8576b"
             ],
             [
              0.6666666666666666,
              "#ed7953"
             ],
             [
              0.7777777777777778,
              "#fb9f3a"
             ],
             [
              0.8888888888888888,
              "#fdca26"
             ],
             [
              1,
              "#f0f921"
             ]
            ],
            "type": "heatmapgl"
           }
          ],
          "histogram": [
           {
            "marker": {
             "colorbar": {
              "outlinewidth": 0,
              "ticks": ""
             }
            },
            "type": "histogram"
           }
          ],
          "histogram2d": [
           {
            "colorbar": {
             "outlinewidth": 0,
             "ticks": ""
            },
            "colorscale": [
             [
              0,
              "#0d0887"
             ],
             [
              0.1111111111111111,
              "#46039f"
             ],
             [
              0.2222222222222222,
              "#7201a8"
             ],
             [
              0.3333333333333333,
              "#9c179e"
             ],
             [
              0.4444444444444444,
              "#bd3786"
             ],
             [
              0.5555555555555556,
              "#d8576b"
             ],
             [
              0.6666666666666666,
              "#ed7953"
             ],
             [
              0.7777777777777778,
              "#fb9f3a"
             ],
             [
              0.8888888888888888,
              "#fdca26"
             ],
             [
              1,
              "#f0f921"
             ]
            ],
            "type": "histogram2d"
           }
          ],
          "histogram2dcontour": [
           {
            "colorbar": {
             "outlinewidth": 0,
             "ticks": ""
            },
            "colorscale": [
             [
              0,
              "#0d0887"
             ],
             [
              0.1111111111111111,
              "#46039f"
             ],
             [
              0.2222222222222222,
              "#7201a8"
             ],
             [
              0.3333333333333333,
              "#9c179e"
             ],
             [
              0.4444444444444444,
              "#bd3786"
             ],
             [
              0.5555555555555556,
              "#d8576b"
             ],
             [
              0.6666666666666666,
              "#ed7953"
             ],
             [
              0.7777777777777778,
              "#fb9f3a"
             ],
             [
              0.8888888888888888,
              "#fdca26"
             ],
             [
              1,
              "#f0f921"
             ]
            ],
            "type": "histogram2dcontour"
           }
          ],
          "mesh3d": [
           {
            "colorbar": {
             "outlinewidth": 0,
             "ticks": ""
            },
            "type": "mesh3d"
           }
          ],
          "parcoords": [
           {
            "line": {
             "colorbar": {
              "outlinewidth": 0,
              "ticks": ""
             }
            },
            "type": "parcoords"
           }
          ],
          "pie": [
           {
            "automargin": true,
            "type": "pie"
           }
          ],
          "scatter": [
           {
            "marker": {
             "colorbar": {
              "outlinewidth": 0,
              "ticks": ""
             }
            },
            "type": "scatter"
           }
          ],
          "scatter3d": [
           {
            "line": {
             "colorbar": {
              "outlinewidth": 0,
              "ticks": ""
             }
            },
            "marker": {
             "colorbar": {
              "outlinewidth": 0,
              "ticks": ""
             }
            },
            "type": "scatter3d"
           }
          ],
          "scattercarpet": [
           {
            "marker": {
             "colorbar": {
              "outlinewidth": 0,
              "ticks": ""
             }
            },
            "type": "scattercarpet"
           }
          ],
          "scattergeo": [
           {
            "marker": {
             "colorbar": {
              "outlinewidth": 0,
              "ticks": ""
             }
            },
            "type": "scattergeo"
           }
          ],
          "scattergl": [
           {
            "marker": {
             "colorbar": {
              "outlinewidth": 0,
              "ticks": ""
             }
            },
            "type": "scattergl"
           }
          ],
          "scattermapbox": [
           {
            "marker": {
             "colorbar": {
              "outlinewidth": 0,
              "ticks": ""
             }
            },
            "type": "scattermapbox"
           }
          ],
          "scatterpolar": [
           {
            "marker": {
             "colorbar": {
              "outlinewidth": 0,
              "ticks": ""
             }
            },
            "type": "scatterpolar"
           }
          ],
          "scatterpolargl": [
           {
            "marker": {
             "colorbar": {
              "outlinewidth": 0,
              "ticks": ""
             }
            },
            "type": "scatterpolargl"
           }
          ],
          "scatterternary": [
           {
            "marker": {
             "colorbar": {
              "outlinewidth": 0,
              "ticks": ""
             }
            },
            "type": "scatterternary"
           }
          ],
          "surface": [
           {
            "colorbar": {
             "outlinewidth": 0,
             "ticks": ""
            },
            "colorscale": [
             [
              0,
              "#0d0887"
             ],
             [
              0.1111111111111111,
              "#46039f"
             ],
             [
              0.2222222222222222,
              "#7201a8"
             ],
             [
              0.3333333333333333,
              "#9c179e"
             ],
             [
              0.4444444444444444,
              "#bd3786"
             ],
             [
              0.5555555555555556,
              "#d8576b"
             ],
             [
              0.6666666666666666,
              "#ed7953"
             ],
             [
              0.7777777777777778,
              "#fb9f3a"
             ],
             [
              0.8888888888888888,
              "#fdca26"
             ],
             [
              1,
              "#f0f921"
             ]
            ],
            "type": "surface"
           }
          ],
          "table": [
           {
            "cells": {
             "fill": {
              "color": "#EBF0F8"
             },
             "line": {
              "color": "white"
             }
            },
            "header": {
             "fill": {
              "color": "#C8D4E3"
             },
             "line": {
              "color": "white"
             }
            },
            "type": "table"
           }
          ]
         },
         "layout": {
          "annotationdefaults": {
           "arrowcolor": "#2a3f5f",
           "arrowhead": 0,
           "arrowwidth": 1
          },
          "coloraxis": {
           "colorbar": {
            "outlinewidth": 0,
            "ticks": ""
           }
          },
          "colorscale": {
           "diverging": [
            [
             0,
             "#8e0152"
            ],
            [
             0.1,
             "#c51b7d"
            ],
            [
             0.2,
             "#de77ae"
            ],
            [
             0.3,
             "#f1b6da"
            ],
            [
             0.4,
             "#fde0ef"
            ],
            [
             0.5,
             "#f7f7f7"
            ],
            [
             0.6,
             "#e6f5d0"
            ],
            [
             0.7,
             "#b8e186"
            ],
            [
             0.8,
             "#7fbc41"
            ],
            [
             0.9,
             "#4d9221"
            ],
            [
             1,
             "#276419"
            ]
           ],
           "sequential": [
            [
             0,
             "#0d0887"
            ],
            [
             0.1111111111111111,
             "#46039f"
            ],
            [
             0.2222222222222222,
             "#7201a8"
            ],
            [
             0.3333333333333333,
             "#9c179e"
            ],
            [
             0.4444444444444444,
             "#bd3786"
            ],
            [
             0.5555555555555556,
             "#d8576b"
            ],
            [
             0.6666666666666666,
             "#ed7953"
            ],
            [
             0.7777777777777778,
             "#fb9f3a"
            ],
            [
             0.8888888888888888,
             "#fdca26"
            ],
            [
             1,
             "#f0f921"
            ]
           ],
           "sequentialminus": [
            [
             0,
             "#0d0887"
            ],
            [
             0.1111111111111111,
             "#46039f"
            ],
            [
             0.2222222222222222,
             "#7201a8"
            ],
            [
             0.3333333333333333,
             "#9c179e"
            ],
            [
             0.4444444444444444,
             "#bd3786"
            ],
            [
             0.5555555555555556,
             "#d8576b"
            ],
            [
             0.6666666666666666,
             "#ed7953"
            ],
            [
             0.7777777777777778,
             "#fb9f3a"
            ],
            [
             0.8888888888888888,
             "#fdca26"
            ],
            [
             1,
             "#f0f921"
            ]
           ]
          },
          "colorway": [
           "#636efa",
           "#EF553B",
           "#00cc96",
           "#ab63fa",
           "#FFA15A",
           "#19d3f3",
           "#FF6692",
           "#B6E880",
           "#FF97FF",
           "#FECB52"
          ],
          "font": {
           "color": "#2a3f5f"
          },
          "geo": {
           "bgcolor": "white",
           "lakecolor": "white",
           "landcolor": "#E5ECF6",
           "showlakes": true,
           "showland": true,
           "subunitcolor": "white"
          },
          "hoverlabel": {
           "align": "left"
          },
          "hovermode": "closest",
          "mapbox": {
           "style": "light"
          },
          "paper_bgcolor": "white",
          "plot_bgcolor": "#E5ECF6",
          "polar": {
           "angularaxis": {
            "gridcolor": "white",
            "linecolor": "white",
            "ticks": ""
           },
           "bgcolor": "#E5ECF6",
           "radialaxis": {
            "gridcolor": "white",
            "linecolor": "white",
            "ticks": ""
           }
          },
          "scene": {
           "xaxis": {
            "backgroundcolor": "#E5ECF6",
            "gridcolor": "white",
            "gridwidth": 2,
            "linecolor": "white",
            "showbackground": true,
            "ticks": "",
            "zerolinecolor": "white"
           },
           "yaxis": {
            "backgroundcolor": "#E5ECF6",
            "gridcolor": "white",
            "gridwidth": 2,
            "linecolor": "white",
            "showbackground": true,
            "ticks": "",
            "zerolinecolor": "white"
           },
           "zaxis": {
            "backgroundcolor": "#E5ECF6",
            "gridcolor": "white",
            "gridwidth": 2,
            "linecolor": "white",
            "showbackground": true,
            "ticks": "",
            "zerolinecolor": "white"
           }
          },
          "shapedefaults": {
           "line": {
            "color": "#2a3f5f"
           }
          },
          "ternary": {
           "aaxis": {
            "gridcolor": "white",
            "linecolor": "white",
            "ticks": ""
           },
           "baxis": {
            "gridcolor": "white",
            "linecolor": "white",
            "ticks": ""
           },
           "bgcolor": "#E5ECF6",
           "caxis": {
            "gridcolor": "white",
            "linecolor": "white",
            "ticks": ""
           }
          },
          "title": {
           "x": 0.05
          },
          "xaxis": {
           "automargin": true,
           "gridcolor": "white",
           "linecolor": "white",
           "ticks": "",
           "title": {
            "standoff": 15
           },
           "zerolinecolor": "white",
           "zerolinewidth": 2
          },
          "yaxis": {
           "automargin": true,
           "gridcolor": "white",
           "linecolor": "white",
           "ticks": "",
           "title": {
            "standoff": 15
           },
           "zerolinecolor": "white",
           "zerolinewidth": 2
          }
         }
        }
       }
      },
      "text/html": [
       "<div>                            <div id=\"dc8c8926-ea00-4b20-893d-5582987ba1df\" class=\"plotly-graph-div\" style=\"height:525px; width:100%;\"></div>            <script type=\"text/javascript\">                require([\"plotly\"], function(Plotly) {                    window.PLOTLYENV=window.PLOTLYENV || {};                                    if (document.getElementById(\"dc8c8926-ea00-4b20-893d-5582987ba1df\")) {                    Plotly.newPlot(                        \"dc8c8926-ea00-4b20-893d-5582987ba1df\",                        [{\"customdata\": [[\"Scrypt\"], [\"Scrypt\"], [\"X11\"], [\"SHA-256\"], [\"SHA-256\"], [\"Scrypt\"], [\"Scrypt\"], [\"Scrypt\"], [\"Scrypt\"], [\"Scrypt\"], [\"Scrypt\"], [\"Groestl\"], [\"Scrypt\"], [\"Scrypt\"], [\"X11\"], [\"X11\"], [\"Scrypt\"], [\"SHA-256\"], [\"Scrypt\"], [\"NeoScrypt\"], [\"Scrypt\"], [\"Scrypt\"], [\"Scrypt\"], [\"X11\"], [\"X11\"], [\"Multiple\"], [\"X11\"], [\"Scrypt\"], [\"Scrypt\"], [\"Scrypt\"], [\"X11\"], [\"Multiple\"], [\"Scrypt\"], [\"Shabal256\"], [\"SHA-256\"], [\"Groestl\"], [\"Scrypt\"], [\"Scrypt\"], [\"Scrypt\"], [\"X11\"], [\"Scrypt\"], [\"X11\"], [\"X11\"], [\"Scrypt\"], [\"SHA-256\"], [\"BLAKE256\"], [\"SHA-256\"], [\"X11\"], [\"SHA-256\"], [\"Scrypt\"], [\"Scrypt\"], [\"X11\"], [\"Scrypt\"], [\"SHA-256\"], [\"Scrypt\"], [\"X11\"], [\"SHA-256\"], [\"SHA-256\"], [\"X11\"], [\"Scrypt\"], [\"Scrypt\"], [\"Scrypt\"], [\"X11\"], [\"X11\"], [\"Scrypt\"], [\"SHA-256\"], [\"X11\"], [\"Scrypt\"], [\"Scrypt\"], [\"Scrypt\"], [\"Scrypt\"], [\"Scrypt\"], [\"X11\"], [\"X11\"], [\"X11\"], [\"Scrypt\"], [\"Scrypt\"], [\"X11\"], [\"SHA-256\"], [\"Scrypt\"], [\"X11\"], [\"Scrypt\"], [\"Scrypt\"], [\"X11\"], [\"Scrypt\"], [\"Scrypt\"], [\"Scrypt\"], [\"Scrypt\"], [\"QuBit\"], [\"Scrypt\"], [\"SHA-256\"], [\"X11\"], [\"Scrypt\"], [\"Scrypt\"], [\"Scrypt\"], [\"Scrypt\"], [\"Scrypt\"], [\"Scrypt\"], [\"X11\"], [\"X11\"], [\"X11\"], [\"X11\"], [\"Scrypt\"], [\"Scrypt\"], [\"Scrypt\"], [\"SHA-256\"], [\"X11\"], [\"Scrypt\"], [\"Scrypt\"], [\"SHA-256\"], [\"Scrypt\"], [\"X11\"], [\"Scrypt\"], [\"Scrypt\"], [\"Scrypt\"], [\"X11\"], [\"NeoScrypt\"], [\"Scrypt\"], [\"Lyra2REv2\"], [\"Scrypt\"], [\"SHA-256\"], [\"Scrypt\"], [\"Scrypt\"], [\"SHA-256\"], [\"X11\"], [\"Scrypt\"], [\"Scrypt\"], [\"Scrypt\"], [\"X11\"], [\"Scrypt\"], [\"Scrypt\"], [\"X11\"], [\"Ethash\"], [\"Scrypt\"], [\"Scrypt\"], [\"C11\"], [\"X11\"], [\"Scrypt\"], [\"Scrypt\"], [\"Scrypt\"], [\"Scrypt\"], [\"Scrypt\"], [\"X16R\"], [\"Scrypt\"], [\"XEVAN\"], [\"Scrypt\"], [\"Scrypt\"], [\"Scrypt\"], [\"Scrypt\"], [\"SHA-256\"], [\"X16R\"], [\"Scrypt\"], [\"Lyra2REv2\"], [\"Scrypt\"], [\"X11\"], [\"X11\"], [\"Scrypt\"], [\"Keccak\"], [\"X11\"], [\"Scrypt\"], [\"X11\"], [\"Equihash\"], [\"Scrypt\"], [\"Scrypt\"], [\"X11\"], [\"Scrypt\"], [\"X11\"], [\"X11\"], [\"Scrypt\"], [\"X11\"], [\"Scrypt\"], [\"Scrypt\"], [\"SHA-256\"], [\"Scrypt\"], [\"X11\"], [\"Scrypt\"], [\"SHA-256\"], [\"X11\"], [\"Scrypt\"], [\"Scrypt\"], [\"X11\"], [\"Scrypt\"], [\"X11\"], [\"SHA-256\"], [\"Scrypt\"], [\"Scrypt\"], [\"NeoScrypt\"], [\"SHA-256\"], [\"Scrypt\"], [\"Scrypt\"]], \"hovertemplate\": \"<b>%{hovertext}</b><br><br>class=%{marker.color}<br>pc1=%{x}<br>pc2=%{y}<br>pcs3=%{z}<br>Algorithm=%{customdata[0]}<extra></extra>\", \"hovertext\": [\"42 Coin\", \"404Coin\", \"Dash\", \"BitcoinDark\", \"PayCoin\", \"Aurora Coin\", \"BlueCoin\", \"EnergyCoin\", \"BitBar\", \"CryptoBullion\", \"CasinoCoin\", \"Diamond\", \"FlutterCoin\", \"HoboNickels\", \"HyperStake\", \"IOCoin\", \"MintCoin\", \"MazaCoin\", \"Nautilus Coin\", \"Orbitcoin\", \"PotCoin\", \"PhoenixCoin\", \"Reddcoin\", \"SuperCoin\", \"SyncCoin\", \"TeslaCoin\", \"TorCoin\", \"UnitaryStatus Dollar\", \"UltraCoin\", \"VeriCoin\", \"X11 Coin\", \"Crypti\", \"ZCC Coin\", \"BurstCoin\", \"Neutron\", \"FairCoin\", \"RubyCoin\", \"Dnotes\", \"8BIT Coin\", \"Ucoin\", \"Vtorrent\", \"IslaCoin\", \"Squall Coin\", \"Diggits\", \"Emercoin\", \"Decred\", \"EDRCoin\", \"Hitcoin\", \"DubaiCoin\", \"BillaryCoin\", \"GPU Coin\", \"EuropeCoin\", \"ZeitCoin\", \"SwingCoin\", \"SafeExchangeCoin\", \"Ratecoin\", \"Revenu\", \"Clockcoin\", \"BitSend\", \"PutinCoin\", \"iBankCoin\", \"Frankywillcoin\", \"Lutetium Coin\", \"GoldBlocks\", \"CarterCoin\", \"BitTokens\", \"MustangCoin\", \"ZoneCoin\", \"RootCoin\", \"BitCurrency\", \"Swiscoin\", \"PesoBit\", \"Halloween Coin\", \"InsaneCoin\", \"XenixCoin\", \"PLNCoin\", \"AquariusCoin\", \"Eternity\", \"Eurocoin\", \"BitcoinFast\", \"Stakenet\", \"BitConnect Coin\", \"MoneyCoin\", \"Enigma\", \"Russiacoin\", \"PandaCoin\", \"GameUnits\", \"GAKHcoin\", \"LiteCreed\", \"Klingon Empire Darsek\", \"Internet of People\", \"KushCoin\", \"Printerium\", \"Impeach\", \"Zilbercoin\", \"FirstCoin\", \"OpenChat\", \"RenosCoin\", \"VirtacoinPlus\", \"Impact\", \"HappyCoin\", \"Condensate\", \"Independent Money System\", \"ArgusCoin\", \"LomoCoin\", \"ProCurrency\", \"GoldReserve\", \"GrowthCoin\", \"Degas Coin\", \"Ultimate Secure Cash\", \"Linda\", \"Monoeci\", \"Draftcoin\", \"CoinonatX\", \"Ethereum Dark\", \"Regalcoin\", \"TrezarCoin\", \"TerraNovaCoin\", \"Rupee\", \"WomenCoin\", \"Theresa May Coin\", \"Xios\", \"BlackholeCoin\", \"Infinity Economics\", \"Magnet\", \"Cash & Back Coin\", \"GermanCoin\", \"LiteCoin Ultra\", \"PhantomX\", \"Trollcoin\", \"Litecoin Plus\", \"Monkey Project\", \"1717 Masonic Commemorative Token\", \"My Big Coin\", \"Unified Society USDEX\", \"Stipend\", \"Pushi\", \"Velox\", \"Briacoin\", \"Ignition\", \"MedicCoin\", \"Abjcoin\", \"Proton\", \"iDealCash\", \"Bitcoin Incognito\", \"HollyWoodCoin\", \"Swisscoin\", \"Xt3ch\", \"EmaratCoin\", \"BitcoinWSpectrum\", \"Trivechain\", \"Peony Coin\", \"Absolute Coin\", \"TPCash\", \"ARENON\", \"EUNO\", \"MMOCoin\", \"XDNA\", \"PAXEX\", \"ThunderStake\", \"Junson Ming Chan Coin\", \"PirateCash\", \"Oduwa\", \"Credit\", \"Dash Platinum\", \"Nasdacoin\", \"Award\", \"Insane Coin\", \"LiteDoge\", \"TruckCoin\", \"OrangeCoin\", \"BitstarCoin\", \"NeosCoin\", \"HyperCoin\", \"PinkCoin\", \"AudioCoin\", \"IncaKoin\", \"Piggy Coin\", \"Genstake\", \"XiaoMiCoin\", \"CapriCoin\", \" ClubCoin\", \"Creditbit \", \"OKCash\", \"HiCoin\", \"WhiteCoin\", \"FriendshipCoin\", \"TigerCash\", \"Gapcoin\", \"BitcoinPlus\"], \"legendgroup\": \"0\", \"marker\": {\"color\": [0, 0, 0, 0, 0, 0, 0, 0, 0, 0, 0, 0, 0, 0, 0, 0, 0, 0, 0, 0, 0, 0, 0, 0, 0, 0, 0, 0, 0, 0, 0, 0, 0, 0, 0, 0, 0, 0, 0, 0, 0, 0, 0, 0, 0, 0, 0, 0, 0, 0, 0, 0, 0, 0, 0, 0, 0, 0, 0, 0, 0, 0, 0, 0, 0, 0, 0, 0, 0, 0, 0, 0, 0, 0, 0, 0, 0, 0, 0, 0, 0, 0, 0, 0, 0, 0, 0, 0, 0, 0, 0, 0, 0, 0, 0, 0, 0, 0, 0, 0, 0, 0, 0, 0, 0, 0, 0, 0, 0, 0, 0, 0, 0, 0, 0, 0, 0, 0, 0, 0, 0, 0, 0, 0, 0, 0, 0, 0, 0, 0, 0, 0, 0, 0, 0, 0, 0, 0, 0, 0, 0, 0, 0, 0, 0, 0, 0, 0, 0, 0, 0, 0, 0, 0, 0, 0, 0, 0, 0, 0, 0, 0, 0, 0, 0, 0, 0, 0, 0, 0, 0, 0, 0, 0, 0, 0, 0, 0, 0, 0, 0, 0, 0, 0, 0, 0, 0, 0, 0, 0], \"coloraxis\": \"coloraxis\", \"symbol\": \"circle\"}, \"mode\": \"markers\", \"name\": \"0\", \"scene\": \"scene\", \"showlegend\": true, \"type\": \"scatter3d\", \"x\": [-0.3028264578706869, -0.2862052466636213, -0.3731366594473549, -0.29750125129557187, -0.2928963541311743, -0.3024869287211072, -0.29508044433379527, -0.30132628497966174, -0.30282240749743394, -0.30280672727539415, 0.7620031455765474, -0.3511057427677435, -0.24470776410269737, -0.30089055710113516, -0.3483989945993251, -0.3730315836120502, -0.03870541329130295, -0.2609093808030234, -0.2979734275865992, -0.33419795388358614, -0.2971449693240295, -0.3012325757074527, 0.054539394006759986, -0.3682425327903212, -0.373402145810027, -0.2853984477092332, -0.3733140700162703, -0.278127086118586, -0.3015076508969591, -0.25165663282585293, -0.3732785810620756, -0.2858642416260151, -0.29395816195754115, 0.22622341449362834, -0.29671510185136274, -0.35052851762027054, -0.2979535789993165, -0.2926238511705934, -0.3028085652425036, -0.3686866002692802, -0.3025437085235406, -0.3733837147012083, -0.373863311273754, -0.29635951037787844, -0.2900832143321064, -0.058902195436634226, -0.2974722282416179, -0.05179780712338218, -0.29753567752524757, -0.3024200627161117, -0.296229967654129, -0.37056262743893276, 0.8517665974891844, -0.2973364484439777, 0.03316963595465421, -0.3712320820348116, -0.29608441755370485, -0.2937605203122937, -0.37212294257196665, -0.2787861113068425, -0.30245809964600645, -0.3009010026918799, -0.3562104290704087, -0.372859226293108, -0.30166447536603275, -0.2975167687086699, -0.37337295768181333, -0.30264663441796424, -0.3028028108310315, -0.29621750665458024, -0.20828586328883097, -0.3024178034402086, -0.3595792799979937, -0.37296663514970546, -0.37332797311112476, -0.3023458749682024, -0.30249989907800917, -0.3729043233636791, -0.29737972977977856, -0.3023465575101409, -0.3745974637353905, -0.3024935822426964, -0.29809698491989506, -0.37335691488101147, -0.30170707783331624, 0.34360123657636876, -0.3026922866919558, -0.3027626146215445, -0.32907486191694585, -0.2990021884453036, -0.29749323349299484, -0.3732671020828465, -0.30254106315312085, -0.3026677593377179, -0.2978608050539172, -0.2485800989732151, -0.2835718988043984, -0.2976023043859803, -0.3725352842461326, -0.37127648101268357, -0.37243339065072517, -0.36838690272675084, -0.3026111619870038, -0.30261042270841415, -0.29575611368584964, 0.23791353758725145, -0.37291027275839644, -0.2805586738506472, -0.3018243424911785, -0.29159135357364124, 0.16064654570270023, -0.37318178227740256, -0.2979344954203115, -0.3022474008604652, -0.3027455895279029, -0.3731229015441226, -0.3292117277604609, -0.3027014085719681, -0.3420707844659275, 0.4645157807013828, -0.2958438236444373, -0.30265190406956743, -0.3025225261066584, -0.11983984535248007, -0.37191926253153984, -0.29999012245317425, 0.11025874427443041, -0.3016641860789866, -0.37249826705471756, -0.2892638832879927, -0.30276767121642584, -0.3686585998933727, -0.3098562593830316, -0.26104963771771134, -0.2983247039260519, -0.34993216389046816, -0.37319913449185455, -0.2970972929976513, -0.3027949573427375, -0.3027767266125096, -0.2914943998998442, -0.30249408479699436, -0.35012264247478253, -0.2495265999764733, -0.3162583404010223, -0.2976294478616555, -0.10642994795458778, -0.29788112730671595, -0.3019697590457486, -0.2917178728141925, -0.35400247587957007, -0.17902772663647315, -0.34654098435410363, -0.2956963348130669, -0.36823723986673274, -0.3726738451645265, -0.2951345864467182, -0.32899892094543554, -0.36809933697840685, -0.16274879272128268, -0.15906636895597626, -0.31586999314293573, -0.30249796652407607, 0.6013543912358242, -0.36871278507596844, -0.3019825931439389, -0.3702472048502329, -0.3729004033993917, 0.13116426859970465, -0.370445113672774, -0.30137048975653036, -0.30219234559493857, -0.29292899186899835, -0.30270905136543874, -0.3645507563349426, -0.21669640178390948, -0.07763935867843867, -0.36031297043224225, -0.301989076329612, -0.295072015554222, -0.3694781096742353, -0.30043299590817923, -0.36320830687899586, -0.29602030580231964, -0.10567396778543575, -0.297635157769402, -0.3338251457672585, -0.27387632423041247, -0.3008783821379562, -0.2982763377696662], \"y\": [0.9003055013128058, 0.9005302905156359, 1.1464936268810388, 0.7683176043162626, 0.7207287057930584, 0.9003059476705987, 0.9005844290165714, 0.9003595213531832, 0.9003052959456203, 0.9003055093303662, 0.08470415233703159, 0.8524349822183168, 0.17145411740898342, 0.9002909121969946, 1.0996384742011298, 1.1464974105767713, 0.8620548954155657, 0.7679512276391992, 0.8527074978278509, 0.463909984262407, 0.9002150393689017, 0.9002940512674085, 0.9131739562513645, 1.098923924461401, 1.146499521113071, 0.2807329860683153, 1.146495668406552, 0.9000709141931547, 0.9002827410432037, 0.1686246866294583, 1.1465001075612093, 0.28078646267677987, 0.8999223467942561, 0.02162115876064297, 0.7683135981647936, 0.8524588445551985, 0.8527195789236793, 0.8525602507555522, 0.9003061456413609, 1.0988938840570814, 0.9003016330232776, 1.1465001855048678, 0.8838003579279275, 0.8527067305735826, 0.7678976820013792, 0.8273502116382713, 0.7683186494129308, 1.1394289992639814, 0.768324443344683, 0.9002906305252276, 0.8526263564695352, 1.1463320126070031, 0.8245730958870198, 0.7683108938288487, 0.0850506400975821, 1.1465249769520247, 0.7682276151028504, 0.7680989501744937, 1.1464479381246413, 0.899766185349129, 0.9002876216921167, 0.9003045859537673, 1.0988956517529345, 1.1464839471725907, 0.9002841188680965, 0.7683177480414857, 1.1464984653723191, 0.9002972242504733, 0.9003063528530577, 0.8527820934828342, 0.19356615269698796, 0.9003202166573984, 1.145943529966157, 1.1464941293606867, 1.1464994857727384, 0.9002957325976162, 0.9002877556824921, 1.1464752983165838, 0.7683233851970341, 0.9002995998404817, 0.7018735791011873, 0.900297818072441, 0.9000187207476975, 1.14649763807118, 0.900244650073855, 0.8529798914116459, 0.9003012003066733, 0.9003054709618032, 0.5000833519778715, 0.9000919628362927, 0.7683185955255418, 1.1464978134953743, 0.9003017282809239, 0.9002958078977338, 0.8526842824297206, 0.19665103263068615, 0.90029634771896, 0.8527080436582625, 1.1464604873282644, 1.1464987908662259, 1.1464641564341151, 1.1463288693064444, 0.9002983525701058, 0.9002931892450742, 0.8998576040086127, 0.6871644186605385, 1.146489133977734, 0.8519409659670284, 0.9002678247618634, 0.7206439208996251, 0.8818700537622642, 1.1465007781204055, 0.8527080385615583, 0.9002924559419415, 0.9003054628680945, 1.1464906098184833, 0.463811184751255, 0.9002989516832107, 0.7787976034268546, 0.9103745063671516, 0.7683224923569525, 0.9002970344945868, 0.9003060569934581, 0.7206466593899348, 1.1464517600044355, 0.9002601115962787, 0.880055629840002, 0.9002419796029814, 1.1464969450224378, 0.9001616334376072, 0.9003048082233143, 1.0988941898332396, 0.045302635426833944, 0.24116018549422558, 0.9003046270852417, 0.8375266199962469, 1.1464892697211773, 0.8526633037461039, 0.9003045281667056, 0.9003037796511332, 0.852600921381112, 0.9002963949864642, 0.8191334800010249, 0.8986266424646692, 1.2255806693732991, 0.8527129857611985, 0.9002121346520423, 0.8526912780835753, 0.9002773408182383, 0.7207094894668457, 0.8667287849203975, 0.8451438919875075, 0.826378004890555, 0.8998597565974089, 1.0988854778466945, 1.1464906225968978, 0.8526384399400379, 0.8448440703800345, 1.0988588313564402, 0.8927046799885267, 1.1064561887172324, 0.11289030549736749, 0.9003025776609318, 0.8803177177629404, 1.0988931519118093, 0.9002768786727563, 1.146318080909709, 1.1464965143123769, 0.8913458413672174, 1.1466060021480402, 0.9002174306346099, 0.9002902205756795, 0.7207215593295863, 0.9003097290554815, 1.1464670058312638, 0.8960307805397313, 0.7761166339016946, 1.1462683577187027, 0.9003251173529143, 0.9003037346493816, 1.1464947042809153, 0.90027928881692, 0.68666112926254, 0.7683126249038644, 0.8526122579988479, 0.9002816874441837, 0.46388378938269953, 0.720719888148166, 0.900200026296326, 0.8527072541470473], \"z\": [-0.5509510424186745, -0.551476723584447, -0.436599898447003, -0.33414771138695987, -0.09965329402517828, -0.5509607335018017, -0.5512400254538803, -0.551007009860491, -0.5509511048018778, -0.5509516010561508, -0.32059730016888394, -0.3832053563496109, -0.3535902646511477, -0.551001969821233, -0.20285879906970128, -0.4366038185451135, -0.32613679183460564, -0.3350874354187859, -0.3164613249284532, -0.2544079707211461, -0.5510884679739302, -0.5509931142673165, -0.5642834056344974, -0.2021184897841005, -0.43659389792874226, 0.04166253539850232, -0.4365954093216224, -0.5515885647968138, -0.5509824970170845, -0.3405201767491803, -0.4365975319149898, 0.04166216635595552, -0.551104429139034, -0.11852159362683634, -0.33416887709745063, -0.3832276683741557, -0.31646493682057913, -0.31657504186445234, -0.5509517099521842, -0.20209837350198423, -0.5509580417339897, -0.436594585721535, -0.07090176890902822, -0.31650666068669236, -0.33425089706567396, -0.38999171688696826, -0.3341487941594035, -0.4438803815703273, -0.3341484678916516, -0.5509587503833983, -0.3164900108929772, -0.4366316861191335, -0.3417888177099056, -0.33415066535816546, -0.3001239951439085, -0.4366615474511224, -0.33416494786501694, -0.3341980028155293, -0.43661695402684675, -0.5514929920650448, -0.5509569172408805, -0.5510051294375223, -0.20245078041962175, -0.43660527969661356, -0.5509784209726452, -0.33414730993948555, -0.436594454640133, -0.550954024378752, -0.5509519246338708, -0.31652970503201966, -0.4011224290726796, -0.5509662882288964, -0.4368433937249822, -0.43660482187304, -0.4365959814578299, -0.550962132160864, -0.5509557719024706, -0.4366018225889848, -0.3341525999607133, -0.55096308985684, -0.09347721346178084, -0.5509584920860058, -0.5510120166199144, -0.43659469822275027, -0.5509672484426924, -0.3346293480705526, -0.550953740939954, -0.5509528358081326, -0.29559939070807617, -0.5510049828473241, -0.3341481879753749, -0.4365972762122979, -0.5509581404256779, -0.5509530706299884, -0.3164586373564937, -0.3821521734831966, -0.5514919128116007, -0.3164719324279068, -0.43660849182385303, -0.436653679745819, -0.43661229320111233, -0.4366922705661542, -0.5509553101159913, -0.5509540266016308, -0.5510373523734533, -0.10614868341037148, -0.4366051499463109, -0.31675896283119837, -0.550969794773209, -0.09966869034734391, -0.5593686961097608, -0.4366004320654842, -0.31646255982975235, -0.5509640824196469, -0.5509533140517038, -0.4365995243892116, -0.2545236762481297, -0.5509529155542707, -0.07812069805329774, -0.5751418854057306, -0.33419570325349596, -0.5509538277821584, -0.550959756895326, -0.1045145963967725, -0.4366236654555424, -0.5510195907174219, -0.5574888621346241, -0.5509677838252237, -0.43661874611945267, -0.5512973066754424, -0.5509525257361543, -0.20209924065538212, 0.07539168300653887, -0.4130079431116939, -0.5510778187794316, -0.4000658684612525, -0.436597035273351, -0.3164748768163313, -0.5509516852294967, -0.5509520104379033, -0.31661717866764344, -0.5509581184057187, -0.09202394711628518, -0.5520305469486413, -0.020312272305844755, -0.3164724151782646, -0.5564679206355132, -0.3164598313099712, -0.5509680964498425, -0.09968168522999281, -0.3265404373636739, -0.3179061215505299, -0.3126167687621994, -0.5510395825631593, -0.2021089266372919, -0.4366121957702262, -0.31652396481272377, -0.3759378312670681, -0.20210608546990746, -0.552982583118712, -0.2099222924589269, 0.09234646035351984, -0.5509595707798653, -0.5714091774704145, -0.20209744985664732, -0.5509676176439979, -0.4366370649275136, -0.4366072928023313, -0.5609307762664305, -0.4367042170588039, -0.5509698675654541, -0.5509650708592362, -0.0996505679403974, -0.550955422548523, -0.436835386918059, -0.5523009347442289, -0.3423203557634276, -0.43690475453197436, -0.5509796209046356, -0.5511693536427706, -0.4367033805306846, -0.551011941577747, -0.09336075886152181, -0.3341882318483273, -0.32186214967228394, -0.5510914762352388, -0.2544118704595488, -0.10018763307617912, -0.550979353499964, -0.31645271808926817]}, {\"customdata\": [[\"X13\"], [\"DPoS\"], [\"DPoS\"], [\"Semux BFT consensus\"], [\"Scrypt\"], [\"DPoS\"], [\"DPoS\"], [\"DPoS\"], [\"DPoS\"], [\"SHA-256\"]], \"hovertemplate\": \"<b>%{hovertext}</b><br><br>class=%{marker.color}<br>pc1=%{x}<br>pc2=%{y}<br>pcs3=%{z}<br>Algorithm=%{customdata[0]}<extra></extra>\", \"hovertext\": [\"EliteCoin\", \"ARK\", \"Lamden Tau\", \"Semux\", \"Lynx\", \"ALAX\", \"Lisk\", \"EOS\", \"Oxycoin\", \"ZEPHYR\"], \"legendgroup\": \"7\", \"marker\": {\"color\": [7, 7, 7, 7, 7, 7, 7, 7, 7, 7], \"coloraxis\": \"coloraxis\", \"symbol\": \"diamond\"}, \"mode\": \"markers\", \"name\": \"7\", \"scene\": \"scene\", \"showlegend\": true, \"type\": \"scatter3d\", \"x\": [2.317846732811969, 3.7706584046284712, 3.7755003947036934, 3.9887107816182135, 2.24980878049283, 3.787710916323085, 3.7710490451742205, 3.7808971105903764, 3.7821385444618265, 2.4917624621728955], \"y\": [1.5858973543509864, 1.821079104659701, 1.8209900252877946, 1.7936946332971844, 0.2648811396972418, 1.8210784689315753, 1.8210686413183939, 1.8215356040071735, 1.8215803070354943, 0.8029259045551543], \"z\": [-0.6312266663659871, -0.5089236601276438, -0.5090377521899072, -0.5948581906606799, -0.4469825440894006, -0.5094045612291319, -0.5089320370634949, -0.5093278220446614, -0.5093741366188894, -0.2760837276246303]}, {\"customdata\": [[\"SHA-256\"], [\"Scrypt\"], [\"Scrypt\"], [\"X11\"], [\"Scrypt\"], [\"SHA-256\"], [\"Scrypt\"], [\"Scrypt\"], [\"Quark\"], [\"Groestl\"], [\"Scrypt\"], [\"Scrypt\"], [\"Scrypt\"], [\"X11\"], [\"SHA-256\"], [\"Scrypt\"], [\"Scrypt\"], [\"Scrypt\"], [\"Scrypt\"], [\"Scrypt\"], [\"Scrypt\"], [\"Scrypt\"], [\"Scrypt\"], [\"Scrypt\"], [\"SHA-256\"], [\"Scrypt\"], [\"Scrypt\"], [\"Scrypt\"], [\"Scrypt\"], [\"Scrypt\"], [\"Scrypt\"], [\"SHA-256\"], [\"Scrypt\"], [\"Scrypt\"], [\"Scrypt\"], [\"Scrypt\"], [\"SHA-256\"], [\"SHA-256\"], [\"SHA-256\"], [\"SHA-256\"], [\"SHA-256\"], [\"X11\"], [\"Scrypt\"], [\"Lyra2REv2\"], [\"Scrypt\"], [\"SHA-256\"], [\"Scrypt\"], [\"Scrypt\"], [\"Scrypt\"], [\"Scrypt\"], [\"Scrypt\"], [\"Scrypt\"], [\"QuBit\"], [\"Scrypt\"], [\"Scrypt\"], [\"Scrypt\"], [\"SHA-256\"], [\"Scrypt\"], [\"X11\"], [\"SHA-256\"], [\"X11\"], [\"Scrypt\"], [\"Scrypt\"], [\"X11\"], [\"SHA-256\"], [\"Scrypt\"], [\"Scrypt\"], [\"SHA-256\"], [\"X11\"], [\"Scrypt\"], [\"Scrypt\"], [\"X11\"], [\"Scrypt\"], [\"X11\"], [\"Equihash\"], [\"SHA-256\"], [\"Scrypt\"], [\"SHA-256\"], [\"Scrypt\"], [\"Scrypt\"], [\"X11\"], [\"X11\"], [\"Scrypt\"], [\"X11\"], [\"Scrypt\"], [\"X11\"], [\"Scrypt\"], [\"Scrypt\"], [\"NIST5\"], [\"Scrypt\"], [\"SHA-256\"], [\"Scrypt\"], [\"X11\"], [\"Scrypt\"], [\"Scrypt\"], [\"X11\"], [\"X11\"], [\"Keccak\"], [\"X11\"], [\"SHA-256\"], [\"Scrypt\"], [\"Scrypt\"], [\"Scrypt\"], [\"Scrypt\"], [\"Scrypt\"], [\"Scrypt\"], [\"X11\"], [\"Scrypt\"], [\"X11\"], [\"X11\"], [\"Scrypt\"], [\"BLAKE256\"], [\"X11\"], [\"Scrypt\"], [\"X11\"], [\"SHA-256\"], [\"C11\"], [\"Scrypt\"], [\"Lyra2REv2\"], [\"Scrypt\"], [\"Scrypt\"], [\"X11\"], [\"Scrypt\"], [\"X11\"], [\"NIST5\"], [\"X16R\"], [\"X11\"], [\"Scrypt\"], [\"XEVAN\"], [\"SHA-256\"], [\"X11\"], [\"X16R\"], [\"SHA-256\"], [\"Scrypt\"], [\"QuBit\"], [\"SHA-256\"], [\"X13\"], [\"SHA-256\"], [\"Scrypt\"], [\"Scrypt\"], [\"SHA-256\"], [\"Scrypt\"], [\"Groestl\"], [\"Scrypt\"], [\"Scrypt\"]], \"hovertemplate\": \"<b>%{hovertext}</b><br><br>class=%{marker.color}<br>pc1=%{x}<br>pc2=%{y}<br>pcs3=%{z}<br>Algorithm=%{customdata[0]}<extra></extra>\", \"hovertext\": [\"Bitcoin\", \"Litecoin\", \"ProsperCoin\", \"Spreadcoin\", \"Argentum\", \"ZetaCoin\", \"SexCoin\", \"Quatloo\", \"QuarkCoin\", \"Riecoin\", \"Digitalcoin \", \"Catcoin\", \"CannaCoin\", \"CryptCoin\", \"DevCoin\", \"EarthCoin\", \"E-Gulden\", \"Einsteinium\", \"Emerald\", \"Franko\", \"GrandCoin\", \"GlobalCoin\", \"GoldCoin\", \"Infinite Coin\", \"IXcoin\", \"KrugerCoin\", \"LuckyCoin\", \"Litebar \", \"MegaCoin\", \"MinCoin\", \"NobleCoin\", \"Namecoin\", \"NyanCoin\", \"RonPaulCoin\", \"StableCoin\", \"SmartCoin\", \"SysCoin\", \"TigerCoin\", \"TerraCoin\", \"UnbreakableCoin\", \"Unobtanium\", \"UroCoin\", \"ViaCoin\", \"Vertcoin\", \"WorldCoin\", \"JouleCoin\", \"MonaCoin\", \"Gulden\", \"PesetaCoin\", \"Wild Beast Coin\", \"Flo\", \"ArtByte\", \"CypherPunkCoin\", \"OmniCron\", \"GreenCoin\", \"MasterCoin\", \"SoonCoin\", \"1Credit\", \"MarsCoin \", \"Anarchists Prime\", \"BowsCoin\", \"Song Coin\", \"BitZeny\", \"MindCoin\", \"I0coin\", \"Revolution VR\", \"Gamecredits\", \"CarpeDiemCoin\", \"Adzcoin\", \"YoCoin\", \"Francs\", \"BolivarCoin\", \"Omni\", \"PizzaCoin\", \"Komodo\", \"ZayedCoin\", \"DopeCoin\", \"DollarCoin\", \"Shilling\", \"KiloCoin\", \"ArtexCoin\", \"Kurrent\", \"OsmiumCoin\", \"PacCoin\", \"BeaverCoin\", \"VaultCoin\", \"Canada eCoin\", \"EB3coin\", \"Coinonat\", \"BenjiRolls\", \"ILCoin\", \"EquiTrader\", \"DigitalPrice\", \"Unify\", \"SocialCoin\", \"ArcticCoin\", \"DAS\", \"SmartCash\", \"Onix\", \"Bitcoin Cash\", \"Sojourn Coin\", \"NewYorkCoin\", \"FrazCoin\", \"Kronecoin\", \"AdCoin\", \"Linx\", \"Elements\", \"eBoost\", \"Pura\", \"AC3\", \"PopularCoin\", \"Photon\", \"Sucre\", \"IrishCoin\", \"Pioneer Coin\", \"UnitedBitcoin\", \"Interzone\", \"ShareChain\", \"KREDS\", \"BitFlip\", \"LottoCoin\", \"Crypto Improvement Fund\", \"Poseidon\", \"FuturoCoin\", \"Jumpcoin\", \"Motion\", \"Axe\", \"HexCoin\", \"Urals Coin\", \"Project Pai\", \"Azart\", \"Xchange\", \"Bitcoin SV\", \"Block-Logic\", \"SLICE\", \"BLAST\", \"Bitcoin Rhodium\", \"GlobalToken\", \"SolarCoin\", \"Crypto Escudo\", \"Crown Coin\", \"SmileyCoin\", \"Groestlcoin\", \"Bata\", \"Pakcoin\"], \"legendgroup\": \"3\", \"marker\": {\"color\": [3, 3, 3, 3, 3, 3, 3, 3, 3, 3, 3, 3, 3, 3, 3, 3, 3, 3, 3, 3, 3, 3, 3, 3, 3, 3, 3, 3, 3, 3, 3, 3, 3, 3, 3, 3, 3, 3, 3, 3, 3, 3, 3, 3, 3, 3, 3, 3, 3, 3, 3, 3, 3, 3, 3, 3, 3, 3, 3, 3, 3, 3, 3, 3, 3, 3, 3, 3, 3, 3, 3, 3, 3, 3, 3, 3, 3, 3, 3, 3, 3, 3, 3, 3, 3, 3, 3, 3, 3, 3, 3, 3, 3, 3, 3, 3, 3, 3, 3, 3, 3, 3, 3, 3, 3, 3, 3, 3, 3, 3, 3, 3, 3, 3, 3, 3, 3, 3, 3, 3, 3, 3, 3, 3, 3, 3, 3, 3, 3, 3, 3, 3, 3, 3, 3, 3, 3, 3, 3, 3, 3, 3, 3, 3, 3], \"coloraxis\": \"coloraxis\", \"symbol\": \"square\"}, \"mode\": \"markers\", \"name\": \"3\", \"scene\": \"scene\", \"showlegend\": true, \"type\": \"scatter3d\", \"x\": [-0.1569133572047628, -0.16107246162595773, -0.16221565979878888, -0.2327328313645526, -0.1618334221123037, -0.15400592153691114, -0.15909643390173797, -0.16163820774912777, -0.2491792900945306, -0.20958742516431875, -0.16168638947850253, -0.16219796377610754, -0.16228416054010444, -0.2328219637673887, 0.21992814584150658, 0.08578752896655938, -0.16203107206641612, -0.157648401433066, -0.161970598668015, -0.16234102368332676, -0.14162101765877666, -0.16113925822050998, -0.1614161330233062, 1.581977026120846, -0.1568748093233257, -0.15871313388379021, -0.16205744771368777, -0.16241132749685894, -0.16167254333103936, -0.16229292897719966, -0.02762749712091777, -0.1569522537412694, -0.1559734651307808, -0.16227251726477576, -0.16037307350023935, -0.16176064135027865, -0.1441399433227837, -0.15641741289535174, -0.1567039561914329, -0.15668733293080916, -0.1572760290332113, -0.23299531759236783, -0.16198963223324991, -0.20546503352475448, -0.15910128199584317, -0.1564845448150341, -0.16086041836014411, -0.14550701292900114, -0.15958255141625938, -0.1624135440321274, -0.15944781994441182, -0.1457088019012232, -0.1895305321657054, -0.16228690028028214, -0.03559034636140018, -0.16242239875644182, -0.15697997182442414, 0.4874777339540495, -0.23238412384397586, -0.15672069726120896, -0.23266830073147585, -0.1605521575432051, -0.15974649987480394, -0.23270357495654767, -0.1568759292731226, -0.1583908689589384, -0.16098960583551133, 0.260510198723524, -0.23186672925373755, -0.16123729221291513, -0.16221294135338774, -0.23266698133069133, -0.16242245709775824, -0.23281663159418067, -0.32413868891973313, -0.1571353523908537, -0.1595970970093801, -0.15709407901069755, -0.16208685254217126, -0.08939889502156462, -0.219433094686272, -0.23065133001659768, -0.16240425368412623, 0.4799609267415031, -0.16237261469236305, -0.22557537608384234, -0.16051077944636505, -0.1333959764326506, -0.19135398415140012, -0.16193622961779391, -0.12355586910164207, -0.16175901748064417, -0.23187525509211318, -0.16207710113239532, -0.16184151101534708, -0.23226871558947101, -0.2328445469600998, -0.12860941811591087, -0.22374634424933146, -0.15691252320900595, -0.0882537883192355, 1.5808613149014747, -0.16217474625532693, -0.16162816292971244, -0.1613299277754974, -0.16131688664354038, -0.18734573677911417, -0.16050899243008065, -0.22840161198758316, -0.22814561820011423, -0.07878823507649849, 1.0838001446463486, -0.2328186096138757, -0.161427762070163, -0.23274420660886977, -0.1568919568182607, -0.20950607123167533, 0.03011127221711001, -0.1910635074859884, -0.16200003472136487, 0.14424713636443157, -0.22690212643302818, -0.16223636013806114, -0.2319159404202473, -0.1914130621714796, -0.2143885724980816, -0.23280081923674675, -0.16226089987011433, -0.17401908263604696, -0.11684566853524267, -0.23277228368057032, -0.21381825130772272, -0.1569125606942091, -0.16115648491016332, -0.1887441325867558, -0.1561906542015456, -0.11795683730473241, -0.15506199037768312, 0.5312459381334916, -0.14585906636740323, -0.15670332798714445, 0.5514161673548263, -0.20914956070194743, -0.16233741306035238, -0.16029915794555494], \"y\": [-1.2846618706683672, -1.1526916952977908, -1.1526886037719488, -0.9064917736767693, -1.1527050469745954, -1.2846617043768096, -1.1527371542602487, -1.1527233072727385, -0.38680382388010415, -1.200567624091997, -1.15268862914742, -1.1526879665525034, -1.1526855488198113, -0.9064935782730068, -1.2858297496821731, -1.1532271358783182, -1.1526819569171967, -1.1527199907216925, -1.152687506760815, -1.1526862587342688, -1.1529302257257166, -1.1526842656632397, -1.1526958132930096, -1.1535129053009618, -1.2846604825903751, -1.15273418496732, -1.1526822041881926, -1.1526818455864023, -1.1526837989765322, -1.1526836587307663, -1.1583648611698845, -1.284663271301146, -1.1526858157230364, -1.1526906511632524, -1.1527831250182887, -1.1526934342661141, -1.284810973285633, -1.284662285385135, -1.2846690826962008, -1.2846951789047163, -1.2846603534221335, -0.9064871756992193, -1.1526818696917684, -1.226606726643987, -1.1527481618664885, -1.284663289354335, -1.1526988964796165, -1.1532523776401373, -1.152695920566263, -1.152682823190271, -1.1526865828639101, -1.1527819475003884, -1.5528790220978703, -1.1526787850416353, -1.1551391234132733, -1.1526817310656592, -1.2846642694068726, -1.193908431000919, -0.9064883494324815, -1.2846779468662586, -0.9064901524756348, -1.1527616425002996, -1.152760562609475, -0.9064879101984035, -1.2846605229188603, -1.1526836476499973, -1.1526887117278786, -1.2848083812055946, -0.9065055457020966, -1.1527568870550762, -1.1526878033882297, -0.9064929149438883, -1.1526817310379238, -0.9064983037286805, -0.9851216440673974, -1.284661951634912, -1.1527200579981973, -1.2846610992734828, -1.1526902879792702, -1.1570767256730226, -0.906350058386796, -0.9065629393969308, -1.1526825492678214, -0.95106366891601, -1.152681863584015, -0.9069224843164169, -1.1526827094926175, -1.1544460567323265, -0.6465436236490885, -1.152688742221499, -1.2852021789024768, -1.152707987681681, -0.9065170926258603, -1.1526824038477153, -1.1527130656911626, -0.9065031610316499, -0.9064950237207187, -1.2092380600477675, -0.9069268718314987, -1.2846618406368555, -1.1573867386589454, -1.0899070611762027, -1.1526864280136813, -1.1527117056516976, -1.1527122063605524, -1.152711736759952, -0.9061078617272211, -1.1526826451436083, -0.9065676332262856, -0.9066989140376767, -1.1531821708919183, -1.2527544069877588, -0.9064947219831184, -1.1526904394850066, -0.9064942907742101, -1.2846605141771994, -1.2154619545349417, -1.1527732613375108, -1.2268018739715998, -1.1526941866868714, -1.1545691800995317, -0.9066190121711112, -1.1526893491744017, -0.906518557671577, -0.6465266066151333, -1.186243984714006, -0.9064949243596879, -1.1526910092716807, -0.5647902576433709, -1.2846795521337016, -0.906496706796227, -1.1862781893177134, -1.2846618419866673, -1.1527200107174722, -1.5529209539560864, -1.2846660539906882, -0.33916284903856186, -1.2846984711694391, -1.1966175910955468, -1.1527873584021222, -1.2846690600750732, -1.1621012823202794, -1.2005666093360543, -1.1526817480930658, -1.1527326937393043], \"z\": [0.19953307870958223, -0.01729867189751697, -0.017267202571155698, 0.09708758119385813, -0.017273831812299054, 0.199451016176571, -0.017342932901248522, -0.01727472597360134, 0.050015630295079404, 0.15045502941854202, -0.017282127197588353, -0.01726786276238688, -0.017266041872017596, 0.09709055155385478, 0.18919718329783405, -0.02412747789104579, -0.01727408904527984, -0.01738811866433203, -0.01727439302355376, -0.01726425838818935, -0.017787150882294527, -0.01729866441472017, -0.017287936422420064, -0.06626369966147656, 0.1995316405913246, -0.017354496136224282, -0.017273282506157724, -0.017263389933506745, -0.017283738013577046, -0.017266271987294617, -0.019630068399106703, 0.1995345298352271, -0.017444002992486694, -0.017265081371316198, -0.017295304895595522, -0.017278818628206485, 0.19921039956633238, 0.1995191925863391, 0.19952899329735596, 0.19953511682330471, 0.19954292661200668, 0.09709382453898505, -0.017275280123182708, 0.22105158087817092, -0.017340015369297777, 0.19952134004329902, -0.01730283458922974, -0.017596141914641945, -0.01733963577237377, -0.01726308043938903, -0.017345795538632473, -0.017709290361037227, 0.2381065189045988, -0.017267673261929333, -0.020220324140637642, -0.01726310653702431, 0.19953556392270388, -0.025182409287190396, 0.09707687890346595, 0.19953170485808036, 0.09708535119436258, -0.017295679784260182, -0.017318680680123346, 0.09708577985293643, 0.19953168237365326, -0.01737635426698592, -0.017301763025240394, 0.1877943187465731, 0.09706662704540628, -0.01727755304998167, -0.017267481454741686, 0.09708601183371465, -0.01726310489818696, 0.0970915948844079, 0.43198540981009803, 0.1995393617823996, -0.017333127784345894, 0.19953798210999668, -0.017270410834070635, -0.01821287124416295, 0.09667658714347269, 0.09704683880955726, -0.017263411724598773, 0.08824190233766685, -0.017264477498613925, 0.09699447205144066, -0.01731678730527268, -0.01763625191855084, 0.02658629552929873, -0.017275050490676295, 0.19872853751721056, -0.017275187924587054, 0.09706978457226347, -0.01727267763289055, -0.01727157791465825, 0.09707736490343255, 0.09709155379141524, 0.156334474266715, 0.09694398233688155, 0.19953304759543328, -0.01816685927670619, -0.0823004647821319, -0.017268906411596004, -0.01727794016957457, -0.017286227074103027, -0.01728671360382315, 0.09571019908842202, -0.017316853974066137, 0.0969845586639721, 0.0970105013542529, -0.019496054889348368, 0.12227122665576687, 0.09709074585756522, -0.017288965902454937, 0.09708853797076761, 0.19953213231208883, 0.13362178489813786, -0.02267147563612758, 0.22069460361326698, -0.017271875117882047, -0.025437628893145537, 0.0969552367221592, -0.017266430296915557, 0.09707130243293506, 0.026583663277742923, 0.207166135682231, 0.09709029510502112, -0.017265318638975253, 0.14766570396113338, 0.1984072116320411, 0.09708994038247751, 0.20715868741323878, 0.19953304899390586, -0.017289148449758988, 0.23809492700820248, 0.19951374761895135, -0.05717954119235244, 0.1994900966225362, -0.025732743249452957, -0.017703684396085894, 0.19952896986073576, -0.035021339026621794, 0.150442420646665, -0.01726549973357203, -0.01731013015232988]}, {\"customdata\": [[\"Ethash\"], [\"CryptoNight-V7\"], [\"Ethash\"], [\"Equihash\"], [\"Multiple\"], [\"Multiple\"], [\"Multiple\"], [\"NeoScrypt\"], [\"HybridScryptHash256\"], [\"CryptoNight\"], [\"Stanford Folding\"], [\"Multiple\"], [\"M7 POW\"], [\"Lyra2RE\"], [\"Ethash\"], [\"Blake2b\"], [\"1GB AES Pattern Search\"], [\"Dagger\"], [\"X11GOST\"], [\"CryptoNight\"], [\"Multiple\"], [\"Lyra2Z\"], [\"Ethash\"], [\"Equihash\"], [\"CryptoNight\"], [\"CryptoNight\"], [\"Lyra2RE\"], [\"CryptoNight-V7\"], [\"Equihash\"], [\"Lyra2RE\"], [\"Dagger-Hashimoto\"], [\"CryptoNight-V7\"], [\"Argon2d\"], [\"Blake2b\"], [\"Cloverhash\"], [\"CryptoNight\"], [\"CryptoNight\"], [\"Time Travel\"], [\"CryptoNight\"], [\"Equihash\"], [\"NeoScrypt\"], [\"Equihash\"], [\"Dagger\"], [\"NeoScrypt\"], [\"Ethash\"], [\"NeoScrypt\"], [\"Multiple\"], [\"CryptoNight\"], [\"CryptoNight\"], [\"Ethash\"], [\"CryptoNight-V7\"], [\"NeoScrypt\"], [\"NeoScrypt\"], [\"SkunkHash\"], [\"CryptoNight\"], [\"Dagger\"], [\"Ethash\"], [\"CryptoNight\"], [\"IMesh\"], [\"Equihash\"], [\"Lyra2Z\"], [\"CryptoNight\"], [\"Lyra2RE\"], [\"Tribus\"], [\"Lyra2Z\"], [\"CryptoNight\"], [\"CryptoNight Heavy\"], [\"Jump Consistent Hash\"], [\"CryptoNight\"], [\"HMQ1725\"], [\"CryptoNight-V7\"], [\"Cryptonight-GPU\"], [\"Equihash\"], [\"Lyra2Z\"], [\"CryptoNight\"], [\"Blake\"], [\"Blake\"], [\"Exosis\"], [\"Equihash\"], [\"Equihash\"], [\"NeoScrypt\"], [\"Blake\"], [\"Multiple\"], [\"Equihash+Scrypt\"], [\"Ethash\"], [\"CryptoNight\"], [\"Equihash\"]], \"hovertemplate\": \"<b>%{hovertext}</b><br><br>class=%{marker.color}<br>pc1=%{x}<br>pc2=%{y}<br>pcs3=%{z}<br>Algorithm=%{customdata[0]}<extra></extra>\", \"hovertext\": [\"Ethereum\", \"Monero\", \"Ethereum Classic\", \"ZCash\", \"DigiByte\", \"MyriadCoin\", \"Verge\", \"FeatherCoin\", \"MediterraneanCoin\", \"DigitalNote \", \"Folding Coin\", \"Unitus\", \"Cryptonite\", \"Crypto\", \"Expanse\", \"Siacoin\", \"HOdlcoin\", \"SoilCoin\", \"SibCoin\", \"Karbo\", \"Circuits of Value\", \"ZCoin\", \"Elementrem\", \"ZClassic\", \"Cannabis Industry Coin\", \"Bikercoins\", \"HexxCoin\", \"Citadel\", \"Zero\", \"Zoin\", \"DubaiCoin\", \"Quantum Resistant Ledger\", \"Dynamic\", \"Nano\", \"ChanCoin\", \"Dinastycoin\", \"LeviarCoin\", \"Bitcore\", \"Sumokoin\", \"BitcoinZ\", \"VIVO Coin\", \"Bitcoin Gold\", \"Pirl\", \"Innova\", \"Ellaism\", \"GoByte\", \"SHIELD\", \"UltraNote\", \"BitCoal\", \"DaxxCoin\", \"Lethean\", \"SparksPay\", \"GunCoin\", \"MUNcoin\", \"Niobio Cash\", \"Travelflex\", \"Callisto Network\", \"BitTube\", \"Aidos Kuneen\", \"Bitrolium\", \"Alpenschillling\", \"Monero Classic\", \"Infinex\", \"KEYCO\", \"GINcoin\", \"PlatinCoin\", \"Loki\", \"MassGrid\", \"PluraCoin\", \"PlusOneCoin\", \"Webchain\", \"Ryo\", \"CrypticCoin\", \"Actinium\", \"FREDEnergy\", \"Universal Molecule\", \"Lithium\", \"Exosis\", \"Beam\", \"Bithereum\", \"UFO Coin\", \"BlakeCoin\", \"JoinCoin\", \"Vollar\", \"Reality Clash\", \"Beldex\", \"Horizen\"], \"legendgroup\": \"2\", \"marker\": {\"color\": [2, 2, 2, 2, 2, 2, 2, 2, 2, 2, 2, 2, 2, 2, 2, 2, 2, 2, 2, 2, 2, 2, 2, 2, 2, 2, 2, 2, 2, 2, 2, 2, 2, 2, 2, 2, 2, 2, 2, 2, 2, 2, 2, 2, 2, 2, 2, 2, 2, 2, 2, 2, 2, 2, 2, 2, 2, 2, 2, 2, 2, 2, 2, 2, 2, 2, 2, 2, 2, 2, 2, 2, 2, 2, 2, 2, 2, 2, 2, 2, 2, 2, 2, 2, 2, 2, 2], \"coloraxis\": \"coloraxis\", \"symbol\": \"x\"}, \"mode\": \"markers\", \"name\": \"2\", \"scene\": \"scene\", \"showlegend\": true, \"type\": \"scatter3d\", \"x\": [-0.1727240700030328, -0.1638773726092203, -0.17117139167231826, -0.1806870241948007, 0.13616196148444137, -0.11652379039206251, 0.15990194087159124, -0.18895438538520334, -0.1530785790510109, 0.43297500761467206, -0.15032665859681496, -0.15043888145809142, -0.14214152169319577, -0.1717788013173379, -0.17378940235860146, 0.341652809609287, -0.1686771108017895, -0.1778499893733227, -0.1902202641328106, 0.2783050653435013, -0.13056522295428827, -0.16915322004577393, -0.17353219794388583, -0.18070859502459968, 0.27829933810238566, 0.2784297370146876, -0.17231756689521646, -0.16264645426333055, -0.18072090583185513, -0.17203665241296368, -0.17743008374872268, -0.16250374319520533, -0.16433252239734686, -0.05779750906202476, -0.1804265826378612, 0.3143255301159606, 0.27869317122549125, -0.1737686970605422, 0.2788760607515244, 0.030954321409372248, -0.19363019508775495, -0.18056732382447077, -0.1766129249667329, -0.19347610664274248, -0.1719032800401657, -0.19357597349583708, -0.14069778294306734, 1.1136516823366187, 0.2782822244831118, -0.0970444433848695, -0.15164749559061166, -0.19362770257284548, -0.18668495935511195, -0.1682384671913662, 0.2821453312168215, -0.1761166733499646, -0.12510067754234203, 0.2861791379422321, -0.15601000500299098, -0.17956103230998774, -0.16694409054395618, 0.2784642976999669, -0.17216328928955846, -0.16387135664375682, -0.16923731368545486, 0.2823786461704898, 0.5652062749193968, -0.16471656828693956, 0.2920309362103601, -0.17526909124007178, -0.15153469519974244, -0.177090714404124, -0.07560975414065962, -0.1686370446519578, 0.35797818142055926, -0.16050215619934607, -0.16089259089967423, -0.1729345185726508, -0.1786338483953205, -0.18040059286831503, -0.11899061882757805, -0.1115295145081302, -0.15117222353881932, -0.1405503338231088, -0.17356526947848622, 0.29997980464933927, -0.18068807888518718], \"y\": [-1.9600394516804502, -2.193536193386017, -1.9601310648785926, -1.8924640985637278, -1.7290503471181347, -1.7248019570685837, -1.7250729007370549, -1.5891359359667376, -2.2112101431525923, -2.2415158146863794, -2.12507428279967, -1.7246182226277447, -2.102324025847546, -2.1465759611476933, -1.9600896900901208, -2.080370796966251, -2.152459753559975, -2.1279629252465035, -2.101492847305906, -2.240067431975358, -1.7247455819220934, -2.1747472264138574, -1.9600869609654332, -1.8924648753118396, -2.2400753656503922, -2.2400734800699724, -2.1465561701119564, -2.1936218305330866, -1.8924625086352316, -2.1465537820513747, -2.1309139155158494, -2.1935604920469562, -2.1728596304750907, -2.0949937260018685, -2.0934860432624194, -2.2401683286670733, -2.2400843663637384, -2.1547522887349815, -2.240102289918993, -1.89958070145768, -1.5890872372245124, -1.8924597882503331, -2.128007109369603, -1.58909433352903, -1.9602065942151154, -1.5890886567234679, -1.7247311000623464, -2.2696923015181394, -2.2400700106929974, -1.9643392366338928, -2.1937979358886177, -1.5890829325028584, -1.5891694249044097, -2.1301403034077624, -2.240158160384129, -2.1279496845693746, -1.962890787447957, -2.240479362752763, -2.2236928024564895, -1.8924579747482415, -2.174863392473506, -2.240067599102653, -2.1465620513147683, -2.1687270042802904, -2.174742597365469, -2.2403352178667655, -2.1885661230187634, -2.1517491240955184, -2.2402686442362776, -2.1172662469375467, -2.1943211092965007, -2.154891534422091, -1.8940045585120433, -2.1747726155242892, -2.2428675998331062, -2.171151365318495, -2.1711093014101244, -2.165353039822828, -1.8925600285848707, -1.892460729266253, -1.5891905379813587, -2.174231516820748, -1.7246465966673308, -2.1555132421446768, -1.9600869452432235, -2.2402635661843386, -1.8924641365422745], \"z\": [0.37453338684396414, 0.41554617700510244, 0.37451272836202476, 0.39154626441626345, 0.33390230337424914, 0.339957484647101, 0.3322277934146375, 0.2791582655110362, 0.4059561859590159, 0.40714926941221824, 0.3891350053056354, 0.3408678345671338, 0.4278253372551177, 0.4048970096408508, 0.3745761318470858, 0.3708776213577815, 0.4605243831988125, 0.41812202587861713, 0.4099107138183022, 0.4111467088812368, 0.3403393603722304, 0.41042094958913533, 0.37456818651737606, 0.3915470691661747, 0.41114887467159356, 0.4111447196999373, 0.40490720889224835, 0.4155330858851499, 0.39154681858677226, 0.4048986808474692, 0.4215425610137206, 0.4155135644639963, 0.4458321301889609, 0.3858404317922357, 0.4112277620013537, 0.41015603844797927, 0.411140038179095, 0.4189532781380855, 0.4111394066402401, 0.38737354461160467, 0.27927787056242787, 0.39154179871590333, 0.41809828942583765, 0.27927531631704766, 0.37455245575425206, 0.279276699535189, 0.34062154759941926, 0.3950649698911809, 0.4111480046767538, 0.37348463923898884, 0.4152672866875304, 0.2792767127793748, 0.2791027036706549, 0.4096521264123919, 0.41106129264954827, 0.41806978309475235, 0.37391021239419026, 0.4110286393218402, 0.3877951940896367, 0.3915129524911233, 0.41038797481609846, 0.4111422590598999, 0.40490434234902317, 0.4030774024285585, 0.4104221525219428, 0.41109943932094023, 0.3953244140547099, 0.41200859691335684, 0.41081032439465026, 0.4034980392019319, 0.41539626966937193, 0.47004580953766184, 0.3889711250600113, 0.4104128018177532, 0.4096064661408082, 0.4104744046047734, 0.41047479273293375, 0.4709941441294669, 0.3915125771218474, 0.3915373328558663, 0.27719833888429657, 0.4098709709202094, 0.3408956905007567, 0.36999465701893414, 0.37456911551365407, 0.41058479916551827, 0.3915463037639382]}, {\"customdata\": [[\"SHA-512\"], [\"X15\"], [\"PoS\"], [\"SHA3\"], [\"X13\"], [\"X13\"], [\"PHI1612\"], [\"X13\"], [\"Counterparty\"], [\"X13\"], [\"X13\"], [\"SHA3\"], [\"QUAIT\"], [\"X13\"], [\"X15\"], [\"NIST5\"], [\"PoS\"], [\"NIST5\"], [\"POS 3.0\"], [\"X13\"], [\"SHA-256D\"], [\"PoS\"], [\"PoS\"], [\"X13\"], [\"X14\"], [\"PoS\"], [\"SHA-256D\"], [\"X13\"], [\"PoS\"], [\"PoS\"], [\"Quark\"], [\"X13\"], [\"Blake2S\"], [\"PoS\"], [\"PoS\"], [\"PoS\"], [\"X15\"], [\"POS 3.0\"], [\"536\"], [\"NIST5\"], [\"NIST5\"], [\"Skein\"], [\"X13\"], [\"X13\"], [\"SkunkHash v2 Raptor\"], [\"Skein\"], [\"PoS\"], [\"SHA-512\"], [\"Ouroboros\"], [\"NIST5\"], [\"PHI1612\"], [\"Quark\"], [\"POS 2.0\"], [\"NIST5\"], [\"X13\"], [\"NIST5\"], [\"Quark\"], [\"Quark\"], [\"POS 3.0\"], [\"X13\"], [\"XEVAN\"], [\"VBFT\"], [\"NIST5\"], [\"Green Protocol\"], [\"PoS\"], [\"Quark\"], [\"PoS\"], [\"SHA-256D\"], [\"X15\"], [\"Quark\"], [\"DPoS\"], [\"Quark\"], [\"Quark\"], [\"Quark\"], [\"PoS\"], [\"SHA-512\"], [\"XEVAN\"], [\"XEVAN\"], [\"Quark\"], [\"Quark\"], [\"Quark\"], [\"XEVAN\"], [\"SHA-256D\"], [\"PoS\"], [\"X13\"], [\"PoS\"], [\"PoS\"]], \"hovertemplate\": \"<b>%{hovertext}</b><br><br>class=%{marker.color}<br>pc1=%{x}<br>pc2=%{y}<br>pcs3=%{z}<br>Algorithm=%{customdata[0]}<extra></extra>\", \"hovertext\": [\"Bitshares\", \"KoboCoin\", \"Exclusive Coin\", \"MaxCoin\", \"NavCoin\", \"OpalCoin\", \"TittieCoin\", \"StealthCoin\", \"StorjCoin\", \"Kore\", \"Sativa Coin\", \"Nexus\", \"Droidz\", \"Paycon\", \"EverGreenCoin\", \"PWR Coin\", \"Nebuchadnezzar\", \"VIP Tokens\", \"Let it Ride\", \"MudraCoin\", \"BuzzCoin\", \"Opair\", \"CoffeeCoin\", \"RoyalCoin\", \"GanjaCoin V2\", \"TeamUP\", \"LanaCoin\", \"EmberCoin\", \"FreeCoin\", \"Creatio\", \"Allsafe\", \"FindCoin\", \"TajCoin\", \"Atmos\", \"MacronCoin\", \"Phreak\", \"HTML5 Coin\", \"QTUM\", \"Espers\", \"Denarius\", \"Virta Unique Coin\", \"Bitcoin Planet\", \"BritCoin\", \"DeepOnion\", \"Signatum\", \"Cream\", \"Stakecoin\", \"Obsidian\", \"Cardano\", \"NamoCoin\", \"LUXCoin\", \"Bitcloud 2.0\", \"KekCoin\", \"Electra\", \"Bitcoin Diamond\", \"Bulwark\", \"Kalkulus\", \"Digiwage\", \"TokenPay\", \"Tokyo Coin\", \"Ellerium\", \"Ontology\", \"Bitspace\", \"Bitcoin Green\", \"Deviant Coin\", \"Carebit\", \"Zealium\", \"TheVig\", \"Dekado\", \"Poseidon Quark\", \"Muse\", \"Dystem\", \"Giant\", \"Vitae\", \"Ketan\", \"Kcash\", \"Bettex coin\", \"BitMoney\", \"HerbCoin\", \"Galilel\", \"Crypto Sports\", \"Beetle Coin\", \"Titan Coin\", \"Radium\", \"Triangles Coin\", \"Particl\", \"Nxt\"], \"legendgroup\": \"1\", \"marker\": {\"color\": [1, 1, 1, 1, 1, 1, 1, 1, 1, 1, 1, 1, 1, 1, 1, 1, 1, 1, 1, 1, 1, 1, 1, 1, 1, 1, 1, 1, 1, 1, 1, 1, 1, 1, 1, 1, 1, 1, 1, 1, 1, 1, 1, 1, 1, 1, 1, 1, 1, 1, 1, 1, 1, 1, 1, 1, 1, 1, 1, 1, 1, 1, 1, 1, 1, 1, 1, 1, 1, 1, 1, 1, 1, 1, 1, 1, 1, 1, 1, 1, 1, 1, 1, 1, 1, 1, 1], \"coloraxis\": \"coloraxis\", \"symbol\": \"cross\"}, \"mode\": \"markers\", \"name\": \"1\", \"scene\": \"scene\", \"showlegend\": true, \"type\": \"scatter3d\", \"x\": [-0.2650869601276919, -0.22100819079205963, -0.4178524241841963, -0.44329451356126925, -0.25757244841231347, -0.25819330982427907, -0.347018988512154, -0.2579746478314571, -0.389255284161565, -0.25826864513242326, -0.258220915499373, -0.5346878854603653, -0.38573318851751953, -0.25774396162576235, -0.22344133234352023, -0.20946067983226735, -0.4175365703515624, -0.33055731665715865, -0.3938608914823944, -0.2523627767726096, 0.06611552682560012, -0.4164964120030015, -0.4158261881813985, -0.25378843950324115, -0.3690408214815547, -0.415578107087633, -0.24761260913491773, 0.8714856338888755, -0.41695893355531305, -0.4175365703515624, -0.3897047032916717, -0.25355690866794517, -0.3786823927294959, -0.41578776491460584, -0.4102025102801941, -0.4175708836678948, 0.9076364953814322, -0.3926425095963708, 0.609149778554127, -0.33208889248961726, -0.33059539203865296, -0.38102831343195886, -0.257906878473976, -0.25797739384054535, -0.3988872866032829, -0.3805342713675545, -0.4174377427661127, -0.32299252590373884, 0.6095951855073293, -0.3168998461748093, -0.3870598133873268, -0.3926931409734783, -0.3921932199145843, 0.22591155553522116, -0.25465724147276053, -0.3273116122928984, -0.38959090092200105, -0.3887583804061153, -0.3941421179468386, -0.24537776312287032, -0.3156455013397334, -0.38471909286129613, -0.331689094713287, -0.39207287316155487, -0.41703332518699493, -0.39136405529034457, -0.41722151078085484, -0.31271715771137193, -0.2182456011210633, -0.38531400744288286, 1.0224216661685999, -0.38970419614592794, -0.394371825897385, -0.3884272397186147, -0.41632446845705545, -0.220076411770011, -0.3110970220475009, 0.4613663584348786, -0.3936684382802735, -0.39412324306103275, -0.3898208483162427, -0.3101172248497921, -0.26758059672472867, -0.41781150113020094, -0.25837550677005505, -0.4177475035020441, -0.4827062676355118], \"y\": [1.6737207074530513, 1.7911165920836332, 1.8018454155221377, 2.035469128035858, 1.7138538148024545, 1.7138314580858218, 1.7327339592308362, 1.7138393319270973, 1.7098597952328944, 1.7138203153859652, 1.7138234390808005, 2.474661245038937, 1.7689307612861114, 1.7138125140154508, 1.7912563755668331, 1.4108808993664574, 1.801842739268817, 1.4064570830228065, 1.7316038599470014, 1.6661395210782972, 1.7988375388771711, 1.8018422598146673, 1.8018902789232096, 1.6662269267344516, 1.7334648833696051, 1.8017158609336632, 1.7963174115819216, 1.7539131614682693, 1.8018424646609903, 1.801842739268817, 1.6185801914159934, 1.6662268166649754, 1.7507147024049112, 1.801842284068611, 1.8018398848457298, 1.8018344787270673, 1.7687795231707093, 1.7316010169943268, 1.785779956315395, 1.406458131793588, 1.406434637118101, 1.781741964567995, 1.7138206974057226, 1.713825957168856, 1.713696818003462, 1.7817597546226285, 1.8018170742151254, 1.674100756375688, 1.6764454186726256, 1.4061691083552212, 1.7806271005270666, 1.6661040095158923, 1.7136178927833265, 1.4054834599168682, 1.7138112651560564, 1.3588563214629656, 1.618580776873652, 1.6185405057930233, 1.7315997044147367, 1.6659695489418525, 1.488257897610981, 1.7893626576138457, 1.406444428399661, 1.739076799335027, 1.8018130910799122, 1.666151868814966, 1.8018119346266959, 1.7991757252748475, 1.743637328482405, 1.6182922126820134, 1.738872336668917, 1.6185759947096903, 1.6661804418214348, 1.6185664797950376, 1.8017529120830629, 1.7160154863708297, 1.440667318773242, 1.448970854594986, 1.6661714540761923, 1.6661796389498222, 1.6185771541940839, 1.4881478687014547, 1.797358832242815, 1.8018405666758541, 1.7138248130219946, 1.8018431281933265, 2.1116864572285046], \"z\": [-0.16734026661295515, -0.6050643438713097, -0.20876966726545432, -0.7372083657546107, -0.5908971547076067, -0.5908739920304709, -0.2915420404562253, -0.5908821497240302, -0.15321181707807568, -0.5908690518838193, -0.5908711874799802, -0.8047121617320377, -0.6342149004796573, -0.5908818827254922, -0.6050310158648744, -0.5116726807172561, -0.20877790161304344, -0.5071389174823411, -0.20052272027735663, -0.3563881208054413, -0.6594954520039533, -0.20880712399040718, -0.2088381620976334, -0.3563699825926721, -0.6252136368689193, -0.2088010987822202, -0.6500083511795507, -0.6328684432744375, -0.20879412772551276, -0.20877790161304344, -0.24904094062569135, -0.35637648641202363, -0.6705596405626016, -0.20882712148177934, -0.20898407880686698, -0.20877484681841552, -0.6312612586144264, -0.20055637337694812, -0.6712743457909092, -0.5070959757415661, -0.5071321730218181, -0.6609829857195018, -0.5908793540473553, -0.5908786934983344, -0.18578726620720082, -0.6610014171062957, -0.20877420604019445, -0.16580272421741749, -0.25327730166299794, -0.5074514542538072, -0.5251136472378911, -0.48356451853890586, -0.19363986080406956, -0.5225912832848707, -0.5909686454842362, -0.27260315960219045, -0.24904429895910785, -0.2490576115041882, -0.20051373692901522, -0.3565422335652558, -0.38600313887792986, -0.19257695487801071, -0.5071037924996478, -0.19019610793240194, -0.2087846086775934, -0.48361410316757, -0.20877900770221547, -0.6488937854881239, -0.37054565009837603, -0.2490920550354513, -0.33351829804261984, -0.24903989475194668, -0.48353647030601205, -0.24907351479003814, -0.20878940341324065, -0.07374467343324514, -0.1515067054492103, -0.01784507328890286, -0.4835540427946185, -0.4835432801555487, -0.24903689683479852, -0.3861312991807534, -0.6497081279784858, -0.20876959680404938, -0.5908671734543143, -0.2087720493118126, -0.19899785283182017]}, {\"customdata\": [[\"Scrypt\"], [\"CryptoNight\"], [\"Scrypt\"], [\"CryptoNight\"], [\"CryptoNight\"], [\"CryptoNight Heavy\"]], \"hovertemplate\": \"<b>%{hovertext}</b><br><br>class=%{marker.color}<br>pc1=%{x}<br>pc2=%{y}<br>pcs3=%{z}<br>Algorithm=%{customdata[0]}<extra></extra>\", \"hovertext\": [\"MoonCoin\", \"ByteCoin\", \"gCn Coin\", \"TurtleCoin\", \"Newton Coin\", \"Qwertycoin\"], \"legendgroup\": \"9\", \"marker\": {\"color\": [9, 9, 9, 9, 9, 9], \"coloraxis\": \"coloraxis\", \"symbol\": \"circle\"}, \"mode\": \"markers\", \"name\": \"9\", \"scene\": \"scene\", \"showlegend\": true, \"type\": \"scatter3d\", \"x\": [2.550237612527882, 3.8250948640599427, 3.2381078327210617, 7.990179970017661, 2.081354037065221, 3.0806385988821563], \"y\": [-1.3247585712472378, -2.2419307785562768, -1.1707298965686845, -2.6648567390563387, -2.304393098907041, -2.227471265620102], \"z\": [-0.0503184836141518, 0.3115603393384659, -0.10863476249446383, 0.3009011932219716, 0.3765316866410812, 0.33419083977559344]}, {\"customdata\": [[\"VeChainThor Authority\"]], \"hovertemplate\": \"<b>%{hovertext}</b><br><br>class=%{marker.color}<br>pc1=%{x}<br>pc2=%{y}<br>pcs3=%{z}<br>Algorithm=%{customdata[0]}<extra></extra>\", \"hovertext\": [\"Vechain\"], \"legendgroup\": \"6\", \"marker\": {\"color\": [6], \"coloraxis\": \"coloraxis\", \"symbol\": \"diamond\"}, \"mode\": \"markers\", \"name\": \"6\", \"scene\": \"scene\", \"showlegend\": true, \"type\": \"scatter3d\", \"x\": [4.698533387164553], \"y\": [0.3145825872314652], \"z\": [13.317000244795048]}, {\"customdata\": [[\"Proof-of-BibleHash\"], [\"SHA-256 + Hive\"], [\"Proof-of-Authority\"]], \"hovertemplate\": \"<b>%{hovertext}</b><br><br>class=%{marker.color}<br>pc1=%{x}<br>pc2=%{y}<br>pcs3=%{z}<br>Algorithm=%{customdata[0]}<extra></extra>\", \"hovertext\": [\"BiblePay\", \"LitecoinCash\", \"Poa Network\"], \"legendgroup\": \"5\", \"marker\": {\"color\": [5, 5, 5], \"coloraxis\": \"coloraxis\", \"symbol\": \"square\"}, \"mode\": \"markers\", \"name\": \"5\", \"scene\": \"scene\", \"showlegend\": true, \"type\": \"scatter3d\", \"x\": [-0.34474453375139763, -0.214409932952175, -0.3467051543853136], \"y\": [5.012418771501364, 1.7009599354463474, 2.6799684401392097], \"z\": [16.54026564880999, 15.181068489254992, 13.793979127229129]}, {\"customdata\": [[\"ECC 256K1\"], [\"Leased POS\"]], \"hovertemplate\": \"<b>%{hovertext}</b><br><br>class=%{marker.color}<br>pc1=%{x}<br>pc2=%{y}<br>pcs3=%{z}<br>Algorithm=%{customdata[0]}<extra></extra>\", \"hovertext\": [\"Acute Angle Cloud\", \"Waves\"], \"legendgroup\": \"8\", \"marker\": {\"color\": [8, 8], \"coloraxis\": \"coloraxis\", \"symbol\": \"x\"}, \"mode\": \"markers\", \"name\": \"8\", \"scene\": \"scene\", \"showlegend\": true, \"type\": \"scatter3d\", \"x\": [-0.3830653735783824, -0.7416619251540273], \"y\": [3.744888945169045, 6.806261327599305], \"z\": [9.854669621185352, 5.188799373679297]}, {\"customdata\": [[\"TRC10\"]], \"hovertemplate\": \"<b>%{hovertext}</b><br><br>class=%{marker.color}<br>pc1=%{x}<br>pc2=%{y}<br>pcs3=%{z}<br>Algorithm=%{customdata[0]}<extra></extra>\", \"hovertext\": [\"BitTorrent\"], \"legendgroup\": \"4\", \"marker\": {\"color\": [4], \"coloraxis\": \"coloraxis\", \"symbol\": \"cross\"}, \"mode\": \"markers\", \"name\": \"4\", \"scene\": \"scene\", \"showlegend\": true, \"type\": \"scatter3d\", \"x\": [33.99561698806623], \"y\": [1.8933258953938026], \"z\": [-1.5999822980043499]}],                        {\"coloraxis\": {\"colorbar\": {\"title\": {\"text\": \"class\"}}, \"colorscale\": [[0.0, \"#0d0887\"], [0.1111111111111111, \"#46039f\"], [0.2222222222222222, \"#7201a8\"], [0.3333333333333333, \"#9c179e\"], [0.4444444444444444, \"#bd3786\"], [0.5555555555555556, \"#d8576b\"], [0.6666666666666666, \"#ed7953\"], [0.7777777777777778, \"#fb9f3a\"], [0.8888888888888888, \"#fdca26\"], [1.0, \"#f0f921\"]]}, \"legend\": {\"title\": {\"text\": \"class\"}, \"tracegroupgap\": 0, \"x\": 0, \"y\": 1}, \"margin\": {\"t\": 60}, \"scene\": {\"domain\": {\"x\": [0.0, 1.0], \"y\": [0.0, 1.0]}, \"xaxis\": {\"title\": {\"text\": \"pc1\"}}, \"yaxis\": {\"title\": {\"text\": \"pc2\"}}, \"zaxis\": {\"title\": {\"text\": \"pcs3\"}}}, \"template\": {\"data\": {\"bar\": [{\"error_x\": {\"color\": \"#2a3f5f\"}, \"error_y\": {\"color\": \"#2a3f5f\"}, \"marker\": {\"line\": {\"color\": \"#E5ECF6\", \"width\": 0.5}}, \"type\": \"bar\"}], \"barpolar\": [{\"marker\": {\"line\": {\"color\": \"#E5ECF6\", \"width\": 0.5}}, \"type\": \"barpolar\"}], \"carpet\": [{\"aaxis\": {\"endlinecolor\": \"#2a3f5f\", \"gridcolor\": \"white\", \"linecolor\": \"white\", \"minorgridcolor\": \"white\", \"startlinecolor\": \"#2a3f5f\"}, \"baxis\": {\"endlinecolor\": \"#2a3f5f\", \"gridcolor\": \"white\", \"linecolor\": \"white\", \"minorgridcolor\": \"white\", \"startlinecolor\": \"#2a3f5f\"}, \"type\": \"carpet\"}], \"choropleth\": [{\"colorbar\": {\"outlinewidth\": 0, \"ticks\": \"\"}, \"type\": \"choropleth\"}], \"contour\": [{\"colorbar\": {\"outlinewidth\": 0, \"ticks\": \"\"}, \"colorscale\": [[0.0, \"#0d0887\"], [0.1111111111111111, \"#46039f\"], [0.2222222222222222, \"#7201a8\"], [0.3333333333333333, \"#9c179e\"], [0.4444444444444444, \"#bd3786\"], [0.5555555555555556, \"#d8576b\"], [0.6666666666666666, \"#ed7953\"], [0.7777777777777778, \"#fb9f3a\"], [0.8888888888888888, \"#fdca26\"], [1.0, \"#f0f921\"]], \"type\": \"contour\"}], \"contourcarpet\": [{\"colorbar\": {\"outlinewidth\": 0, \"ticks\": \"\"}, \"type\": \"contourcarpet\"}], \"heatmap\": [{\"colorbar\": {\"outlinewidth\": 0, \"ticks\": \"\"}, \"colorscale\": [[0.0, \"#0d0887\"], [0.1111111111111111, \"#46039f\"], [0.2222222222222222, \"#7201a8\"], [0.3333333333333333, \"#9c179e\"], [0.4444444444444444, \"#bd3786\"], [0.5555555555555556, \"#d8576b\"], [0.6666666666666666, \"#ed7953\"], [0.7777777777777778, \"#fb9f3a\"], [0.8888888888888888, \"#fdca26\"], [1.0, \"#f0f921\"]], \"type\": \"heatmap\"}], \"heatmapgl\": [{\"colorbar\": {\"outlinewidth\": 0, \"ticks\": \"\"}, \"colorscale\": [[0.0, \"#0d0887\"], [0.1111111111111111, \"#46039f\"], [0.2222222222222222, \"#7201a8\"], [0.3333333333333333, \"#9c179e\"], [0.4444444444444444, \"#bd3786\"], [0.5555555555555556, \"#d8576b\"], [0.6666666666666666, \"#ed7953\"], [0.7777777777777778, \"#fb9f3a\"], [0.8888888888888888, \"#fdca26\"], [1.0, \"#f0f921\"]], \"type\": \"heatmapgl\"}], \"histogram\": [{\"marker\": {\"colorbar\": {\"outlinewidth\": 0, \"ticks\": \"\"}}, \"type\": \"histogram\"}], \"histogram2d\": [{\"colorbar\": {\"outlinewidth\": 0, \"ticks\": \"\"}, \"colorscale\": [[0.0, \"#0d0887\"], [0.1111111111111111, \"#46039f\"], [0.2222222222222222, \"#7201a8\"], [0.3333333333333333, \"#9c179e\"], [0.4444444444444444, \"#bd3786\"], [0.5555555555555556, \"#d8576b\"], [0.6666666666666666, \"#ed7953\"], [0.7777777777777778, \"#fb9f3a\"], [0.8888888888888888, \"#fdca26\"], [1.0, \"#f0f921\"]], \"type\": \"histogram2d\"}], \"histogram2dcontour\": [{\"colorbar\": {\"outlinewidth\": 0, \"ticks\": \"\"}, \"colorscale\": [[0.0, \"#0d0887\"], [0.1111111111111111, \"#46039f\"], [0.2222222222222222, \"#7201a8\"], [0.3333333333333333, \"#9c179e\"], [0.4444444444444444, \"#bd3786\"], [0.5555555555555556, \"#d8576b\"], [0.6666666666666666, \"#ed7953\"], [0.7777777777777778, \"#fb9f3a\"], [0.8888888888888888, \"#fdca26\"], [1.0, \"#f0f921\"]], \"type\": \"histogram2dcontour\"}], \"mesh3d\": [{\"colorbar\": {\"outlinewidth\": 0, \"ticks\": \"\"}, \"type\": \"mesh3d\"}], \"parcoords\": [{\"line\": {\"colorbar\": {\"outlinewidth\": 0, \"ticks\": \"\"}}, \"type\": \"parcoords\"}], \"pie\": [{\"automargin\": true, \"type\": \"pie\"}], \"scatter\": [{\"marker\": {\"colorbar\": {\"outlinewidth\": 0, \"ticks\": \"\"}}, \"type\": \"scatter\"}], \"scatter3d\": [{\"line\": {\"colorbar\": {\"outlinewidth\": 0, \"ticks\": \"\"}}, \"marker\": {\"colorbar\": {\"outlinewidth\": 0, \"ticks\": \"\"}}, \"type\": \"scatter3d\"}], \"scattercarpet\": [{\"marker\": {\"colorbar\": {\"outlinewidth\": 0, \"ticks\": \"\"}}, \"type\": \"scattercarpet\"}], \"scattergeo\": [{\"marker\": {\"colorbar\": {\"outlinewidth\": 0, \"ticks\": \"\"}}, \"type\": \"scattergeo\"}], \"scattergl\": [{\"marker\": {\"colorbar\": {\"outlinewidth\": 0, \"ticks\": \"\"}}, \"type\": \"scattergl\"}], \"scattermapbox\": [{\"marker\": {\"colorbar\": {\"outlinewidth\": 0, \"ticks\": \"\"}}, \"type\": \"scattermapbox\"}], \"scatterpolar\": [{\"marker\": {\"colorbar\": {\"outlinewidth\": 0, \"ticks\": \"\"}}, \"type\": \"scatterpolar\"}], \"scatterpolargl\": [{\"marker\": {\"colorbar\": {\"outlinewidth\": 0, \"ticks\": \"\"}}, \"type\": \"scatterpolargl\"}], \"scatterternary\": [{\"marker\": {\"colorbar\": {\"outlinewidth\": 0, \"ticks\": \"\"}}, \"type\": \"scatterternary\"}], \"surface\": [{\"colorbar\": {\"outlinewidth\": 0, \"ticks\": \"\"}, \"colorscale\": [[0.0, \"#0d0887\"], [0.1111111111111111, \"#46039f\"], [0.2222222222222222, \"#7201a8\"], [0.3333333333333333, \"#9c179e\"], [0.4444444444444444, \"#bd3786\"], [0.5555555555555556, \"#d8576b\"], [0.6666666666666666, \"#ed7953\"], [0.7777777777777778, \"#fb9f3a\"], [0.8888888888888888, \"#fdca26\"], [1.0, \"#f0f921\"]], \"type\": \"surface\"}], \"table\": [{\"cells\": {\"fill\": {\"color\": \"#EBF0F8\"}, \"line\": {\"color\": \"white\"}}, \"header\": {\"fill\": {\"color\": \"#C8D4E3\"}, \"line\": {\"color\": \"white\"}}, \"type\": \"table\"}]}, \"layout\": {\"annotationdefaults\": {\"arrowcolor\": \"#2a3f5f\", \"arrowhead\": 0, \"arrowwidth\": 1}, \"coloraxis\": {\"colorbar\": {\"outlinewidth\": 0, \"ticks\": \"\"}}, \"colorscale\": {\"diverging\": [[0, \"#8e0152\"], [0.1, \"#c51b7d\"], [0.2, \"#de77ae\"], [0.3, \"#f1b6da\"], [0.4, \"#fde0ef\"], [0.5, \"#f7f7f7\"], [0.6, \"#e6f5d0\"], [0.7, \"#b8e186\"], [0.8, \"#7fbc41\"], [0.9, \"#4d9221\"], [1, \"#276419\"]], \"sequential\": [[0.0, \"#0d0887\"], [0.1111111111111111, \"#46039f\"], [0.2222222222222222, \"#7201a8\"], [0.3333333333333333, \"#9c179e\"], [0.4444444444444444, \"#bd3786\"], [0.5555555555555556, \"#d8576b\"], [0.6666666666666666, \"#ed7953\"], [0.7777777777777778, \"#fb9f3a\"], [0.8888888888888888, \"#fdca26\"], [1.0, \"#f0f921\"]], \"sequentialminus\": [[0.0, \"#0d0887\"], [0.1111111111111111, \"#46039f\"], [0.2222222222222222, \"#7201a8\"], [0.3333333333333333, \"#9c179e\"], [0.4444444444444444, \"#bd3786\"], [0.5555555555555556, \"#d8576b\"], [0.6666666666666666, \"#ed7953\"], [0.7777777777777778, \"#fb9f3a\"], [0.8888888888888888, \"#fdca26\"], [1.0, \"#f0f921\"]]}, \"colorway\": [\"#636efa\", \"#EF553B\", \"#00cc96\", \"#ab63fa\", \"#FFA15A\", \"#19d3f3\", \"#FF6692\", \"#B6E880\", \"#FF97FF\", \"#FECB52\"], \"font\": {\"color\": \"#2a3f5f\"}, \"geo\": {\"bgcolor\": \"white\", \"lakecolor\": \"white\", \"landcolor\": \"#E5ECF6\", \"showlakes\": true, \"showland\": true, \"subunitcolor\": \"white\"}, \"hoverlabel\": {\"align\": \"left\"}, \"hovermode\": \"closest\", \"mapbox\": {\"style\": \"light\"}, \"paper_bgcolor\": \"white\", \"plot_bgcolor\": \"#E5ECF6\", \"polar\": {\"angularaxis\": {\"gridcolor\": \"white\", \"linecolor\": \"white\", \"ticks\": \"\"}, \"bgcolor\": \"#E5ECF6\", \"radialaxis\": {\"gridcolor\": \"white\", \"linecolor\": \"white\", \"ticks\": \"\"}}, \"scene\": {\"xaxis\": {\"backgroundcolor\": \"#E5ECF6\", \"gridcolor\": \"white\", \"gridwidth\": 2, \"linecolor\": \"white\", \"showbackground\": true, \"ticks\": \"\", \"zerolinecolor\": \"white\"}, \"yaxis\": {\"backgroundcolor\": \"#E5ECF6\", \"gridcolor\": \"white\", \"gridwidth\": 2, \"linecolor\": \"white\", \"showbackground\": true, \"ticks\": \"\", \"zerolinecolor\": \"white\"}, \"zaxis\": {\"backgroundcolor\": \"#E5ECF6\", \"gridcolor\": \"white\", \"gridwidth\": 2, \"linecolor\": \"white\", \"showbackground\": true, \"ticks\": \"\", \"zerolinecolor\": \"white\"}}, \"shapedefaults\": {\"line\": {\"color\": \"#2a3f5f\"}}, \"ternary\": {\"aaxis\": {\"gridcolor\": \"white\", \"linecolor\": \"white\", \"ticks\": \"\"}, \"baxis\": {\"gridcolor\": \"white\", \"linecolor\": \"white\", \"ticks\": \"\"}, \"bgcolor\": \"#E5ECF6\", \"caxis\": {\"gridcolor\": \"white\", \"linecolor\": \"white\", \"ticks\": \"\"}}, \"title\": {\"x\": 0.05}, \"xaxis\": {\"automargin\": true, \"gridcolor\": \"white\", \"linecolor\": \"white\", \"ticks\": \"\", \"title\": {\"standoff\": 15}, \"zerolinecolor\": \"white\", \"zerolinewidth\": 2}, \"yaxis\": {\"automargin\": true, \"gridcolor\": \"white\", \"linecolor\": \"white\", \"ticks\": \"\", \"title\": {\"standoff\": 15}, \"zerolinecolor\": \"white\", \"zerolinewidth\": 2}}}},                        {\"responsive\": true}                    ).then(function(){\n",
       "                            \n",
       "var gd = document.getElementById('dc8c8926-ea00-4b20-893d-5582987ba1df');\n",
       "var x = new MutationObserver(function (mutations, observer) {{\n",
       "        var display = window.getComputedStyle(gd).display;\n",
       "        if (!display || display === 'none') {{\n",
       "            console.log([gd, 'removed!']);\n",
       "            Plotly.purge(gd);\n",
       "            observer.disconnect();\n",
       "        }}\n",
       "}});\n",
       "\n",
       "// Listen for the removal of the full notebook cells\n",
       "var notebookContainer = gd.closest('#notebook-container');\n",
       "if (notebookContainer) {{\n",
       "    x.observe(notebookContainer, {childList: true});\n",
       "}}\n",
       "\n",
       "// Listen for the clearing of the current output cell\n",
       "var outputEl = gd.closest('.output');\n",
       "if (outputEl) {{\n",
       "    x.observe(outputEl, {childList: true});\n",
       "}}\n",
       "\n",
       "                        })                };                });            </script>        </div>"
      ]
     },
     "metadata": {},
     "output_type": "display_data"
    }
   ],
   "source": [
    "# 3D Scatter Plot\n",
    "\n",
    "fig = px.scatter_3d(clustered_df, x=\"pc1\", y=\"pc2\", z=\"pcs3\",\n",
    "                    color='class', symbol='class', hover_name=\"CoinName\", hover_data=[\"Algorithm\"])\n",
    "\n",
    "fig.update_layout(\n",
    "    legend=dict(\n",
    "        x=0,\n",
    "        y=1))\n",
    "\n",
    "fig.show()"
   ]
  },
  {
   "cell_type": "code",
   "execution_count": 100,
   "metadata": {},
   "outputs": [
    {
     "data": {},
     "metadata": {},
     "output_type": "display_data"
    },
    {
     "data": {
      "application/vnd.holoviews_exec.v0+json": "",
      "text/html": [
       "<div id='3329'>\n",
       "\n",
       "\n",
       "\n",
       "\n",
       "\n",
       "  <div class=\"bk-root\" id=\"92579bd6-3ea5-4ad4-afff-a28ebec9c449\" data-root-id=\"3329\"></div>\n",
       "</div>\n",
       "<script type=\"application/javascript\">(function(root) {\n",
       "  function embed_document(root) {\n",
       "  var docs_json = {\"3e7a5c7b-b200-40e7-bf2b-e3d716cb836e\":{\"roots\":{\"references\":[{\"attributes\":{\"source\":{\"id\":\"3331\"}},\"id\":\"3364\",\"type\":\"CDSView\"},{\"attributes\":{\"editor\":{\"id\":\"3359\"},\"field\":\"class\",\"formatter\":{\"id\":\"3358\"},\"title\":\"class\"},\"id\":\"3360\",\"type\":\"TableColumn\"},{\"attributes\":{\"format\":\"0,0.0[00000]\"},\"id\":\"3353\",\"type\":\"NumberFormatter\"},{\"attributes\":{},\"id\":\"3359\",\"type\":\"IntEditor\"},{\"attributes\":{\"editor\":{\"id\":\"3339\"},\"field\":\"Algorithm\",\"formatter\":{\"id\":\"3338\"},\"title\":\"Algorithm\"},\"id\":\"3340\",\"type\":\"TableColumn\"},{\"attributes\":{\"margin\":[5,5,5,5],\"name\":\"HSpacer07456\",\"sizing_mode\":\"stretch_width\"},\"id\":\"3369\",\"type\":\"Spacer\"},{\"attributes\":{},\"id\":\"3349\",\"type\":\"StringEditor\"},{\"attributes\":{\"children\":[{\"id\":\"3330\"},{\"id\":\"3363\"},{\"id\":\"3369\"}],\"margin\":[0,0,0,0],\"name\":\"Row07451\",\"tags\":[\"embedded\"]},\"id\":\"3329\",\"type\":\"Row\"},{\"attributes\":{\"editor\":{\"id\":\"3334\"},\"field\":\"CoinName\",\"formatter\":{\"id\":\"3333\"},\"title\":\"CoinName\"},\"id\":\"3335\",\"type\":\"TableColumn\"},{\"attributes\":{\"margin\":[5,5,5,5],\"name\":\"HSpacer07455\",\"sizing_mode\":\"stretch_width\"},\"id\":\"3330\",\"type\":\"Spacer\"},{\"attributes\":{},\"id\":\"3366\",\"type\":\"UnionRenderers\"},{\"attributes\":{},\"id\":\"3333\",\"type\":\"StringFormatter\"},{\"attributes\":{},\"id\":\"3334\",\"type\":\"StringEditor\"},{\"attributes\":{\"data\":{\"Algorithm\":[\"Scrypt\",\"Scrypt\",\"X13\",\"SHA-256\",\"Ethash\",\"Scrypt\",\"X11\",\"CryptoNight-V7\",\"Ethash\",\"Equihash\",\"SHA-512\",\"Multiple\",\"SHA-256\",\"SHA-256\",\"Scrypt\",\"X15\",\"X11\",\"Scrypt\",\"Scrypt\",\"Scrypt\",\"Multiple\",\"Scrypt\",\"SHA-256\",\"Scrypt\",\"Scrypt\",\"Scrypt\",\"Quark\",\"Groestl\",\"Scrypt\",\"Scrypt\",\"Scrypt\",\"Scrypt\",\"Scrypt\",\"X11\",\"Scrypt\",\"Groestl\",\"Multiple\",\"SHA-256\",\"Scrypt\",\"Scrypt\",\"Scrypt\",\"Scrypt\",\"PoS\",\"Scrypt\",\"Scrypt\",\"NeoScrypt\",\"Scrypt\",\"Scrypt\",\"Scrypt\",\"Scrypt\",\"X11\",\"Scrypt\",\"X11\",\"SHA-256\",\"Scrypt\",\"Scrypt\",\"Scrypt\",\"SHA3\",\"Scrypt\",\"HybridScryptHash256\",\"Scrypt\",\"Scrypt\",\"SHA-256\",\"Scrypt\",\"X13\",\"Scrypt\",\"SHA-256\",\"Scrypt\",\"X13\",\"NeoScrypt\",\"Scrypt\",\"Scrypt\",\"Scrypt\",\"Scrypt\",\"Scrypt\",\"Scrypt\",\"X11\",\"X11\",\"SHA-256\",\"Multiple\",\"SHA-256\",\"PHI1612\",\"X11\",\"SHA-256\",\"SHA-256\",\"SHA-256\",\"X11\",\"Scrypt\",\"Scrypt\",\"Scrypt\",\"Scrypt\",\"Lyra2REv2\",\"Scrypt\",\"X11\",\"Multiple\",\"SHA-256\",\"X13\",\"Scrypt\",\"CryptoNight\",\"CryptoNight\",\"Shabal256\",\"Counterparty\",\"Scrypt\",\"SHA-256\",\"Groestl\",\"Scrypt\",\"Scrypt\",\"Scrypt\",\"X13\",\"Scrypt\",\"Scrypt\",\"Scrypt\",\"Scrypt\",\"X13\",\"Scrypt\",\"Stanford Folding\",\"X11\",\"Multiple\",\"QuBit\",\"Scrypt\",\"Scrypt\",\"Scrypt\",\"M7 POW\",\"Scrypt\",\"SHA-256\",\"Scrypt\",\"X11\",\"SHA3\",\"X11\",\"Lyra2RE\",\"SHA-256\",\"QUAIT\",\"X11\",\"X11\",\"Scrypt\",\"Scrypt\",\"Scrypt\",\"Ethash\",\"X13\",\"Blake2b\",\"SHA-256\",\"X15\",\"X11\",\"SHA-256\",\"BLAKE256\",\"Scrypt\",\"1GB AES Pattern Search\",\"SHA-256\",\"X11\",\"Scrypt\",\"SHA-256\",\"SHA-256\",\"NIST5\",\"Scrypt\",\"Scrypt\",\"X11\",\"Dagger\",\"Scrypt\",\"X11GOST\",\"X11\",\"Scrypt\",\"SHA-256\",\"Scrypt\",\"PoS\",\"Scrypt\",\"X11\",\"X11\",\"SHA-256\",\"SHA-256\",\"NIST5\",\"X11\",\"Scrypt\",\"POS 3.0\",\"Scrypt\",\"Scrypt\",\"Scrypt\",\"X13\",\"X11\",\"X11\",\"Equihash\",\"X11\",\"Scrypt\",\"CryptoNight\",\"SHA-256\",\"SHA-256\",\"X11\",\"Scrypt\",\"Multiple\",\"Scrypt\",\"Scrypt\",\"Scrypt\",\"SHA-256\",\"Scrypt\",\"Scrypt\",\"SHA-256D\",\"PoS\",\"Scrypt\",\"X11\",\"Lyra2Z\",\"PoS\",\"X13\",\"X14\",\"PoS\",\"SHA-256D\",\"Ethash\",\"Equihash\",\"DPoS\",\"X11\",\"Scrypt\",\"X11\",\"X13\",\"X11\",\"PoS\",\"Scrypt\",\"Scrypt\",\"X11\",\"PoS\",\"X11\",\"SHA-256\",\"Scrypt\",\"X11\",\"Scrypt\",\"Scrypt\",\"X11\",\"CryptoNight\",\"Scrypt\",\"Scrypt\",\"Scrypt\",\"Scrypt\",\"Quark\",\"QuBit\",\"Scrypt\",\"CryptoNight\",\"Lyra2RE\",\"Scrypt\",\"SHA-256\",\"X11\",\"Scrypt\",\"X11\",\"Scrypt\",\"CryptoNight-V7\",\"Scrypt\",\"Scrypt\",\"Scrypt\",\"X13\",\"X11\",\"Equihash\",\"Scrypt\",\"Scrypt\",\"Lyra2RE\",\"Scrypt\",\"Dagger-Hashimoto\",\"X11\",\"Blake2S\",\"X11\",\"Scrypt\",\"PoS\",\"X11\",\"NIST5\",\"PoS\",\"X11\",\"Scrypt\",\"Scrypt\",\"Scrypt\",\"SHA-256\",\"X11\",\"Scrypt\",\"Scrypt\",\"SHA-256\",\"PoS\",\"Scrypt\",\"X15\",\"SHA-256\",\"Scrypt\",\"POS 3.0\",\"CryptoNight-V7\",\"536\",\"Argon2d\",\"Blake2b\",\"Cloverhash\",\"CryptoNight\",\"NIST5\",\"X11\",\"NIST5\",\"Skein\",\"Scrypt\",\"X13\",\"Scrypt\",\"X11\",\"X11\",\"Scrypt\",\"CryptoNight\",\"X13\",\"Time Travel\",\"Scrypt\",\"Keccak\",\"SkunkHash v2 Raptor\",\"X11\",\"Skein\",\"SHA-256\",\"X11\",\"Scrypt\",\"VeChainThor Authority\",\"Scrypt\",\"PoS\",\"Scrypt\",\"Scrypt\",\"Scrypt\",\"Scrypt\",\"Scrypt\",\"Scrypt\",\"Scrypt\",\"CryptoNight\",\"SHA-512\",\"Ouroboros\",\"X11\",\"Equihash\",\"NeoScrypt\",\"X11\",\"Scrypt\",\"NeoScrypt\",\"Lyra2REv2\",\"Equihash\",\"Scrypt\",\"SHA-256\",\"NIST5\",\"PHI1612\",\"Dagger\",\"Scrypt\",\"Quark\",\"Scrypt\",\"POS 2.0\",\"Scrypt\",\"SHA-256\",\"X11\",\"NeoScrypt\",\"Ethash\",\"NeoScrypt\",\"X11\",\"DPoS\",\"NIST5\",\"X13\",\"Multiple\",\"Scrypt\",\"CryptoNight\",\"CryptoNight\",\"Ethash\",\"NIST5\",\"Quark\",\"X11\",\"CryptoNight-V7\",\"Scrypt\",\"Scrypt\",\"Scrypt\",\"X11\",\"BLAKE256\",\"X11\",\"NeoScrypt\",\"Quark\",\"NeoScrypt\",\"Scrypt\",\"Scrypt\",\"Scrypt\",\"X11\",\"X11\",\"SHA-256\",\"C11\",\"POS 3.0\",\"Ethash\",\"Scrypt\",\"CryptoNight\",\"SkunkHash\",\"Scrypt\",\"CryptoNight\",\"Scrypt\",\"Dagger\",\"Lyra2REv2\",\"X13\",\"Proof-of-BibleHash\",\"SHA-256 + Hive\",\"Scrypt\",\"Scrypt\",\"X11\",\"C11\",\"Proof-of-Authority\",\"X11\",\"XEVAN\",\"Scrypt\",\"VBFT\",\"Ethash\",\"CryptoNight\",\"Scrypt\",\"IMesh\",\"NIST5\",\"Scrypt\",\"Scrypt\",\"Equihash\",\"Scrypt\",\"Lyra2Z\",\"Green Protocol\",\"PoS\",\"Scrypt\",\"Semux BFT consensus\",\"X11\",\"Quark\",\"PoS\",\"CryptoNight\",\"X16R\",\"Scrypt\",\"NIST5\",\"Lyra2RE\",\"XEVAN\",\"Tribus\",\"Scrypt\",\"Lyra2Z\",\"CryptoNight\",\"CryptoNight Heavy\",\"CryptoNight\",\"Scrypt\",\"Scrypt\",\"Jump Consistent Hash\",\"SHA-256D\",\"CryptoNight\",\"Scrypt\",\"X15\",\"Scrypt\",\"Quark\",\"SHA-256\",\"DPoS\",\"X16R\",\"HMQ1725\",\"X11\",\"X16R\",\"Quark\",\"Quark\",\"Scrypt\",\"Lyra2REv2\",\"Quark\",\"Scrypt\",\"Scrypt\",\"CryptoNight-V7\",\"Cryptonight-GPU\",\"XEVAN\",\"CryptoNight Heavy\",\"X11\",\"X11\",\"Scrypt\",\"PoS\",\"SHA-256\",\"Keccak\",\"X11\",\"X11\",\"Scrypt\",\"SHA-512\",\"X16R\",\"ECC 256K1\",\"Equihash\",\"XEVAN\",\"Lyra2Z\",\"SHA-256\",\"XEVAN\",\"X11\",\"CryptoNight\",\"Quark\",\"Blake\",\"Blake\",\"Equihash\",\"Exosis\",\"Scrypt\",\"Scrypt\",\"Equihash\",\"Quark\",\"Equihash\",\"Quark\",\"Scrypt\",\"QuBit\",\"X11\",\"Scrypt\",\"XEVAN\",\"SHA-256D\",\"X11\",\"SHA-256\",\"X13\",\"SHA-256\",\"X11\",\"DPoS\",\"Scrypt\",\"Scrypt\",\"X11\",\"NeoScrypt\",\"Scrypt\",\"Blake\",\"Scrypt\",\"SHA-256\",\"Scrypt\",\"X11\",\"Scrypt\",\"Scrypt\",\"SHA-256\",\"X11\",\"SHA-256\",\"Scrypt\",\"Scrypt\",\"Scrypt\",\"Groestl\",\"X11\",\"Scrypt\",\"PoS\",\"Scrypt\",\"Scrypt\",\"X11\",\"SHA-256\",\"DPoS\",\"Scrypt\",\"Scrypt\",\"NeoScrypt\",\"Multiple\",\"X13\",\"Equihash+Scrypt\",\"DPoS\",\"Ethash\",\"DPoS\",\"SHA-256\",\"Leased POS\",\"PoS\",\"TRC10\",\"PoS\",\"SHA-256\",\"Scrypt\",\"CryptoNight\",\"Equihash\",\"Scrypt\"],\"CoinName\":[\"42 Coin\",\"404Coin\",\"EliteCoin\",\"Bitcoin\",\"Ethereum\",\"Litecoin\",\"Dash\",\"Monero\",\"Ethereum Classic\",\"ZCash\",\"Bitshares\",\"DigiByte\",\"BitcoinDark\",\"PayCoin\",\"ProsperCoin\",\"KoboCoin\",\"Spreadcoin\",\"Argentum\",\"Aurora Coin\",\"BlueCoin\",\"MyriadCoin\",\"MoonCoin\",\"ZetaCoin\",\"SexCoin\",\"Quatloo\",\"EnergyCoin\",\"QuarkCoin\",\"Riecoin\",\"Digitalcoin \",\"BitBar\",\"Catcoin\",\"CryptoBullion\",\"CannaCoin\",\"CryptCoin\",\"CasinoCoin\",\"Diamond\",\"Verge\",\"DevCoin\",\"EarthCoin\",\"E-Gulden\",\"Einsteinium\",\"Emerald\",\"Exclusive Coin\",\"FlutterCoin\",\"Franko\",\"FeatherCoin\",\"GrandCoin\",\"GlobalCoin\",\"GoldCoin\",\"HoboNickels\",\"HyperStake\",\"Infinite Coin\",\"IOCoin\",\"IXcoin\",\"KrugerCoin\",\"LuckyCoin\",\"Litebar \",\"MaxCoin\",\"MegaCoin\",\"MediterraneanCoin\",\"MintCoin\",\"MinCoin\",\"MazaCoin\",\"Nautilus Coin\",\"NavCoin\",\"NobleCoin\",\"Namecoin\",\"NyanCoin\",\"OpalCoin\",\"Orbitcoin\",\"PotCoin\",\"PhoenixCoin\",\"Reddcoin\",\"RonPaulCoin\",\"StableCoin\",\"SmartCoin\",\"SuperCoin\",\"SyncCoin\",\"SysCoin\",\"TeslaCoin\",\"TigerCoin\",\"TittieCoin\",\"TorCoin\",\"TerraCoin\",\"UnbreakableCoin\",\"Unobtanium\",\"UroCoin\",\"UnitaryStatus Dollar\",\"UltraCoin\",\"ViaCoin\",\"VeriCoin\",\"Vertcoin\",\"WorldCoin\",\"X11 Coin\",\"Crypti\",\"JouleCoin\",\"StealthCoin\",\"ZCC Coin\",\"ByteCoin\",\"DigitalNote \",\"BurstCoin\",\"StorjCoin\",\"MonaCoin\",\"Neutron\",\"FairCoin\",\"Gulden\",\"RubyCoin\",\"PesetaCoin\",\"Kore\",\"Wild Beast Coin\",\"Dnotes\",\"Flo\",\"8BIT Coin\",\"Sativa Coin\",\"ArtByte\",\"Folding Coin\",\"Ucoin\",\"Unitus\",\"CypherPunkCoin\",\"OmniCron\",\"Vtorrent\",\"GreenCoin\",\"Cryptonite\",\"MasterCoin\",\"SoonCoin\",\"1Credit\",\"IslaCoin\",\"Nexus\",\"MarsCoin \",\"Crypto\",\"Anarchists Prime\",\"Droidz\",\"BowsCoin\",\"Squall Coin\",\"Song Coin\",\"BitZeny\",\"Diggits\",\"Expanse\",\"Paycon\",\"Siacoin\",\"Emercoin\",\"EverGreenCoin\",\"MindCoin\",\"I0coin\",\"Decred\",\"Revolution VR\",\"HOdlcoin\",\"EDRCoin\",\"Hitcoin\",\"Gamecredits\",\"DubaiCoin\",\"CarpeDiemCoin\",\"PWR Coin\",\"BillaryCoin\",\"GPU Coin\",\"Adzcoin\",\"SoilCoin\",\"YoCoin\",\"SibCoin\",\"EuropeCoin\",\"ZeitCoin\",\"SwingCoin\",\"SafeExchangeCoin\",\"Nebuchadnezzar\",\"Francs\",\"BolivarCoin\",\"Ratecoin\",\"Revenu\",\"Clockcoin\",\"VIP Tokens\",\"BitSend\",\"Omni\",\"Let it Ride\",\"PutinCoin\",\"iBankCoin\",\"Frankywillcoin\",\"MudraCoin\",\"PizzaCoin\",\"Lutetium Coin\",\"Komodo\",\"GoldBlocks\",\"CarterCoin\",\"Karbo\",\"BitTokens\",\"ZayedCoin\",\"MustangCoin\",\"ZoneCoin\",\"Circuits of Value\",\"RootCoin\",\"DopeCoin\",\"BitCurrency\",\"DollarCoin\",\"Swiscoin\",\"Shilling\",\"BuzzCoin\",\"Opair\",\"PesoBit\",\"Halloween Coin\",\"ZCoin\",\"CoffeeCoin\",\"RoyalCoin\",\"GanjaCoin V2\",\"TeamUP\",\"LanaCoin\",\"Elementrem\",\"ZClassic\",\"ARK\",\"InsaneCoin\",\"KiloCoin\",\"ArtexCoin\",\"EmberCoin\",\"XenixCoin\",\"FreeCoin\",\"PLNCoin\",\"AquariusCoin\",\"Kurrent\",\"Creatio\",\"Eternity\",\"Eurocoin\",\"BitcoinFast\",\"Stakenet\",\"BitConnect Coin\",\"MoneyCoin\",\"Enigma\",\"Cannabis Industry Coin\",\"Russiacoin\",\"PandaCoin\",\"GameUnits\",\"GAKHcoin\",\"Allsafe\",\"LiteCreed\",\"OsmiumCoin\",\"Bikercoins\",\"HexxCoin\",\"Klingon Empire Darsek\",\"Internet of People\",\"KushCoin\",\"Printerium\",\"PacCoin\",\"Impeach\",\"Citadel\",\"Zilbercoin\",\"FirstCoin\",\"BeaverCoin\",\"FindCoin\",\"VaultCoin\",\"Zero\",\"OpenChat\",\"Canada eCoin\",\"Zoin\",\"RenosCoin\",\"DubaiCoin\",\"VirtacoinPlus\",\"TajCoin\",\"Impact\",\"EB3coin\",\"Atmos\",\"HappyCoin\",\"Coinonat\",\"MacronCoin\",\"Condensate\",\"Independent Money System\",\"ArgusCoin\",\"LomoCoin\",\"ProCurrency\",\"GoldReserve\",\"BenjiRolls\",\"GrowthCoin\",\"ILCoin\",\"Phreak\",\"Degas Coin\",\"HTML5 Coin\",\"Ultimate Secure Cash\",\"EquiTrader\",\"QTUM\",\"Quantum Resistant Ledger\",\"Espers\",\"Dynamic\",\"Nano\",\"ChanCoin\",\"Dinastycoin\",\"Denarius\",\"DigitalPrice\",\"Virta Unique Coin\",\"Bitcoin Planet\",\"Unify\",\"BritCoin\",\"SocialCoin\",\"ArcticCoin\",\"DAS\",\"Linda\",\"LeviarCoin\",\"DeepOnion\",\"Bitcore\",\"gCn Coin\",\"SmartCash\",\"Signatum\",\"Onix\",\"Cream\",\"Bitcoin Cash\",\"Monoeci\",\"Draftcoin\",\"Vechain\",\"Sojourn Coin\",\"Stakecoin\",\"NewYorkCoin\",\"FrazCoin\",\"Kronecoin\",\"AdCoin\",\"Linx\",\"CoinonatX\",\"Ethereum Dark\",\"Sumokoin\",\"Obsidian\",\"Cardano\",\"Regalcoin\",\"BitcoinZ\",\"TrezarCoin\",\"Elements\",\"TerraNovaCoin\",\"VIVO Coin\",\"Rupee\",\"Bitcoin Gold\",\"WomenCoin\",\"Theresa May Coin\",\"NamoCoin\",\"LUXCoin\",\"Pirl\",\"Xios\",\"Bitcloud 2.0\",\"eBoost\",\"KekCoin\",\"BlackholeCoin\",\"Infinity Economics\",\"Pura\",\"Innova\",\"Ellaism\",\"GoByte\",\"Magnet\",\"Lamden Tau\",\"Electra\",\"Bitcoin Diamond\",\"SHIELD\",\"Cash & Back Coin\",\"UltraNote\",\"BitCoal\",\"DaxxCoin\",\"Bulwark\",\"Kalkulus\",\"AC3\",\"Lethean\",\"GermanCoin\",\"LiteCoin Ultra\",\"PopularCoin\",\"PhantomX\",\"Photon\",\"Sucre\",\"SparksPay\",\"Digiwage\",\"GunCoin\",\"IrishCoin\",\"Trollcoin\",\"Litecoin Plus\",\"Monkey Project\",\"Pioneer Coin\",\"UnitedBitcoin\",\"Interzone\",\"TokenPay\",\"1717 Masonic Commemorative Token\",\"My Big Coin\",\"TurtleCoin\",\"MUNcoin\",\"Unified Society USDEX\",\"Niobio Cash\",\"ShareChain\",\"Travelflex\",\"KREDS\",\"Tokyo Coin\",\"BiblePay\",\"LitecoinCash\",\"BitFlip\",\"LottoCoin\",\"Crypto Improvement Fund\",\"Stipend\",\"Poa Network\",\"Pushi\",\"Ellerium\",\"Velox\",\"Ontology\",\"Callisto Network\",\"BitTube\",\"Poseidon\",\"Aidos Kuneen\",\"Bitspace\",\"Briacoin\",\"Ignition\",\"Bitrolium\",\"MedicCoin\",\"Alpenschillling\",\"Bitcoin Green\",\"Deviant Coin\",\"Abjcoin\",\"Semux\",\"FuturoCoin\",\"Carebit\",\"Zealium\",\"Monero Classic\",\"Proton\",\"iDealCash\",\"Jumpcoin\",\"Infinex\",\"Bitcoin Incognito\",\"KEYCO\",\"HollyWoodCoin\",\"GINcoin\",\"PlatinCoin\",\"Loki\",\"Newton Coin\",\"Swisscoin\",\"Xt3ch\",\"MassGrid\",\"TheVig\",\"PluraCoin\",\"EmaratCoin\",\"Dekado\",\"Lynx\",\"Poseidon Quark\",\"BitcoinWSpectrum\",\"Muse\",\"Motion\",\"PlusOneCoin\",\"Axe\",\"Trivechain\",\"Dystem\",\"Giant\",\"Peony Coin\",\"Absolute Coin\",\"Vitae\",\"HexCoin\",\"TPCash\",\"Webchain\",\"Ryo\",\"Urals Coin\",\"Qwertycoin\",\"ARENON\",\"EUNO\",\"MMOCoin\",\"Ketan\",\"Project Pai\",\"XDNA\",\"PAXEX\",\"Azart\",\"ThunderStake\",\"Kcash\",\"Xchange\",\"Acute Angle Cloud\",\"CrypticCoin\",\"Bettex coin\",\"Actinium\",\"Bitcoin SV\",\"BitMoney\",\"Junson Ming Chan Coin\",\"FREDEnergy\",\"HerbCoin\",\"Universal Molecule\",\"Lithium\",\"PirateCash\",\"Exosis\",\"Block-Logic\",\"Oduwa\",\"Beam\",\"Galilel\",\"Bithereum\",\"Crypto Sports\",\"Credit\",\"SLICE\",\"Dash Platinum\",\"Nasdacoin\",\"Beetle Coin\",\"Titan Coin\",\"Award\",\"BLAST\",\"Bitcoin Rhodium\",\"GlobalToken\",\"Insane Coin\",\"ALAX\",\"LiteDoge\",\"SolarCoin\",\"TruckCoin\",\"UFO Coin\",\"OrangeCoin\",\"BlakeCoin\",\"BitstarCoin\",\"NeosCoin\",\"HyperCoin\",\"PinkCoin\",\"Crypto Escudo\",\"AudioCoin\",\"IncaKoin\",\"Piggy Coin\",\"Crown Coin\",\"Genstake\",\"SmileyCoin\",\"XiaoMiCoin\",\"Groestlcoin\",\"CapriCoin\",\" ClubCoin\",\"Radium\",\"Bata\",\"Pakcoin\",\"Creditbit \",\"OKCash\",\"Lisk\",\"HiCoin\",\"WhiteCoin\",\"FriendshipCoin\",\"JoinCoin\",\"Triangles Coin\",\"Vollar\",\"EOS\",\"Reality Clash\",\"Oxycoin\",\"TigerCash\",\"Waves\",\"Particl\",\"BitTorrent\",\"Nxt\",\"ZEPHYR\",\"Gapcoin\",\"Beldex\",\"Horizen\",\"BitcoinPlus\"],\"ProofType\":[\"PoW/PoS\",\"PoW/PoS\",\"PoW/PoS\",\"PoW\",\"PoW\",\"PoW\",\"PoW/PoS\",\"PoW\",\"PoW\",\"PoW\",\"PoS\",\"PoW\",\"PoW/PoS\",\"PoS\",\"PoW\",\"PoW/PoS\",\"PoW\",\"PoW\",\"PoW/PoS\",\"PoW/PoS\",\"PoW\",\"PoW\",\"PoW\",\"PoW\",\"PoW\",\"PoW/PoS\",\"PoW\",\"PoW\",\"PoW\",\"PoW/PoS\",\"PoW\",\"PoW/PoS\",\"PoW\",\"PoW\",\"PoC\",\"PoW/PoS\",\"PoW\",\"PoW\",\"PoW\",\"PoW\",\"PoW\",\"PoW\",\"PoS\",\"PoS/PoW/PoT\",\"PoW\",\"PoW\",\"PoW\",\"PoW\",\"PoW\",\"PoW/PoS\",\"PoS\",\"PoW\",\"PoW/PoS\",\"PoW\",\"PoW\",\"PoW\",\"PoW\",\"PoW/PoS\",\"PoW\",\"PoW\",\"PoS\",\"PoW\",\"PoW/PoS\",\"PoS\",\"PoW/PoS\",\"PoW\",\"PoW\",\"PoW\",\"PoW/PoS\",\"PoW/PoS\",\"PoW/PoS\",\"PoW/PoS\",\"PoW/PoS\",\"PoW\",\"PoW\",\"PoW\",\"PoS\",\"PoW/PoS\",\"PoW\",\"PoS\",\"PoW\",\"PoS\",\"PoW/PoS\",\"PoW\",\"PoW\",\"PoW\",\"PoW\",\"PoW/PoS\",\"PoW/PoS\",\"PoW\",\"PoST\",\"PoW\",\"PoW\",\"PoW/PoS\",\"PoS\",\"PoW\",\"PoW/PoS\",\"PoW/PoS\",\"PoW\",\"PoW\",\"PoC\",\"PoS\",\"PoW\",\"PoW/PoS\",\"PoW/PoS\",\"PoW\",\"PoS\",\"PoW\",\"PoW/PoS\",\"PoW\",\"PoS\",\"PoW\",\"PoW/PoS\",\"PoW/PoS\",\"PoW\",\"PoW\",\"PoS\",\"PoW\",\"PoW\",\"PoW\",\"PoW/PoS\",\"PoW\",\"PoW\",\"PoW\",\"PoW\",\"PoW\",\"PoW/PoS\",\"PoW/nPoS\",\"PoW\",\"PoW\",\"PoW\",\"PoW/PoS\",\"PoW\",\"PoS/PoW\",\"PoW\",\"PoW\",\"PoS\",\"PoW\",\"PoW/PoS\",\"PoW\",\"PoW/PoS\",\"PoW/PoS\",\"PoW\",\"PoW\",\"PoW/PoS\",\"PoW\",\"PoW\",\"PoW/PoS\",\"PoW/PoS\",\"PoW\",\"PoW/PoS\",\"PoW\",\"PoW/PoS\",\"PoW/PoS\",\"PoS\",\"PoW\",\"PoW\",\"PoW\",\"PoW\",\"PoW/PoS\",\"PoS\",\"PoW/PoS\",\"PoC\",\"PoS\",\"PoW\",\"PoW\",\"PoW/PoS\",\"PoW/PoS\",\"PoW/PoS\",\"PoW/PoS\",\"PoW/PoS\",\"PoW\",\"PoS\",\"PoW/PoS\",\"PoW/PoS\",\"PoW/PoS\",\"PoS\",\"PoW\",\"PoS\",\"dPoW/PoW\",\"PoW/PoS\",\"PoW/PoS\",\"PoW\",\"PoW/PoS\",\"PoW\",\"PoW/PoS\",\"PoW/PoS\",\"PoW\",\"PoW/PoS\",\"PoW\",\"PoS\",\"PoW\",\"PoW/PoW\",\"PoW\",\"PoW/PoS\",\"PoS\",\"PoW/PoS\",\"PoW/PoS\",\"PoW\",\"PoS\",\"PoS\",\"PoW/PoS\",\"PoS\",\"PoW/PoS\",\"PoW\",\"PoW\",\"DPoS\",\"PoW/PoS\",\"PoW\",\"PoW\",\"PoW/PoS\",\"PoW/PoS\",\"PoS\",\"PoW/PoS\",\"PoW/PoS\",\"PoW\",\"PoS\",\"PoW/PoS\",\"PoW/PoS\",\"PoW/PoS\",\"TPoS\",\"PoW/PoS\",\"PoW/PoS\",\"PoW/PoS\",\"PoW\",\"PoW/PoS\",\"PoS\",\"PoW/PoS\",\"PoW/PoS\",\"PoS\",\"PoW/PoS\",\"PoW\",\"PoW\",\"PoW\",\"PoW/PoS\",\"PoW/PoS\",\"PoW/PoS\",\"PoW/PoS\",\"PoW\",\"PoW/PoS\",\"PoW\",\"PoS\",\"PoW/PoS \",\"PoW\",\"PoS\",\"PoW\",\"PoW\",\"PoW/PoS\",\"PoW\",\"PoW\",\"PoS\",\"PoW\",\"PoW/PoS\",\"PoW/PoS\",\"PoW/PoS\",\"PoW\",\"PoS\",\"PoW/PoS\",\"PoW\",\"PoS\",\"PoW/PoS\",\"PoW/PoS\",\"PoW/PoS\",\"PoW/PoS\",\"PoS\",\"PoW/PoS\",\"PoW\",\"PoS\",\"PoW\",\"PoS\",\"PoW/PoS\",\"PoW/PoS\",\"PoS\",\"PoW\",\"PoS\",\"PoW\",\"PoW/PoS\",\"PoW\",\"PoW\",\"PoW\",\"PoW\",\"PoW/PoS\",\"PoW\",\"PoW/PoS\",\"PoW/PoS\",\"PoW\",\"PoW/PoS\",\"PoW\",\"PoW\",\"PoW\",\"PoW/PoS\",\"PoW\",\"PoW/PoS\",\"PoW\",\"PoW\",\"PoW\",\"PoS\",\"PoW\",\"PoW/PoS\",\"PoW\",\"PoW/PoS\",\"PoS\",\"Proof of Authority\",\"PoW\",\"PoS\",\"PoW\",\"PoW\",\"PoW\",\"PoW\",\"PoW\",\"PoW/PoS\",\"PoW/PoS\",\"PoW\",\"PoS\",\"PoS\",\"PoW/PoS\",\"PoW\",\"PoW/PoS\",\"PoW\",\"PoW/PoS\",\"PoW\",\"PoS\",\"PoW\",\"PoW/PoS\",\"PoW/PoS\",\"PoW/PoS\",\"PoW/PoS\",\"PoW\",\"PoW/PoS\",\"PoW/PoS\",\"PoW\",\"PoS\",\"PoW/PoS\",\"PoS\",\"PoW\",\"PoW\",\"PoW\",\"PoW\",\"PoW/PoS\",\"DPoS\",\"PoW/PoS\",\"PoW/PoS\",\"PoW\",\"PoW/PoS\",\"PoW\",\"PoW\",\"PoW\",\"PoS\",\"PoS\",\"PoW\",\"PoW\",\"PoW/PoS\",\"PoW/PoS\",\"PoW\",\"PoW/PoS\",\"PoW\",\"PoW\",\"PoW\",\"PoS\",\"PoW\",\"PoW\",\"PoW/PoS\",\"PoW/PoS\",\"PoS\",\"PoW\",\"PoW\",\"PoW\",\"PoS\",\"PoS\",\"PoW and PoS\",\"PoW\",\"PoW\",\"PoW/PoS\",\"PoW\",\"PoW\",\"PoW\",\"PoW\",\"PoS\",\"POBh\",\"PoW + Hive\",\"PoW\",\"PoW\",\"PoW\",\"PoW/PoS\",\"PoA\",\"PoW/PoS\",\"PoW/PoS\",\"PoS\",\"PoS\",\"PoW\",\"PoW\",\"PoW\",\"PoW\",\"PoW/PoS\",\"PoW/PoS\",\"PoW/PoS\",\"PoW\",\"PoS\",\"PoW\",\"PoS\",\"PoS\",\"PoW/PoS\",\"DPoS\",\"PoW\",\"PoW/PoS\",\"PoS\",\"PoW\",\"PoS\",\"PoW/PoS\",\"PoW\",\"PoW\",\"PoS/PoW\",\"PoW\",\"PoS\",\"PoW\",\"PoW\",\"PoW\",\"PoW\",\"PoW/PoS\",\"PoS\",\"PoW\",\"PoW/PoS\",\"PoW\",\"PoW/PoS\",\"PoS\",\"HPoW\",\"PoS\",\"PoS\",\"PoS\",\"PoW\",\"PoW\",\"PoW\",\"PoW/PoS\",\"PoS\",\"PoW/PoS\",\"PoS\",\"PoW/PoS\",\"PoS\",\"PoW\",\"PoW/PoS\",\"PoW\",\"PoW\",\"PoW\",\"PoW\",\"PoS\",\"PoW/PoS\",\"PoS\",\"PoS\",\"PoW\",\"PoW/PoS\",\"PoS\",\"PoW\",\"PoW/PoS\",\"Zero-Knowledge Proof\",\"PoW\",\"DPOS\",\"PoW\",\"PoS\",\"PoW\",\"PoW\",\"Pos\",\"PoS\",\"PoW\",\"PoW/PoS\",\"PoW\",\"PoW\",\"PoS\",\"PoW\",\"PoW\",\"PoW/PoS\",\"PoW\",\"PoW/PoS\",\"PoW\",\"PoS\",\"PoW/PoS\",\"PoW\",\"PoS\",\"PoW/PoS\",\"PoW/PoS\",\"PoW/PoS\",\"PoW/PoS\",\"PoW\",\"PoW\",\"PoW\",\"PoW/PoS\",\"DPoS\",\"PoW/PoS\",\"PoW\",\"PoW/PoS\",\"PoW\",\"PoW/PoS\",\"PoW\",\"PoW/PoS\",\"PoS\",\"PoW/PoS\",\"PoW/PoS\",\"PoW\",\"PoW/PoS\",\"PoW/PoS\",\"PoW/PoS\",\"PoW\",\"PoW/PoS\",\"PoW\",\"PoW/PoS\",\"PoW\",\"PoW/PoS\",\"PoW/PoS\",\"PoS\",\"PoW\",\"PoW\",\"Proof of Trust\",\"PoW/PoS\",\"DPoS\",\"PoS\",\"PoW/PoS\",\"PoW/PoS\",\"PoW\",\"PoW/PoS\",\"PoW\",\"DPoS\",\"PoW\",\"DPoS\",\"PoS\",\"LPoS\",\"PoS\",\"DPoS\",\"PoS/LPoS\",\"DPoS\",\"PoW/PoS\",\"PoW\",\"PoW\",\"PoS\"],\"TotalCoinSupply\":[\"42\",\"532000000\",\"314159265359\",\"21000000\",\"0\",\"84000000\",\"22000000\",\"0\",\"210000000\",\"21000000\",\"3600570502\",\"21000000000\",\"22000000\",\"12500000\",\"21000000\",\"350000000\",\"20000000\",\"64000000\",\"16768584\",\"0\",\"2000000000\",\"384000000000\",\"169795588\",\"250000000\",\"100000000\",\"0\",\"247000000\",\"84000000\",\"48166000\",\"500000\",\"21000000 \",\"1000000\",\"13140000\",\"18000000\",\"40000000000\",\"4380000\",\"16555000000\",\"21000000000\",\"13500000000\",\"21000000 \",\"299792458\",\"32000000\",\"0\",\"0\",\"11235813\",\"336000000\",\"1420609614\",\"70000000\",\"72245700\",\"120000000\",\"0\",\"90600000000\",\"22000000\",\"21000000\",\"265420800\",\"20000000\",\"1350000\",\"100000000\",\"42000000\",\"200000000\",\"0\",\"10000000\",\"2419200000\",\"16180000\",\"0\",\"15000000000\",\"21000000\",\"337000000\",\"0\",\"3770000\",\"420000000\",\"98000000\",\"0\",\"21000000\",\"250000000\",\"51200000\",\"0\",\"1000\",\"888000000\",\"100000000\",\"47011968\",\"2300000000\",\"10000000\",\"42000000\",\"80000000\",\"250000\",\"0\",\"1600000000\",\"100000000\",\"23000000\",\"0\",\"84000000\",\"265420800\",\"5500000\",\"0\",\"45000000\",\"0\",\"1000000000\",\"184467440735\",\"10000000000\",\"2158812800\",\"500000000\",\"105120000\",\"68000000\",\"0\",\"1680000000\",\"0\",\"166386000\",\"12000000\",\"2628000\",\"500000000\",\"160000000\",\"0\",\"10000000\",\"1000000000\",\"1000000000\",\"20000000\",\"0\",\"0\",\"3371337\",\"20000000\",\"10000000000\",\"1840000000\",\"619478\",\"21000000\",\"92000000000\",\"0\",\"78000000\",\"33000000\",\"65789100\",\"53760000\",\"5060000\",\"21000000\",\"0\",\"210240000\",\"250000000\",\"100000000\",\"16906397\",\"50000000\",\"0\",\"1000000000\",\"26298000\",\"16000000\",\"21000000\",\"21000000\",\"210000000\",\"81962100\",\"22000000\",\"26550000000\",\"84000000\",\"10500000\",\"21626280000 \",\"0\",\"42000000\",\"221052632\",\"84000000\",\"30000000\",\"168351300\",\"24000000\",\"384000000\",\" 99000000000\",\"40000000\",\"2147483647\",\"20000000\",\"20000000\",\"25000000\",\"75000000\",\"222725000\",\"525000000\",\"90000000\",\"139000000\",\"616448\",\"33500000\",\"2000000000\",\"44333333\",\"100000000\",\"200000000\",\"25000000\",\"657000000\",\"200000000\",\"50000000\",\"90000000\",\"10000000\",\"21000000\",\"9736000\",\"3000000\",\"21000000\",\"1200000000\",\"0\",\"200000000\",\"0\",\"10638298\",\"3100000000\",\"30000000\",\"20000000000\",\"74000000\",\"0\",\"1500000000\",\"21400000\",\"39999898\",\"2500124\",\"100000000\",\"301000000\",\"7506000000\",\"26205539\",\"21000000\",\"125000000\",\"30000000\",\"10000000000\",\"500000000\",\"850000000\",\"3853326.77707314\",\"50000000\",\"38540000 \",\"42000000\",\"228000000\",\"20000000\",\"60000000\",\"20000000\",\"33000000\",\"76500000\",\"28000000\",\"650659833\",\"5000000\",\"21000000\",\"144000000\",\"32514916898\",\"13000000\",\"3315789\",\"15000000\",\"78835200\",\"2714286\",\"25000000\",\"9999999\",\"500000000\",\"21000000\",\"9354000\",\"20000000\",\"100000000000\",\"21933333\",\"185000000\",\"55000000\",\"110000000\",\"3360000\",\"14524851.4827\",\"1000000000\",\"17000000\",\"1000000000\",\"100000000 \",\"21000000\",\"34426423\",\"2232901\",\"100000000\",\"36900000\",\"110000000\",\"4000000000\",\"110290030\",\"100000000\",\"48252000\",\"400000000\",\"500000000\",\"21212121\",\"28600000\",\"1000000000\",\"75000000000\",\"40000000\",\"35520400\",\"2000000000\",\"2500000000\",\"30000000\",\"105000000\",\"90000000000\",\"200084200\",\"72000000\",\"100000000\",\"105000000\",\"50000000000\",\"0\",\"340282367\",\"30000000\",\"2000000000\",\"10000000\",\"100000000\",\"120000000\",\"100000000\",\"19276800\",\"30000000\",\" 75000000\",\"60000000\",\"18900000\",\"50000000000\",\"54000000\",\"18898187.6216583\",\"21000000\",\"200000000000\",\"5000000000\",\"137500000\",\"1100000000\",\"100000000\",\"21000000\",\"9507271\",\"17405891.19707116\",\"86712634466\",\"10500000000\",\"61599965\",\"0\",\"20000000\",\"84000000\",\"100000000\",\"100000000\",\"48252000\",\"4200000\",\"88888888\",\"91388946\",\"45000000000\",\"27000000\",\"21000000000\",\"400000000\",\"1800000000\",\"15733333\",\"27000000\",\"24000000\",\"21000000\",\"25000000000\",\"100000000\",\"1200000000\",\"60000000\",\"156306732.71\",\"21000000\",\"200000000\",\"100000000\",\"21000000\",\"14788275.991\",\"9000000000\",\"350000000\",\"45000000\",\"280000000\",\"31800000\",\"144000000\",\"500000000\",\"30000000000\",\"210000000\",\"660000000\",\"210000000\",\"85000000000\",\"12500000\",\"10000000000\",\"27716121\",\"20000000\",\"550000000\",\"999481516\",\"50000000000\",\"150000000\",\"4999999999\",\"50000000\",\" 90000000000\",\"19800000\",\"21000000\",\"120000000\",\"500000000\",\"64000000\",\"900000000\",\"4000000\",\"21000000\",\"23000000\",\"20166000\",\"23000000\",\"25000000\",\"1618033\",\"30000000\",\"1000000000000\",\"16600000\",\"232000000\",\"336000000\",\"10000000000\",\"100000000\",\"1100000000\",\"800000000\",\"5200000000\",\"840000000\",\"40000000\",\"18406979840\",\"500000000\",\"19340594\",\"252460800\",\"25000000\",\"60000000\",\"124000000\",\"1000000000\",\"6500000000\",\"1000000000\",\"21000000\",\"25000000\",\"50000000\",\"3000000\",\"5000000\",\"70000000\",\"500000000\",\"300000000\",\"21000000\",\"88000000\",\"30000000\",\"100000000\",\"100000000\",\"200000000\",\"80000000\",\"18400000\",\"45000000\",\"5121951220\",\"21000000\",\"26280000\",\"21000000\",\"18000000\",\"26000000\",\"10500000\",\"600000518\",\"150000000\",\"184000000000\",\"10200000000\",\"44000000\",\"168000000\",\"100000000\",\"1000000000\",\"84000000\",\"90000000\",\"92000000000\",\"650000000 \",\"100262205\",\"18081806 \",\"22075700\",\"21000000\",\"21000000\",\"82546564\",\"21000000\",\"5151000\",\"16880000000\",\"52500000\",\"100000000\",\"22105263\",\"1000000000\",\"1750000000\",\"88188888\",\"210000000\",\"184470000000\",\"55000000\",\"50000000\",\"260000000\",\"210000000\",\"2100000000\",\"366000000\",\"100000000\",\"25000000\",\"18000000000\",\"1000000000\",\"100000000\",\"1000000000\",\"7600000000\",\"50000000\",\"84000000\",\"21000000\",\"70000000000\",\"0\",\"8080000000\",\"54000000\",\"105120001.44\",\"25228800\",\"105000000\",\"21000000\",\"120000000\",\"21000000\",\"262800000\",\"19035999\",\"30886000\",\"13370000\",\"74800000000\",\"100000000\",\"19700000\",\"84000000\",\"500000000\",\"5000000000\",\"420000000\",\"64000000\",\"2100000\",\"168000000\",\"30000000\",\"1000000000\",\"35000000000\",\"98100000000\",\"0\",\"4000000000\",\"200000000\",\"7000000000\",\"54256119\",\"21000000\",\"0\",\"500000000\",\"1000000000\",\"10500000000\",\"190000000\",\"1000000000\",\"42000000\",\"15000000\",\"50000000000\",\"400000000\",\"105000000\",\"208000000\",\"160000000\",\"9000000\",\"5000000\",\"182000000\",\"16504333\",\"105000000\",\"159918400\",\"10008835635\",\"300000000\",\"60168145\",\"2800000\",\"120000\",\"2100000000\",\"0\",\"24487944\",\"0\",\"1000000000\",\"100000000\",\"8634140\",\"990000000000\",\"1000000000\",\"2000000000\",\"250000000\",\"1400222610\",\"21000000\",\"1000000\"],\"TotalCoinsMined\":{\"__ndarray__\":\"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\",\"dtype\":\"float64\",\"order\":\"little\",\"shape\":[532]},\"class\":{\"__ndarray__\":\"AAAAAAAAAAAHAAAAAwAAAAIAAAADAAAAAAAAAAIAAAACAAAAAgAAAAEAAAACAAAAAAAAAAAAAAADAAAAAQAAAAMAAAADAAAAAAAAAAAAAAACAAAACQAAAAMAAAADAAAAAwAAAAAAAAADAAAAAwAAAAMAAAAAAAAAAwAAAAAAAAADAAAAAwAAAAAAAAAAAAAAAgAAAAMAAAADAAAAAwAAAAMAAAADAAAAAQAAAAAAAAADAAAAAgAAAAMAAAADAAAAAwAAAAAAAAAAAAAAAwAAAAAAAAADAAAAAwAAAAMAAAADAAAAAQAAAAMAAAACAAAAAAAAAAMAAAAAAAAAAAAAAAEAAAADAAAAAwAAAAMAAAABAAAAAAAAAAAAAAAAAAAAAAAAAAMAAAADAAAAAwAAAAAAAAAAAAAAAwAAAAAAAAADAAAAAQAAAAAAAAADAAAAAwAAAAMAAAADAAAAAAAAAAAAAAADAAAAAAAAAAMAAAADAAAAAAAAAAAAAAADAAAAAQAAAAAAAAAJAAAAAgAAAAAAAAABAAAAAwAAAAAAAAAAAAAAAwAAAAAAAAADAAAAAQAAAAMAAAAAAAAAAwAAAAAAAAABAAAAAwAAAAIAAAAAAAAAAgAAAAMAAAADAAAAAAAAAAMAAAACAAAAAwAAAAMAAAADAAAAAAAAAAEAAAADAAAAAgAAAAMAAAABAAAAAwAAAAAAAAADAAAAAwAAAAAAAAACAAAAAQAAAAIAAAAAAAAAAQAAAAMAAAADAAAAAAAAAAMAAAACAAAAAAAAAAAAAAADAAAAAAAAAAMAAAABAAAAAAAAAAAAAAADAAAAAgAAAAMAAAACAAAAAAAAAAAAAAAAAAAAAAAAAAEAAAADAAAAAwAAAAAAAAAAAAAAAAAAAAEAAAAAAAAAAwAAAAEAAAAAAAAAAAAAAAAAAAABAAAAAwAAAAAAAAADAAAAAAAAAAAAAAACAAAAAAAAAAMAAAAAAAAAAAAAAAIAAAAAAAAAAwAAAAAAAAADAAAAAAAAAAMAAAABAAAAAQAAAAAAAAAAAAAAAgAAAAEAAAABAAAAAQAAAAEAAAABAAAAAgAAAAIAAAAHAAAAAAAAAAMAAAADAAAAAQAAAAAAAAABAAAAAAAAAAAAAAADAAAAAQAAAAAAAAAAAAAAAAAAAAAAAAAAAAAAAAAAAAAAAAACAAAAAAAAAAAAAAAAAAAAAAAAAAEAAAAAAAAAAwAAAAIAAAACAAAAAAAAAAAAAAAAAAAAAAAAAAMAAAAAAAAAAgAAAAAAAAAAAAAAAwAAAAEAAAADAAAAAgAAAAAAAAADAAAAAgAAAAAAAAACAAAAAAAAAAEAAAAAAAAAAwAAAAEAAAAAAAAAAwAAAAEAAAAAAAAAAAAAAAAAAAAAAAAAAAAAAAAAAAADAAAAAAAAAAMAAAABAAAAAAAAAAEAAAAAAAAAAwAAAAEAAAACAAAAAQAAAAIAAAACAAAAAgAAAAIAAAABAAAAAwAAAAEAAAABAAAAAwAAAAEAAAADAAAAAwAAAAMAAAAAAAAAAgAAAAEAAAACAAAACQAAAAMAAAABAAAAAwAAAAEAAAADAAAAAAAAAAAAAAAGAAAAAwAAAAEAAAADAAAAAwAAAAMAAAADAAAAAwAAAAAAAAAAAAAAAgAAAAEAAAABAAAAAAAAAAIAAAAAAAAAAwAAAAAAAAACAAAAAAAAAAIAAAAAAAAAAAAAAAEAAAABAAAAAgAAAAAAAAABAAAAAwAAAAEAAAAAAAAAAAAAAAMAAAACAAAAAgAAAAIAAAAAAAAABwAAAAEAAAABAAAAAgAAAAAAAAACAAAAAgAAAAIAAAABAAAAAQAAAAMAAAACAAAAAAAAAAAAAAADAAAAAAAAAAMAAAADAAAAAgAAAAEAAAACAAAAAwAAAAAAAAAAAAAAAAAAAAMAAAADAAAAAwAAAAEAAAAAAAAAAAAAAAkAAAACAAAAAAAAAAIAAAADAAAAAgAAAAMAAAABAAAABQAAAAUAAAADAAAAAwAAAAMAAAAAAAAABQAAAAAAAAABAAAAAAAAAAEAAAACAAAAAgAAAAMAAAACAAAAAQAAAAAAAAAAAAAAAgAAAAAAAAACAAAAAQAAAAEAAAAAAAAABwAAAAMAAAABAAAAAQAAAAIAAAAAAAAAAAAAAAMAAAACAAAAAAAAAAIAAAAAAAAAAgAAAAIAAAACAAAACQAAAAAAAAAAAAAAAgAAAAEAAAACAAAAAAAAAAEAAAAHAAAAAQAAAAAAAAABAAAAAwAAAAIAAAADAAAAAAAAAAEAAAABAAAAAAAAAAAAAAABAAAAAwAAAAAAAAACAAAAAgAAAAMAAAAJAAAAAAAAAAAAAAAAAAAAAQAAAAMAAAAAAAAAAAAAAAMAAAAAAAAAAQAAAAMAAAAIAAAAAgAAAAEAAAACAAAAAwAAAAEAAAAAAAAAAgAAAAEAAAACAAAAAgAAAAAAAAACAAAAAwAAAAAAAAACAAAAAQAAAAIAAAABAAAAAAAAAAMAAAAAAAAAAAAAAAEAAAABAAAAAAAAAAMAAAADAAAAAwAAAAAAAAAHAAAAAAAAAAMAAAAAAAAAAgAAAAAAAAACAAAAAAAAAAAAAAAAAAAAAAAAAAMAAAAAAAAAAAAAAAAAAAADAAAAAAAAAAMAAAAAAAAAAwAAAAAAAAAAAAAAAQAAAAMAAAADAAAAAAAAAAAAAAAHAAAAAAAAAAAAAAAAAAAAAgAAAAEAAAACAAAABwAAAAIAAAAHAAAAAAAAAAgAAAABAAAABAAAAAEAAAAHAAAAAAAAAAIAAAACAAAAAAAAAA==\",\"dtype\":\"int32\",\"order\":\"little\",\"shape\":[532]}},\"selected\":{\"id\":\"3332\"},\"selection_policy\":{\"id\":\"3366\"}},\"id\":\"3331\",\"type\":\"ColumnDataSource\"},{\"attributes\":{},\"id\":\"3348\",\"type\":\"StringFormatter\"},{\"attributes\":{},\"id\":\"3354\",\"type\":\"NumberEditor\"},{\"attributes\":{},\"id\":\"3344\",\"type\":\"StringEditor\"},{\"attributes\":{\"editor\":{\"id\":\"3349\"},\"field\":\"TotalCoinSupply\",\"formatter\":{\"id\":\"3348\"},\"title\":\"TotalCoinSupply\"},\"id\":\"3350\",\"type\":\"TableColumn\"},{\"attributes\":{\"editor\":{\"id\":\"3344\"},\"field\":\"ProofType\",\"formatter\":{\"id\":\"3343\"},\"title\":\"ProofType\"},\"id\":\"3345\",\"type\":\"TableColumn\"},{\"attributes\":{},\"id\":\"3358\",\"type\":\"NumberFormatter\"},{\"attributes\":{},\"id\":\"3332\",\"type\":\"Selection\"},{\"attributes\":{\"editor\":{\"id\":\"3354\"},\"field\":\"TotalCoinsMined\",\"formatter\":{\"id\":\"3353\"},\"title\":\"TotalCoinsMined\"},\"id\":\"3355\",\"type\":\"TableColumn\"},{\"attributes\":{},\"id\":\"3338\",\"type\":\"StringFormatter\"},{\"attributes\":{\"columns\":[{\"id\":\"3335\"},{\"id\":\"3340\"},{\"id\":\"3345\"},{\"id\":\"3350\"},{\"id\":\"3355\"},{\"id\":\"3360\"}],\"height\":300,\"reorderable\":false,\"source\":{\"id\":\"3331\"},\"view\":{\"id\":\"3364\"},\"width\":700},\"id\":\"3363\",\"type\":\"DataTable\"},{\"attributes\":{},\"id\":\"3343\",\"type\":\"StringFormatter\"},{\"attributes\":{},\"id\":\"3339\",\"type\":\"StringEditor\"}],\"root_ids\":[\"3329\"]},\"title\":\"Bokeh Application\",\"version\":\"2.1.0\"}};\n",
       "  var render_items = [{\"docid\":\"3e7a5c7b-b200-40e7-bf2b-e3d716cb836e\",\"root_ids\":[\"3329\"],\"roots\":{\"3329\":\"92579bd6-3ea5-4ad4-afff-a28ebec9c449\"}}];\n",
       "  root.Bokeh.embed.embed_items_notebook(docs_json, render_items);\n",
       "  }\n",
       "if (root.Bokeh !== undefined) {\n",
       "    embed_document(root);\n",
       "  } else {\n",
       "    var attempts = 0;\n",
       "    var timer = setInterval(function(root) {\n",
       "      if (root.Bokeh !== undefined) {\n",
       "        clearInterval(timer);\n",
       "        embed_document(root);\n",
       "      } else if (document.readyState == \"complete\") {\n",
       "        attempts++;\n",
       "        if (attempts > 100) {\n",
       "          clearInterval(timer);\n",
       "          console.log(\"Bokeh: ERROR: Unable to run BokehJS code because BokehJS library is missing\");\n",
       "        }\n",
       "      }\n",
       "    }, 10, root)\n",
       "  }\n",
       "})(window);</script>"
      ],
      "text/plain": [
       ":Table   [CoinName,Algorithm,ProofType,TotalCoinSupply,TotalCoinsMined,class]"
      ]
     },
     "execution_count": 100,
     "metadata": {
      "application/vnd.holoviews_exec.v0+json": {
       "id": "3329"
      }
     },
     "output_type": "execute_result"
    }
   ],
   "source": [
    "# Use hvplot.table to create data table with all current tradable cryptocurrencies\n",
    "clustered_df.hvplot.table(columns= ['CoinName', 'Algorithm', 'ProofType', 'TotalCoinSupply', 'TotalCoinsMined', 'class'])"
   ]
  },
  {
   "cell_type": "code",
   "execution_count": 101,
   "metadata": {},
   "outputs": [
    {
     "data": {},
     "metadata": {},
     "output_type": "display_data"
    },
    {
     "data": {
      "application/vnd.holoviews_exec.v0+json": "",
      "text/html": [
       "<div id='3381'>\n",
       "\n",
       "\n",
       "\n",
       "\n",
       "\n",
       "  <div class=\"bk-root\" id=\"43de368f-e7d5-407b-b5c9-c8ec026ab6e4\" data-root-id=\"3381\"></div>\n",
       "</div>\n",
       "<script type=\"application/javascript\">(function(root) {\n",
       "  function embed_document(root) {\n",
       "  var docs_json = {\"3f11e14b-ee12-4ce1-95cc-4bd1d36ee677\":{\"roots\":{\"references\":[{\"attributes\":{\"fill_alpha\":{\"value\":0.2},\"fill_color\":{\"value\":\"#ff7e0e\"},\"line_alpha\":{\"value\":0.2},\"line_color\":{\"value\":\"#ff7e0e\"},\"size\":{\"units\":\"screen\",\"value\":5.477225575051661},\"x\":{\"field\":\"TotalCoinsMined\"},\"y\":{\"field\":\"TotalCoinSupply\"}},\"id\":\"3451\",\"type\":\"Scatter\"},{\"attributes\":{\"data_source\":{\"id\":\"3534\"},\"glyph\":{\"id\":\"3537\"},\"hover_glyph\":null,\"muted_glyph\":{\"id\":\"3539\"},\"nonselection_glyph\":{\"id\":\"3538\"},\"selection_glyph\":null,\"view\":{\"id\":\"3541\"}},\"id\":\"3540\",\"type\":\"GlyphRenderer\"},{\"attributes\":{\"data_source\":{\"id\":\"3509\"},\"glyph\":{\"id\":\"3512\"},\"hover_glyph\":null,\"muted_glyph\":{\"id\":\"3514\"},\"nonselection_glyph\":{\"id\":\"3513\"},\"selection_glyph\":null,\"view\":{\"id\":\"3516\"}},\"id\":\"3515\",\"type\":\"GlyphRenderer\"},{\"attributes\":{\"data_source\":{\"id\":\"3654\"},\"glyph\":{\"id\":\"3657\"},\"hover_glyph\":null,\"muted_glyph\":{\"id\":\"3659\"},\"nonselection_glyph\":{\"id\":\"3658\"},\"selection_glyph\":null,\"view\":{\"id\":\"3661\"}},\"id\":\"3660\",\"type\":\"GlyphRenderer\"},{\"attributes\":{\"data\":{\"CoinName\":[\"BiblePay\",\"LitecoinCash\",\"Poa Network\"],\"TotalCoinSupply\":[\"5200000000\",\"840000000\",\"252460800\"],\"TotalCoinsMined\":{\"__ndarray__\":\"8dd4J/5n2kGWsBp+eAbDQQAAAH40YKhB\",\"dtype\":\"float64\",\"order\":\"little\",\"shape\":[3]},\"class\":[5,5,5]},\"selected\":{\"id\":\"3535\"},\"selection_policy\":{\"id\":\"3559\"}},\"id\":\"3534\",\"type\":\"ColumnDataSource\"},{\"attributes\":{\"source\":{\"id\":\"3654\"}},\"id\":\"3661\",\"type\":\"CDSView\"},{\"attributes\":{\"source\":{\"id\":\"3465\"}},\"id\":\"3472\",\"type\":\"CDSView\"},{\"attributes\":{\"fill_alpha\":{\"value\":0.1},\"fill_color\":{\"value\":\"#7e7e7e\"},\"line_alpha\":{\"value\":0.1},\"line_color\":{\"value\":\"#7e7e7e\"},\"size\":{\"units\":\"screen\",\"value\":5.477225575051661},\"x\":{\"field\":\"TotalCoinsMined\"},\"y\":{\"field\":\"TotalCoinSupply\"}},\"id\":\"3594\",\"type\":\"Scatter\"},{\"attributes\":{\"source\":{\"id\":\"3590\"}},\"id\":\"3597\",\"type\":\"CDSView\"},{\"attributes\":{\"fill_alpha\":{\"value\":0.1},\"fill_color\":{\"value\":\"#bcbc21\"},\"line_alpha\":{\"value\":0.1},\"line_color\":{\"value\":\"#bcbc21\"},\"size\":{\"units\":\"screen\",\"value\":5.477225575051661},\"x\":{\"field\":\"TotalCoinsMined\"},\"y\":{\"field\":\"TotalCoinSupply\"}},\"id\":\"3625\",\"type\":\"Scatter\"},{\"attributes\":{\"label\":{\"value\":\"4\"},\"renderers\":[{\"id\":\"3515\"}]},\"id\":\"3533\",\"type\":\"LegendItem\"},{\"attributes\":{\"fill_alpha\":{\"value\":0.1},\"fill_color\":{\"value\":\"#8c564b\"},\"line_alpha\":{\"value\":0.1},\"line_color\":{\"value\":\"#8c564b\"},\"size\":{\"units\":\"screen\",\"value\":5.477225575051661},\"x\":{\"field\":\"TotalCoinsMined\"},\"y\":{\"field\":\"TotalCoinSupply\"}},\"id\":\"3538\",\"type\":\"Scatter\"},{\"attributes\":{\"fill_color\":{\"value\":\"#8c564b\"},\"line_color\":{\"value\":\"#8c564b\"},\"size\":{\"units\":\"screen\",\"value\":5.477225575051661},\"x\":{\"field\":\"TotalCoinsMined\"},\"y\":{\"field\":\"TotalCoinSupply\"}},\"id\":\"3537\",\"type\":\"Scatter\"},{\"attributes\":{\"label\":{\"value\":\"9\"},\"renderers\":[{\"id\":\"3660\"}]},\"id\":\"3688\",\"type\":\"LegendItem\"},{\"attributes\":{\"data\":{\"CoinName\":[\"MoonCoin\",\"ByteCoin\",\"gCn Coin\",\"TurtleCoin\",\"Newton Coin\",\"Qwertycoin\"],\"TotalCoinSupply\":[\"384000000000\",\"184467440735\",\"200000000000\",\"1000000000000\",\"184000000000\",\"184470000000\"],\"TotalCoinsMined\":{\"__ndarray__\":\"AAAAAAAAVkAAAAd1nm1FQgAATqtr+0JCPYqbEsO+KEIAAKK9sDojQl3NAOrTLTdC\",\"dtype\":\"float64\",\"order\":\"little\",\"shape\":[6]},\"class\":[9,9,9,9,9,9]},\"selected\":{\"id\":\"3655\"},\"selection_policy\":{\"id\":\"3687\"}},\"id\":\"3654\",\"type\":\"ColumnDataSource\"},{\"attributes\":{\"fill_color\":{\"value\":\"#2ba02b\"},\"line_color\":{\"value\":\"#2ba02b\"},\"size\":{\"units\":\"screen\",\"value\":5.477225575051661},\"x\":{\"field\":\"TotalCoinsMined\"},\"y\":{\"field\":\"TotalCoinSupply\"}},\"id\":\"3468\",\"type\":\"Scatter\"},{\"attributes\":{},\"id\":\"3687\",\"type\":\"UnionRenderers\"},{\"attributes\":{\"data\":{\"CoinName\":[\"Ethereum\",\"Monero\",\"Ethereum Classic\",\"ZCash\",\"DigiByte\",\"MyriadCoin\",\"Verge\",\"FeatherCoin\",\"MediterraneanCoin\",\"DigitalNote \",\"Folding Coin\",\"Unitus\",\"Cryptonite\",\"Crypto\",\"Expanse\",\"Siacoin\",\"HOdlcoin\",\"SoilCoin\",\"SibCoin\",\"Karbo\",\"Circuits of Value\",\"ZCoin\",\"Elementrem\",\"ZClassic\",\"Cannabis Industry Coin\",\"Bikercoins\",\"HexxCoin\",\"Citadel\",\"Zero\",\"Zoin\",\"DubaiCoin\",\"Quantum Resistant Ledger\",\"Dynamic\",\"Nano\",\"ChanCoin\",\"Dinastycoin\",\"LeviarCoin\",\"Bitcore\",\"Sumokoin\",\"BitcoinZ\",\"VIVO Coin\",\"Bitcoin Gold\",\"Pirl\",\"Innova\",\"Ellaism\",\"GoByte\",\"SHIELD\",\"UltraNote\",\"BitCoal\",\"DaxxCoin\",\"Lethean\",\"SparksPay\",\"GunCoin\",\"MUNcoin\",\"Niobio Cash\",\"Travelflex\",\"Callisto Network\",\"BitTube\",\"Aidos Kuneen\",\"Bitrolium\",\"Alpenschillling\",\"Monero Classic\",\"Infinex\",\"KEYCO\",\"GINcoin\",\"PlatinCoin\",\"Loki\",\"MassGrid\",\"PluraCoin\",\"PlusOneCoin\",\"Webchain\",\"Ryo\",\"CrypticCoin\",\"Actinium\",\"FREDEnergy\",\"Universal Molecule\",\"Lithium\",\"Exosis\",\"Beam\",\"Bithereum\",\"UFO Coin\",\"BlakeCoin\",\"JoinCoin\",\"Vollar\",\"Reality Clash\",\"Beldex\",\"Horizen\"],\"TotalCoinSupply\":[\"0\",\"0\",\"210000000\",\"21000000\",\"21000000000\",\"2000000000\",\"16555000000\",\"336000000\",\"200000000\",\"10000000000\",\"1000000000\",\"0\",\"1840000000\",\"65789100\",\"16906397\",\"0\",\"81962100\",\"30000000\",\"24000000\",\"10000000\",\"1200000000\",\"21400000\",\"26205539\",\"21000000\",\"21000000\",\"25000000\",\"9999999\",\"185000000\",\"17000000\",\"21000000\",\"2232901\",\"105000000\",\"0\",\"340282367\",\"30000000\",\"2000000000\",\"54000000\",\"21000000\",\"88888888\",\"21000000000\",\"27000000\",\"21000000\",\"156306732.71\",\"45000000\",\"280000000\",\"31800000\",\"660000000\",\"85000000000\",\"12500000\",\"10000000000\",\"999481516\",\"21000000\",\"500000000\",\"16600000\",\"336000000\",\"100000000\",\"6500000000\",\"1000000000\",\"25000000\",\"70000000\",\"300000000\",\"18400000\",\"26280000\",\"18000000\",\"10500000\",\"600000518\",\"150000000\",\"168000000\",\"1000000000\",\"21000000\",\"1750000000\",\"88188888\",\"7600000000\",\"84000000\",\"8080000000\",\"105120001.44\",\"25228800\",\"21000000\",\"262800000\",\"30886000\",\"4000000000\",\"7000000000\",\"2800000\",\"2100000000\",\"24487944\",\"1400222610\",\"21000000\"],\"TotalCoinsMined\":{\"__ndarray__\":\"2/m++oWsmUFmkFFyf2dwQQAAAFztBptBAAAAEAQqXEEAACi86D4FQgAAgMotKNlB/fZoycqrDUIw9QNKE+CoQTMzM4eHR4NBcSCmnaK6+UEAAABPt3DFQQAAALBmDI9BAAAAzHkdxUEAAABAUjZqQQAAAMClBGRBAABIsz/THkIAAACgTtZlQQAAAABowFVBAAAAsK92cEEqh1wuGNddQQAAAABlzc1BUc34T+beXEEAAAAw1v14QQAAAID7aVVBAAAAAMLZLUEAAAAA5NhhQeiBj3GyoDxBBwq80BzsZEEceJZ5bWdaQQAAANjFr3FBAAAAgCIJQUFlCFbDn3WQQaidawoi3nJBAAAApNTEn0GR22qx9Y1xQQAAwMGR9tpBAAAAYPECa0GSmpGSKPpwQQAAAKB7EGFBAz6g3h9q80FRe5nJp8hPQfmEbJHLZ3BBAAAAIM00gEEpXI/C1lFYQQAAAOCxVGhBAAAAuJw/VkHp8JAGoLa8QTj4lfsk9RFCAAAAAIgqUUEAAACELQy/QRKDYLnxTLpBqQRZVX7vXUEAAADBjd6xQSP3U79oYVJBxa8Yz5bun0ElcxxInZaZQQAAAEqIhK1BdXWf684Vk0EAAAAAhNd3QQAAAFQxA5FBg3RsWu0SekEAAAAAvIxuQURRfW02clNBAAAAAG5GKEEEUxPtp6ZaQQAAAADAlPRAAAAAAC5EckGDbRQgMTKgQSXLM+AdscBBOFBexWN9YEHXRuHphLdtQQAAAEBEqFJBAAAAitWN70EAAABApAFqQZAsUsY/0ttBk7g7UCkVOEHH3fEnqDluQTMzM7MvyRhBAAAAAGMEgUEAAAA4VPx3QQAAgPoBf+xBSAVkYldGdkEAAABAnW1JQQAAAACE15dB+HqIgYBad0EAAIBBgTbNQQAAAGCG1VtB\",\"dtype\":\"float64\",\"order\":\"little\",\"shape\":[87]},\"class\":[2,2,2,2,2,2,2,2,2,2,2,2,2,2,2,2,2,2,2,2,2,2,2,2,2,2,2,2,2,2,2,2,2,2,2,2,2,2,2,2,2,2,2,2,2,2,2,2,2,2,2,2,2,2,2,2,2,2,2,2,2,2,2,2,2,2,2,2,2,2,2,2,2,2,2,2,2,2,2,2,2,2,2,2,2,2,2]},\"selected\":{\"id\":\"3466\"},\"selection_policy\":{\"id\":\"3484\"}},\"id\":\"3465\",\"type\":\"ColumnDataSource\"},{\"attributes\":{},\"id\":\"3463\",\"type\":\"UnionRenderers\"},{\"attributes\":{\"label\":{\"value\":\"2\"},\"renderers\":[{\"id\":\"3471\"}]},\"id\":\"3485\",\"type\":\"LegendItem\"},{\"attributes\":{\"label\":{\"value\":\"8\"},\"renderers\":[{\"id\":\"3627\"}]},\"id\":\"3653\",\"type\":\"LegendItem\"},{\"attributes\":{\"data\":{\"CoinName\":[\"42 Coin\",\"404Coin\",\"Dash\",\"BitcoinDark\",\"PayCoin\",\"Aurora Coin\",\"BlueCoin\",\"EnergyCoin\",\"BitBar\",\"CryptoBullion\",\"CasinoCoin\",\"Diamond\",\"FlutterCoin\",\"HoboNickels\",\"HyperStake\",\"IOCoin\",\"MintCoin\",\"MazaCoin\",\"Nautilus Coin\",\"Orbitcoin\",\"PotCoin\",\"PhoenixCoin\",\"Reddcoin\",\"SuperCoin\",\"SyncCoin\",\"TeslaCoin\",\"TorCoin\",\"UnitaryStatus Dollar\",\"UltraCoin\",\"VeriCoin\",\"X11 Coin\",\"Crypti\",\"ZCC Coin\",\"BurstCoin\",\"Neutron\",\"FairCoin\",\"RubyCoin\",\"Dnotes\",\"8BIT Coin\",\"Ucoin\",\"Vtorrent\",\"IslaCoin\",\"Squall Coin\",\"Diggits\",\"Emercoin\",\"Decred\",\"EDRCoin\",\"Hitcoin\",\"DubaiCoin\",\"BillaryCoin\",\"GPU Coin\",\"EuropeCoin\",\"ZeitCoin\",\"SwingCoin\",\"SafeExchangeCoin\",\"Ratecoin\",\"Revenu\",\"Clockcoin\",\"BitSend\",\"PutinCoin\",\"iBankCoin\",\"Frankywillcoin\",\"Lutetium Coin\",\"GoldBlocks\",\"CarterCoin\",\"BitTokens\",\"MustangCoin\",\"ZoneCoin\",\"RootCoin\",\"BitCurrency\",\"Swiscoin\",\"PesoBit\",\"Halloween Coin\",\"InsaneCoin\",\"XenixCoin\",\"PLNCoin\",\"AquariusCoin\",\"Eternity\",\"Eurocoin\",\"BitcoinFast\",\"Stakenet\",\"BitConnect Coin\",\"MoneyCoin\",\"Enigma\",\"Russiacoin\",\"PandaCoin\",\"GameUnits\",\"GAKHcoin\",\"LiteCreed\",\"Klingon Empire Darsek\",\"Internet of People\",\"KushCoin\",\"Printerium\",\"Impeach\",\"Zilbercoin\",\"FirstCoin\",\"OpenChat\",\"RenosCoin\",\"VirtacoinPlus\",\"Impact\",\"HappyCoin\",\"Condensate\",\"Independent Money System\",\"ArgusCoin\",\"LomoCoin\",\"ProCurrency\",\"GoldReserve\",\"GrowthCoin\",\"Degas Coin\",\"Ultimate Secure Cash\",\"Linda\",\"Monoeci\",\"Draftcoin\",\"CoinonatX\",\"Ethereum Dark\",\"Regalcoin\",\"TrezarCoin\",\"TerraNovaCoin\",\"Rupee\",\"WomenCoin\",\"Theresa May Coin\",\"Xios\",\"BlackholeCoin\",\"Infinity Economics\",\"Magnet\",\"Cash & Back Coin\",\"GermanCoin\",\"LiteCoin Ultra\",\"PhantomX\",\"Trollcoin\",\"Litecoin Plus\",\"Monkey Project\",\"1717 Masonic Commemorative Token\",\"My Big Coin\",\"Unified Society USDEX\",\"Stipend\",\"Pushi\",\"Velox\",\"Briacoin\",\"Ignition\",\"MedicCoin\",\"Abjcoin\",\"Proton\",\"iDealCash\",\"Bitcoin Incognito\",\"HollyWoodCoin\",\"Swisscoin\",\"Xt3ch\",\"EmaratCoin\",\"BitcoinWSpectrum\",\"Trivechain\",\"Peony Coin\",\"Absolute Coin\",\"TPCash\",\"ARENON\",\"EUNO\",\"MMOCoin\",\"XDNA\",\"PAXEX\",\"ThunderStake\",\"Junson Ming Chan Coin\",\"PirateCash\",\"Oduwa\",\"Credit\",\"Dash Platinum\",\"Nasdacoin\",\"Award\",\"Insane Coin\",\"LiteDoge\",\"TruckCoin\",\"OrangeCoin\",\"BitstarCoin\",\"NeosCoin\",\"HyperCoin\",\"PinkCoin\",\"AudioCoin\",\"IncaKoin\",\"Piggy Coin\",\"Genstake\",\"XiaoMiCoin\",\"CapriCoin\",\" ClubCoin\",\"Creditbit \",\"OKCash\",\"HiCoin\",\"WhiteCoin\",\"FriendshipCoin\",\"TigerCash\",\"Gapcoin\",\"BitcoinPlus\"],\"TotalCoinSupply\":[\"42\",\"532000000\",\"22000000\",\"22000000\",\"12500000\",\"16768584\",\"0\",\"0\",\"500000\",\"1000000\",\"40000000000\",\"4380000\",\"0\",\"120000000\",\"0\",\"22000000\",\"0\",\"2419200000\",\"16180000\",\"3770000\",\"420000000\",\"98000000\",\"0\",\"0\",\"1000\",\"100000000\",\"10000000\",\"1600000000\",\"100000000\",\"0\",\"5500000\",\"0\",\"1000000000\",\"2158812800\",\"68000000\",\"0\",\"0\",\"500000000\",\"0\",\"20000000\",\"20000000\",\"0\",\"0\",\"100000000\",\"1000000000\",\"21000000\",\"22000000\",\"26550000000\",\"10500000\",\"42000000\",\"221052632\",\"384000000\",\" 99000000000\",\"40000000\",\"2147483647\",\"75000000\",\"222725000\",\"525000000\",\"139000000\",\"2000000000\",\"44333333\",\"100000000\",\"657000000\",\"50000000\",\"90000000\",\"21000000\",\"3000000\",\"21000000\",\"0\",\"0\",\"3100000000\",\"0\",\"1500000000\",\"30000000\",\"3853326.77707314\",\"38540000 \",\"42000000\",\"60000000\",\"20000000\",\"33000000\",\"76500000\",\"28000000\",\"650659833\",\"5000000\",\"144000000\",\"32514916898\",\"13000000\",\"3315789\",\"78835200\",\"500000000\",\"21000000\",\"9354000\",\"20000000\",\"21933333\",\"55000000\",\"110000000\",\"1000000000\",\"34426423\",\"100000000\",\"110000000\",\"100000000\",\"500000000\",\"21212121\",\"28600000\",\"1000000000\",\"75000000000\",\"40000000\",\"2000000000\",\"105000000\",\"200084200\",\"50000000000\",\"9507271\",\"17405891.19707116\",\"48252000\",\"4200000\",\"27000000\",\"400000000\",\"15733333\",\"24000000\",\"25000000000\",\"100000000\",\"21000000\",\"14788275.991\",\"9000000000\",\"144000000\",\"210000000\",\"50000000000\",\"150000000\",\"50000000\",\"900000000\",\"4000000\",\"21000000\",\"1618033\",\"30000000\",\"232000000\",\"19340594\",\"25000000\",\"124000000\",\"3000000\",\"5000000\",\"500000000\",\"30000000\",\"45000000\",\"5121951220\",\"21000000\",\"26000000\",\"10200000000\",\"44000000\",\"84000000\",\"100262205\",\"82546564\",\"16880000000\",\"52500000\",\"1000000000\",\"55000000\",\"50000000\",\"260000000\",\"366000000\",\"100000000\",\"18000000000\",\"0\",\"105000000\",\"21000000\",\"74800000000\",\"19700000\",\"84000000\",\"420000000\",\"30000000\",\"35000000000\",\"0\",\"200000000\",\"54256119\",\"21000000\",\"0\",\"500000000\",\"10500000000\",\"190000000\",\"1000000000\",\"15000000\",\"400000000\",\"208000000\",\"160000000\",\"16504333\",\"105000000\",\"10008835635\",\"300000000\",\"60168145\",\"1000000000\",\"250000000\",\"1000000\"],\"TotalCoinsMined\":{\"__ndarray__\":\"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\",\"dtype\":\"float64\",\"order\":\"little\",\"shape\":[190]},\"class\":[0,0,0,0,0,0,0,0,0,0,0,0,0,0,0,0,0,0,0,0,0,0,0,0,0,0,0,0,0,0,0,0,0,0,0,0,0,0,0,0,0,0,0,0,0,0,0,0,0,0,0,0,0,0,0,0,0,0,0,0,0,0,0,0,0,0,0,0,0,0,0,0,0,0,0,0,0,0,0,0,0,0,0,0,0,0,0,0,0,0,0,0,0,0,0,0,0,0,0,0,0,0,0,0,0,0,0,0,0,0,0,0,0,0,0,0,0,0,0,0,0,0,0,0,0,0,0,0,0,0,0,0,0,0,0,0,0,0,0,0,0,0,0,0,0,0,0,0,0,0,0,0,0,0,0,0,0,0,0,0,0,0,0,0,0,0,0,0,0,0,0,0,0,0,0,0,0,0,0,0,0,0,0,0,0,0,0,0,0,0]},\"selected\":{\"id\":\"3429\"},\"selection_policy\":{\"id\":\"3443\"}},\"id\":\"3428\",\"type\":\"ColumnDataSource\"},{\"attributes\":{},\"id\":\"3535\",\"type\":\"Selection\"},{\"attributes\":{\"fill_alpha\":{\"value\":0.1},\"fill_color\":{\"value\":\"#16bdcf\"},\"line_alpha\":{\"value\":0.1},\"line_color\":{\"value\":\"#16bdcf\"},\"size\":{\"units\":\"screen\",\"value\":5.477225575051661},\"x\":{\"field\":\"TotalCoinsMined\"},\"y\":{\"field\":\"TotalCoinSupply\"}},\"id\":\"3658\",\"type\":\"Scatter\"},{\"attributes\":{\"data_source\":{\"id\":\"3621\"},\"glyph\":{\"id\":\"3624\"},\"hover_glyph\":null,\"muted_glyph\":{\"id\":\"3626\"},\"nonselection_glyph\":{\"id\":\"3625\"},\"selection_glyph\":null,\"view\":{\"id\":\"3628\"}},\"id\":\"3627\",\"type\":\"GlyphRenderer\"},{\"attributes\":{\"children\":[{\"id\":\"3382\"},{\"id\":\"3395\"},{\"id\":\"3923\"}],\"margin\":[0,0,0,0],\"name\":\"Row07761\",\"tags\":[\"embedded\"]},\"id\":\"3381\",\"type\":\"Row\"},{\"attributes\":{\"fill_alpha\":{\"value\":0.2},\"fill_color\":{\"value\":\"#2ba02b\"},\"line_alpha\":{\"value\":0.2},\"line_color\":{\"value\":\"#2ba02b\"},\"size\":{\"units\":\"screen\",\"value\":5.477225575051661},\"x\":{\"field\":\"TotalCoinsMined\"},\"y\":{\"field\":\"TotalCoinSupply\"}},\"id\":\"3470\",\"type\":\"Scatter\"},{\"attributes\":{\"label\":{\"value\":\"7\"},\"renderers\":[{\"id\":\"3596\"}]},\"id\":\"3620\",\"type\":\"LegendItem\"},{\"attributes\":{\"fill_alpha\":{\"value\":0.1},\"fill_color\":{\"value\":\"#ff7e0e\"},\"line_alpha\":{\"value\":0.1},\"line_color\":{\"value\":\"#ff7e0e\"},\"size\":{\"units\":\"screen\",\"value\":5.477225575051661},\"x\":{\"field\":\"TotalCoinsMined\"},\"y\":{\"field\":\"TotalCoinSupply\"}},\"id\":\"3450\",\"type\":\"Scatter\"},{\"attributes\":{},\"id\":\"3484\",\"type\":\"UnionRenderers\"},{\"attributes\":{},\"id\":\"3619\",\"type\":\"UnionRenderers\"},{\"attributes\":{\"end\":1032416801156.6912,\"reset_end\":1032416801156.6912,\"reset_start\":-42428087675.042145,\"start\":-42428087675.042145,\"tags\":[[[\"TotalCoinsMined\",\"TotalCoinsMined\",null]]]},\"id\":\"3383\",\"type\":\"Range1d\"},{\"attributes\":{\"fill_color\":{\"value\":\"#d62628\"},\"line_color\":{\"value\":\"#d62628\"},\"size\":{\"units\":\"screen\",\"value\":5.477225575051661},\"x\":{\"field\":\"TotalCoinsMined\"},\"y\":{\"field\":\"TotalCoinSupply\"}},\"id\":\"3489\",\"type\":\"Scatter\"},{\"attributes\":{\"fill_alpha\":{\"value\":0.1},\"fill_color\":{\"value\":\"#9367bc\"},\"line_alpha\":{\"value\":0.1},\"line_color\":{\"value\":\"#9367bc\"},\"size\":{\"units\":\"screen\",\"value\":5.477225575051661},\"x\":{\"field\":\"TotalCoinsMined\"},\"y\":{\"field\":\"TotalCoinSupply\"}},\"id\":\"3513\",\"type\":\"Scatter\"},{\"attributes\":{\"margin\":[5,5,5,5],\"name\":\"HSpacer07765\",\"sizing_mode\":\"stretch_width\"},\"id\":\"3382\",\"type\":\"Spacer\"},{\"attributes\":{},\"id\":\"3413\",\"type\":\"WheelZoomTool\"},{\"attributes\":{},\"id\":\"3562\",\"type\":\"Selection\"},{\"attributes\":{\"data\":{\"CoinName\":[\"EliteCoin\",\"ARK\",\"Lamden Tau\",\"Semux\",\"Lynx\",\"ALAX\",\"Lisk\",\"EOS\",\"Oxycoin\",\"ZEPHYR\"],\"TotalCoinSupply\":[\"314159265359\",\"125000000\",\"500000000\",\"100000000\",\"92000000000\",\"1000000000\",\"159918400\",\"0\",\"0\",\"2000000000\"],\"TotalCoinsMined\":{\"__ndarray__\":\"xAK6QcJEG0IAAACQIcyZQWFvfsfpK7FBAAAAACvJMkFZ5otViSEyQgAAAABlzc1BAAAAsPWcnEHZPYkFI2rOQRSu13KMudBB847T/mTN3UE=\",\"dtype\":\"float64\",\"order\":\"little\",\"shape\":[10]},\"class\":[7,7,7,7,7,7,7,7,7,7]},\"selected\":{\"id\":\"3591\"},\"selection_policy\":{\"id\":\"3619\"}},\"id\":\"3590\",\"type\":\"ColumnDataSource\"},{\"attributes\":{\"text\":\"\",\"text_color\":{\"value\":\"black\"},\"text_font_size\":{\"value\":\"12pt\"}},\"id\":\"3396\",\"type\":\"Title\"},{\"attributes\":{\"source\":{\"id\":\"3534\"}},\"id\":\"3541\",\"type\":\"CDSView\"},{\"attributes\":{\"source\":{\"id\":\"3486\"}},\"id\":\"3493\",\"type\":\"CDSView\"},{\"attributes\":{\"source\":{\"id\":\"3509\"}},\"id\":\"3516\",\"type\":\"CDSView\"},{\"attributes\":{\"source\":{\"id\":\"3621\"}},\"id\":\"3628\",\"type\":\"CDSView\"},{\"attributes\":{\"fill_color\":{\"value\":\"#9367bc\"},\"line_color\":{\"value\":\"#9367bc\"},\"size\":{\"units\":\"screen\",\"value\":5.477225575051661},\"x\":{\"field\":\"TotalCoinsMined\"},\"y\":{\"field\":\"TotalCoinSupply\"}},\"id\":\"3512\",\"type\":\"Scatter\"},{\"attributes\":{},\"id\":\"3591\",\"type\":\"Selection\"},{\"attributes\":{\"fill_alpha\":{\"value\":0.2},\"fill_color\":{\"value\":\"#e277c1\"},\"line_alpha\":{\"value\":0.2},\"line_color\":{\"value\":\"#e277c1\"},\"size\":{\"units\":\"screen\",\"value\":5.477225575051661},\"x\":{\"field\":\"TotalCoinsMined\"},\"y\":{\"field\":\"TotalCoinSupply\"}},\"id\":\"3566\",\"type\":\"Scatter\"},{\"attributes\":{},\"id\":\"3427\",\"type\":\"CategoricalTickFormatter\"},{\"attributes\":{\"source\":{\"id\":\"3561\"}},\"id\":\"3568\",\"type\":\"CDSView\"},{\"attributes\":{\"axis\":{\"id\":\"3404\"},\"grid_line_color\":null,\"ticker\":null},\"id\":\"3407\",\"type\":\"Grid\"},{\"attributes\":{},\"id\":\"3588\",\"type\":\"UnionRenderers\"},{\"attributes\":{},\"id\":\"3415\",\"type\":\"ResetTool\"},{\"attributes\":{},\"id\":\"3466\",\"type\":\"Selection\"},{\"attributes\":{\"data\":{\"CoinName\":[\"Acute Angle Cloud\",\"Waves\"],\"TotalCoinSupply\":[\"1000000000\",\"100000000\"],\"TotalCoinsMined\":{\"__ndarray__\":\"AAAAAGXNzUEAAAAAhNeXQQ==\",\"dtype\":\"float64\",\"order\":\"little\",\"shape\":[2]},\"class\":[8,8]},\"selected\":{\"id\":\"3622\"},\"selection_policy\":{\"id\":\"3652\"}},\"id\":\"3621\",\"type\":\"ColumnDataSource\"},{\"attributes\":{},\"id\":\"3425\",\"type\":\"BasicTickFormatter\"},{\"attributes\":{},\"id\":\"3429\",\"type\":\"Selection\"},{\"attributes\":{\"fill_alpha\":{\"value\":0.1},\"fill_color\":{\"value\":\"#2ba02b\"},\"line_alpha\":{\"value\":0.1},\"line_color\":{\"value\":\"#2ba02b\"},\"size\":{\"units\":\"screen\",\"value\":5.477225575051661},\"x\":{\"field\":\"TotalCoinsMined\"},\"y\":{\"field\":\"TotalCoinSupply\"}},\"id\":\"3469\",\"type\":\"Scatter\"},{\"attributes\":{},\"id\":\"3412\",\"type\":\"PanTool\"},{\"attributes\":{\"fill_alpha\":{\"value\":0.1},\"fill_color\":{\"value\":\"#d62628\"},\"line_alpha\":{\"value\":0.1},\"line_color\":{\"value\":\"#d62628\"},\"size\":{\"units\":\"screen\",\"value\":5.477225575051661},\"x\":{\"field\":\"TotalCoinsMined\"},\"y\":{\"field\":\"TotalCoinSupply\"}},\"id\":\"3490\",\"type\":\"Scatter\"},{\"attributes\":{\"fill_alpha\":{\"value\":0.2},\"fill_color\":{\"value\":\"#d62628\"},\"line_alpha\":{\"value\":0.2},\"line_color\":{\"value\":\"#d62628\"},\"size\":{\"units\":\"screen\",\"value\":5.477225575051661},\"x\":{\"field\":\"TotalCoinsMined\"},\"y\":{\"field\":\"TotalCoinSupply\"}},\"id\":\"3491\",\"type\":\"Scatter\"},{\"attributes\":{\"fill_color\":{\"value\":\"#e277c1\"},\"line_color\":{\"value\":\"#e277c1\"},\"size\":{\"units\":\"screen\",\"value\":5.477225575051661},\"x\":{\"field\":\"TotalCoinsMined\"},\"y\":{\"field\":\"TotalCoinSupply\"}},\"id\":\"3564\",\"type\":\"Scatter\"},{\"attributes\":{},\"id\":\"3400\",\"type\":\"LinearScale\"},{\"attributes\":{\"align\":null,\"below\":[{\"id\":\"3404\"}],\"center\":[{\"id\":\"3407\"},{\"id\":\"3410\"}],\"left\":[{\"id\":\"3408\"}],\"margin\":null,\"min_border_bottom\":10,\"min_border_left\":10,\"min_border_right\":10,\"min_border_top\":10,\"plot_height\":300,\"plot_width\":700,\"renderers\":[{\"id\":\"3434\"},{\"id\":\"3452\"},{\"id\":\"3471\"},{\"id\":\"3492\"},{\"id\":\"3515\"},{\"id\":\"3540\"},{\"id\":\"3567\"},{\"id\":\"3596\"},{\"id\":\"3627\"},{\"id\":\"3660\"}],\"right\":[{\"id\":\"3444\"}],\"sizing_mode\":\"fixed\",\"title\":{\"id\":\"3396\"},\"toolbar\":{\"id\":\"3417\"},\"x_range\":{\"id\":\"3383\"},\"x_scale\":{\"id\":\"3400\"},\"y_range\":{\"id\":\"3384\"},\"y_scale\":{\"id\":\"3402\"}},\"id\":\"3395\",\"subtype\":\"Figure\",\"type\":\"Plot\"},{\"attributes\":{\"active_drag\":\"auto\",\"active_inspect\":\"auto\",\"active_multi\":null,\"active_scroll\":\"auto\",\"active_tap\":\"auto\",\"tools\":[{\"id\":\"3385\"},{\"id\":\"3411\"},{\"id\":\"3412\"},{\"id\":\"3413\"},{\"id\":\"3414\"},{\"id\":\"3415\"}]},\"id\":\"3417\",\"type\":\"Toolbar\"},{\"attributes\":{\"data\":{\"CoinName\":[\"BitTorrent\"],\"TotalCoinSupply\":[\"990000000000\"],\"TotalCoinsMined\":{\"__ndarray__\":\"xfR7nv3PbEI=\",\"dtype\":\"float64\",\"order\":\"little\",\"shape\":[1]},\"class\":[4]},\"selected\":{\"id\":\"3510\"},\"selection_policy\":{\"id\":\"3532\"}},\"id\":\"3509\",\"type\":\"ColumnDataSource\"},{\"attributes\":{\"label\":{\"value\":\"1\"},\"renderers\":[{\"id\":\"3452\"}]},\"id\":\"3464\",\"type\":\"LegendItem\"},{\"attributes\":{\"data\":{\"CoinName\":[\"Bitshares\",\"KoboCoin\",\"Exclusive Coin\",\"MaxCoin\",\"NavCoin\",\"OpalCoin\",\"TittieCoin\",\"StealthCoin\",\"StorjCoin\",\"Kore\",\"Sativa Coin\",\"Nexus\",\"Droidz\",\"Paycon\",\"EverGreenCoin\",\"PWR Coin\",\"Nebuchadnezzar\",\"VIP Tokens\",\"Let it Ride\",\"MudraCoin\",\"BuzzCoin\",\"Opair\",\"CoffeeCoin\",\"RoyalCoin\",\"GanjaCoin V2\",\"TeamUP\",\"LanaCoin\",\"EmberCoin\",\"FreeCoin\",\"Creatio\",\"Allsafe\",\"FindCoin\",\"TajCoin\",\"Atmos\",\"MacronCoin\",\"Phreak\",\"HTML5 Coin\",\"QTUM\",\"Espers\",\"Denarius\",\"Virta Unique Coin\",\"Bitcoin Planet\",\"BritCoin\",\"DeepOnion\",\"Signatum\",\"Cream\",\"Stakecoin\",\"Obsidian\",\"Cardano\",\"NamoCoin\",\"LUXCoin\",\"Bitcloud 2.0\",\"KekCoin\",\"Electra\",\"Bitcoin Diamond\",\"Bulwark\",\"Kalkulus\",\"Digiwage\",\"TokenPay\",\"Tokyo Coin\",\"Ellerium\",\"Ontology\",\"Bitspace\",\"Bitcoin Green\",\"Deviant Coin\",\"Carebit\",\"Zealium\",\"TheVig\",\"Dekado\",\"Poseidon Quark\",\"Muse\",\"Dystem\",\"Giant\",\"Vitae\",\"Ketan\",\"Kcash\",\"Bettex coin\",\"BitMoney\",\"HerbCoin\",\"Galilel\",\"Crypto Sports\",\"Beetle Coin\",\"Titan Coin\",\"Radium\",\"Triangles Coin\",\"Particl\",\"Nxt\"],\"TotalCoinSupply\":[\"3600570502\",\"350000000\",\"0\",\"100000000\",\"0\",\"0\",\"2300000000\",\"0\",\"500000000\",\"12000000\",\"10000000\",\"78000000\",\"5060000\",\"50000000\",\"26298000\",\"0\",\"20000000\",\"90000000\",\"33500000\",\"200000000\",\"20000000000\",\"74000000\",\"39999898\",\"2500124\",\"100000000\",\"301000000\",\"7506000000\",\"850000000\",\"50000000\",\"20000000\",\"15000000\",\"14524851.4827\",\"36900000\",\"110290030\",\"400000000\",\"30000000\",\"90000000000\",\"100000000\",\"50000000000\",\"10000000\",\"120000000\",\"100000000\",\"30000000\",\"18898187.6216583\",\"137500000\",\"100000000\",\"61599965\",\"91388946\",\"45000000000\",\"1200000000\",\"60000000\",\"200000000\",\"21000000\",\"30000000000\",\"210000000\",\"27716121\",\"20000000\",\"120000000\",\"25000000\",\"800000000\",\"60000000\",\"1000000000\",\"50000000\",\"21000000\",\"88000000\",\"200000000\",\"80000000\",\"100000000\",\"90000000\",\"650000000 \",\"18081806 \",\"21000000\",\"5151000\",\"100000000\",\"210000000\",\"1000000000\",\"50000000\",\"70000000000\",\"54000000\",\"19035999\",\"13370000\",\"500000000\",\"5000000000\",\"9000000\",\"120000\",\"8634140\",\"1000000000\"],\"TotalCoinsMined\":{\"__ndarray__\":\"AAAAOiFt5EG7M2l5+Ft4QQAAAECWqlVBAAAAaLVMjUFGZKnBRYOPQWC5lIqR6GxBsaedNq8s2EGG/JjWhY9/QQAAAMC4ZohBm6kQ40DcPkEAAACAgBJbQQAAACCoWo5Bv8x/y5xXYEEAAADAovl1QXTfYI23zmlBz2Y/ynzBAkIAAAAA0BJzQQAAAIxo5ZNB/JNThatmgkEAAAAA0BJTQQAA7E21OxJCKwwuO6qmkUEAAAAgerqhQQAAAAAOE0NBAAAAAITXl0F4eqWiQ/5wQW1b4nIfINBBAADD1R53NUIAAAAAhNeHQQAAAADQEnNBt0Cnl6EPZEFFR3JvNrRrQSGPoH1QPWdBBFaOczF/mkEAAABZNO23QWBHLT+iuWVBAADA0e7uIkIAAAAAhNeXQQAA3HtkPBVCAAAAADvTT0EAAADYWwOOQQAAAIDi9FlBAAAAwGdIdEGa3cmg1eZ0QQAAAHgivplBkcPR086RhkEAAAAAgIROQQAAAACE13dBAAAozX4lGEIAAAAKwrTAQdlvVtQbr19BinB46O9JfUHg88PJ5oRnQQAAAJLichpCyZTHkQPhpUG+7S5cWURpQarabk6XK3BBAAAAAPYIekFWAY1Yqn9zQQAAAFoqdKtBUrgehS2XGUEAAIC4lGXDQRnCFtRZTGpBfQaUa/WyYkFNBaat9tx0QXJuA5mDqKBBTNr5wtYfZUGcs497yrJ/Qc/z50Wa4XxB6NT8eTS5REEAAACAH1pxQU0j1g9mBFtBqyApccCUVkEhQAGtN3+PQQdWG3NDymFBAAAAAGXNzUFyYIdLU+RZQWEUvDBm26hBhCXzzZHWgEGgRPozO2txQfT+3KxthT1Bbw+6QBy3p0EAAABosbbKQQaJ6d5eJ01BqDrkBk4vAUHZqskxyLRhQQAAAABlzc1B\",\"dtype\":\"float64\",\"order\":\"little\",\"shape\":[87]},\"class\":[1,1,1,1,1,1,1,1,1,1,1,1,1,1,1,1,1,1,1,1,1,1,1,1,1,1,1,1,1,1,1,1,1,1,1,1,1,1,1,1,1,1,1,1,1,1,1,1,1,1,1,1,1,1,1,1,1,1,1,1,1,1,1,1,1,1,1,1,1,1,1,1,1,1,1,1,1,1,1,1,1,1,1,1,1,1,1]},\"selected\":{\"id\":\"3447\"},\"selection_policy\":{\"id\":\"3463\"}},\"id\":\"3446\",\"type\":\"ColumnDataSource\"},{\"attributes\":{\"fill_color\":{\"value\":\"#ff7e0e\"},\"line_color\":{\"value\":\"#ff7e0e\"},\"size\":{\"units\":\"screen\",\"value\":5.477225575051661},\"x\":{\"field\":\"TotalCoinsMined\"},\"y\":{\"field\":\"TotalCoinSupply\"}},\"id\":\"3449\",\"type\":\"Scatter\"},{\"attributes\":{\"factors\":[\"42\",\"532000000\",\"22000000\",\"12500000\",\"16768584\",\"0\",\"500000\",\"1000000\",\"40000000000\",\"4380000\",\"120000000\",\"2419200000\",\"16180000\",\"3770000\",\"420000000\",\"98000000\",\"1000\",\"100000000\",\"10000000\",\"1600000000\",\"5500000\",\"1000000000\",\"2158812800\",\"68000000\",\"500000000\",\"20000000\",\"21000000\",\"26550000000\",\"10500000\",\"42000000\",\"221052632\",\"384000000\",\" 99000000000\",\"40000000\",\"2147483647\",\"75000000\",\"222725000\",\"525000000\",\"139000000\",\"2000000000\",\"44333333\",\"657000000\",\"50000000\",\"90000000\",\"3000000\",\"3100000000\",\"1500000000\",\"30000000\",\"3853326.77707314\",\"38540000 \",\"60000000\",\"33000000\",\"76500000\",\"28000000\",\"650659833\",\"5000000\",\"144000000\",\"32514916898\",\"13000000\",\"3315789\",\"78835200\",\"9354000\",\"21933333\",\"55000000\",\"110000000\",\"34426423\",\"21212121\",\"28600000\",\"75000000000\",\"105000000\",\"200084200\",\"50000000000\",\"9507271\",\"17405891.19707116\",\"48252000\",\"4200000\",\"27000000\",\"400000000\",\"15733333\",\"24000000\",\"25000000000\",\"14788275.991\",\"9000000000\",\"210000000\",\"150000000\",\"900000000\",\"4000000\",\"1618033\",\"232000000\",\"19340594\",\"25000000\",\"124000000\",\"45000000\",\"5121951220\",\"26000000\",\"10200000000\",\"44000000\",\"84000000\",\"100262205\",\"82546564\",\"16880000000\",\"52500000\",\"260000000\",\"366000000\",\"18000000000\",\"74800000000\",\"19700000\",\"35000000000\",\"200000000\",\"54256119\",\"10500000000\",\"190000000\",\"15000000\",\"208000000\",\"160000000\",\"16504333\",\"10008835635\",\"300000000\",\"60168145\",\"250000000\",\"3600570502\",\"350000000\",\"2300000000\",\"12000000\",\"78000000\",\"5060000\",\"26298000\",\"33500000\",\"20000000000\",\"74000000\",\"39999898\",\"2500124\",\"301000000\",\"7506000000\",\"850000000\",\"14524851.4827\",\"36900000\",\"110290030\",\"90000000000\",\"18898187.6216583\",\"137500000\",\"61599965\",\"91388946\",\"45000000000\",\"1200000000\",\"30000000000\",\"27716121\",\"800000000\",\"88000000\",\"80000000\",\"650000000 \",\"18081806 \",\"5151000\",\"70000000000\",\"54000000\",\"19035999\",\"13370000\",\"5000000000\",\"9000000\",\"120000\",\"8634140\",\"21000000000\",\"16555000000\",\"336000000\",\"10000000000\",\"1840000000\",\"65789100\",\"16906397\",\"81962100\",\"21400000\",\"26205539\",\"9999999\",\"185000000\",\"17000000\",\"2232901\",\"340282367\",\"88888888\",\"156306732.71\",\"280000000\",\"31800000\",\"660000000\",\"85000000000\",\"999481516\",\"16600000\",\"6500000000\",\"70000000\",\"18400000\",\"26280000\",\"18000000\",\"600000518\",\"168000000\",\"1750000000\",\"88188888\",\"7600000000\",\"8080000000\",\"105120001.44\",\"25228800\",\"262800000\",\"30886000\",\"4000000000\",\"7000000000\",\"2800000\",\"2100000000\",\"24487944\",\"1400222610\",\"64000000\",\"169795588\",\"247000000\",\"48166000\",\"21000000 \",\"13140000\",\"13500000000\",\"299792458\",\"32000000\",\"11235813\",\"1420609614\",\"72245700\",\"90600000000\",\"265420800\",\"1350000\",\"15000000000\",\"337000000\",\"51200000\",\"888000000\",\"47011968\",\"250000\",\"23000000\",\"105120000\",\"1680000000\",\"166386000\",\"2628000\",\"3371337\",\"619478\",\"92000000000\",\"53760000\",\"210240000\",\"16000000\",\"21626280000 \",\"168351300\",\"616448\",\"9736000\",\"10638298\",\"228000000\",\"2714286\",\"100000000000\",\"3360000\",\"100000000 \",\"35520400\",\"2500000000\",\"72000000\",\"19276800\",\" 75000000\",\"18900000\",\"1100000000\",\"1800000000\",\"550000000\",\"4999999999\",\" 90000000000\",\"19800000\",\"20166000\",\"18406979840\",\"22075700\",\"22105263\",\"2100000\",\"98100000000\",\"182000000\",\"990000000000\",\"5200000000\",\"840000000\",\"252460800\",\"86712634466\",\"314159265359\",\"125000000\",\"159918400\",\"384000000000\",\"184467440735\",\"200000000000\",\"1000000000000\",\"184000000000\",\"184470000000\"],\"tags\":[[[\"TotalCoinSupply\",\"TotalCoinSupply\",null]]]},\"id\":\"3384\",\"type\":\"FactorRange\"},{\"attributes\":{\"data_source\":{\"id\":\"3465\"},\"glyph\":{\"id\":\"3468\"},\"hover_glyph\":null,\"muted_glyph\":{\"id\":\"3470\"},\"nonselection_glyph\":{\"id\":\"3469\"},\"selection_glyph\":null,\"view\":{\"id\":\"3472\"}},\"id\":\"3471\",\"type\":\"GlyphRenderer\"},{\"attributes\":{},\"id\":\"3487\",\"type\":\"Selection\"},{\"attributes\":{\"click_policy\":\"mute\",\"items\":[{\"id\":\"3445\"},{\"id\":\"3464\"},{\"id\":\"3485\"},{\"id\":\"3508\"},{\"id\":\"3533\"},{\"id\":\"3560\"},{\"id\":\"3589\"},{\"id\":\"3620\"},{\"id\":\"3653\"},{\"id\":\"3688\"}],\"location\":[0,0],\"title\":\"class\"},\"id\":\"3444\",\"type\":\"Legend\"},{\"attributes\":{\"bottom_units\":\"screen\",\"fill_alpha\":0.5,\"fill_color\":\"lightgrey\",\"left_units\":\"screen\",\"level\":\"overlay\",\"line_alpha\":1.0,\"line_color\":\"black\",\"line_dash\":[4,4],\"line_width\":2,\"right_units\":\"screen\",\"top_units\":\"screen\"},\"id\":\"3416\",\"type\":\"BoxAnnotation\"},{\"attributes\":{\"overlay\":{\"id\":\"3416\"}},\"id\":\"3414\",\"type\":\"BoxZoomTool\"},{\"attributes\":{},\"id\":\"3409\",\"type\":\"CategoricalTicker\"},{\"attributes\":{\"fill_alpha\":{\"value\":0.2},\"fill_color\":{\"value\":\"#8c564b\"},\"line_alpha\":{\"value\":0.2},\"line_color\":{\"value\":\"#8c564b\"},\"size\":{\"units\":\"screen\",\"value\":5.477225575051661},\"x\":{\"field\":\"TotalCoinsMined\"},\"y\":{\"field\":\"TotalCoinSupply\"}},\"id\":\"3539\",\"type\":\"Scatter\"},{\"attributes\":{},\"id\":\"3510\",\"type\":\"Selection\"},{\"attributes\":{\"axis_label\":\"TotalCoinSupply\",\"bounds\":\"auto\",\"formatter\":{\"id\":\"3427\"},\"major_label_orientation\":\"horizontal\",\"ticker\":{\"id\":\"3409\"}},\"id\":\"3408\",\"type\":\"CategoricalAxis\"},{\"attributes\":{\"fill_alpha\":{\"value\":0.2},\"fill_color\":{\"value\":\"#16bdcf\"},\"line_alpha\":{\"value\":0.2},\"line_color\":{\"value\":\"#16bdcf\"},\"size\":{\"units\":\"screen\",\"value\":5.477225575051661},\"x\":{\"field\":\"TotalCoinsMined\"},\"y\":{\"field\":\"TotalCoinSupply\"}},\"id\":\"3659\",\"type\":\"Scatter\"},{\"attributes\":{},\"id\":\"3405\",\"type\":\"BasicTicker\"},{\"attributes\":{},\"id\":\"3402\",\"type\":\"CategoricalScale\"},{\"attributes\":{},\"id\":\"3652\",\"type\":\"UnionRenderers\"},{\"attributes\":{},\"id\":\"3411\",\"type\":\"SaveTool\"},{\"attributes\":{},\"id\":\"3655\",\"type\":\"Selection\"},{\"attributes\":{\"fill_color\":{\"value\":\"#7e7e7e\"},\"line_color\":{\"value\":\"#7e7e7e\"},\"size\":{\"units\":\"screen\",\"value\":5.477225575051661},\"x\":{\"field\":\"TotalCoinsMined\"},\"y\":{\"field\":\"TotalCoinSupply\"}},\"id\":\"3593\",\"type\":\"Scatter\"},{\"attributes\":{\"fill_alpha\":{\"value\":0.1},\"fill_color\":{\"value\":\"#1f77b3\"},\"line_alpha\":{\"value\":0.1},\"line_color\":{\"value\":\"#1f77b3\"},\"size\":{\"units\":\"screen\",\"value\":5.477225575051661},\"x\":{\"field\":\"TotalCoinsMined\"},\"y\":{\"field\":\"TotalCoinSupply\"}},\"id\":\"3432\",\"type\":\"Scatter\"},{\"attributes\":{\"fill_color\":{\"value\":\"#bcbc21\"},\"line_color\":{\"value\":\"#bcbc21\"},\"size\":{\"units\":\"screen\",\"value\":5.477225575051661},\"x\":{\"field\":\"TotalCoinsMined\"},\"y\":{\"field\":\"TotalCoinSupply\"}},\"id\":\"3624\",\"type\":\"Scatter\"},{\"attributes\":{\"axis_label\":\"TotalCoinsMined\",\"bounds\":\"auto\",\"formatter\":{\"id\":\"3425\"},\"major_label_orientation\":\"horizontal\",\"ticker\":{\"id\":\"3405\"}},\"id\":\"3404\",\"type\":\"LinearAxis\"},{\"attributes\":{},\"id\":\"3507\",\"type\":\"UnionRenderers\"},{\"attributes\":{},\"id\":\"3559\",\"type\":\"UnionRenderers\"},{\"attributes\":{\"callback\":null,\"renderers\":[{\"id\":\"3434\"},{\"id\":\"3452\"},{\"id\":\"3471\"},{\"id\":\"3492\"},{\"id\":\"3515\"},{\"id\":\"3540\"},{\"id\":\"3567\"},{\"id\":\"3596\"},{\"id\":\"3627\"},{\"id\":\"3660\"}],\"tags\":[\"hv_created\"],\"tooltips\":[[\"class\",\"@{class}\"],[\"TotalCoinsMined\",\"@{TotalCoinsMined}\"],[\"TotalCoinSupply\",\"@{TotalCoinSupply}\"],[\"CoinName\",\"@{CoinName}\"]]},\"id\":\"3385\",\"type\":\"HoverTool\"},{\"attributes\":{\"data_source\":{\"id\":\"3486\"},\"glyph\":{\"id\":\"3489\"},\"hover_glyph\":null,\"muted_glyph\":{\"id\":\"3491\"},\"nonselection_glyph\":{\"id\":\"3490\"},\"selection_glyph\":null,\"view\":{\"id\":\"3493\"}},\"id\":\"3492\",\"type\":\"GlyphRenderer\"},{\"attributes\":{\"data\":{\"CoinName\":[\"Vechain\"],\"TotalCoinSupply\":[\"86712634466\"],\"TotalCoinsMined\":{\"__ndarray__\":\"AACgM7jSKUI=\",\"dtype\":\"float64\",\"order\":\"little\",\"shape\":[1]},\"class\":[6]},\"selected\":{\"id\":\"3562\"},\"selection_policy\":{\"id\":\"3588\"}},\"id\":\"3561\",\"type\":\"ColumnDataSource\"},{\"attributes\":{\"label\":{\"value\":\"0\"},\"renderers\":[{\"id\":\"3434\"}]},\"id\":\"3445\",\"type\":\"LegendItem\"},{\"attributes\":{\"label\":{\"value\":\"5\"},\"renderers\":[{\"id\":\"3540\"}]},\"id\":\"3560\",\"type\":\"LegendItem\"},{\"attributes\":{\"axis\":{\"id\":\"3408\"},\"dimension\":1,\"grid_line_color\":null,\"ticker\":null},\"id\":\"3410\",\"type\":\"Grid\"},{\"attributes\":{\"data_source\":{\"id\":\"3428\"},\"glyph\":{\"id\":\"3431\"},\"hover_glyph\":null,\"muted_glyph\":{\"id\":\"3433\"},\"nonselection_glyph\":{\"id\":\"3432\"},\"selection_glyph\":null,\"view\":{\"id\":\"3435\"}},\"id\":\"3434\",\"type\":\"GlyphRenderer\"},{\"attributes\":{\"label\":{\"value\":\"3\"},\"renderers\":[{\"id\":\"3492\"}]},\"id\":\"3508\",\"type\":\"LegendItem\"},{\"attributes\":{},\"id\":\"3443\",\"type\":\"UnionRenderers\"},{\"attributes\":{\"data_source\":{\"id\":\"3446\"},\"glyph\":{\"id\":\"3449\"},\"hover_glyph\":null,\"muted_glyph\":{\"id\":\"3451\"},\"nonselection_glyph\":{\"id\":\"3450\"},\"selection_glyph\":null,\"view\":{\"id\":\"3453\"}},\"id\":\"3452\",\"type\":\"GlyphRenderer\"},{\"attributes\":{\"source\":{\"id\":\"3428\"}},\"id\":\"3435\",\"type\":\"CDSView\"},{\"attributes\":{\"fill_alpha\":{\"value\":0.2},\"fill_color\":{\"value\":\"#1f77b3\"},\"line_alpha\":{\"value\":0.2},\"line_color\":{\"value\":\"#1f77b3\"},\"size\":{\"units\":\"screen\",\"value\":5.477225575051661},\"x\":{\"field\":\"TotalCoinsMined\"},\"y\":{\"field\":\"TotalCoinSupply\"}},\"id\":\"3433\",\"type\":\"Scatter\"},{\"attributes\":{\"data_source\":{\"id\":\"3561\"},\"glyph\":{\"id\":\"3564\"},\"hover_glyph\":null,\"muted_glyph\":{\"id\":\"3566\"},\"nonselection_glyph\":{\"id\":\"3565\"},\"selection_glyph\":null,\"view\":{\"id\":\"3568\"}},\"id\":\"3567\",\"type\":\"GlyphRenderer\"},{\"attributes\":{\"fill_color\":{\"value\":\"#1f77b3\"},\"line_color\":{\"value\":\"#1f77b3\"},\"size\":{\"units\":\"screen\",\"value\":5.477225575051661},\"x\":{\"field\":\"TotalCoinsMined\"},\"y\":{\"field\":\"TotalCoinSupply\"}},\"id\":\"3431\",\"type\":\"Scatter\"},{\"attributes\":{\"fill_alpha\":{\"value\":0.2},\"fill_color\":{\"value\":\"#9367bc\"},\"line_alpha\":{\"value\":0.2},\"line_color\":{\"value\":\"#9367bc\"},\"size\":{\"units\":\"screen\",\"value\":5.477225575051661},\"x\":{\"field\":\"TotalCoinsMined\"},\"y\":{\"field\":\"TotalCoinSupply\"}},\"id\":\"3514\",\"type\":\"Scatter\"},{\"attributes\":{\"fill_color\":{\"value\":\"#16bdcf\"},\"line_color\":{\"value\":\"#16bdcf\"},\"size\":{\"units\":\"screen\",\"value\":5.477225575051661},\"x\":{\"field\":\"TotalCoinsMined\"},\"y\":{\"field\":\"TotalCoinSupply\"}},\"id\":\"3657\",\"type\":\"Scatter\"},{\"attributes\":{\"fill_alpha\":{\"value\":0.1},\"fill_color\":{\"value\":\"#e277c1\"},\"line_alpha\":{\"value\":0.1},\"line_color\":{\"value\":\"#e277c1\"},\"size\":{\"units\":\"screen\",\"value\":5.477225575051661},\"x\":{\"field\":\"TotalCoinsMined\"},\"y\":{\"field\":\"TotalCoinSupply\"}},\"id\":\"3565\",\"type\":\"Scatter\"},{\"attributes\":{\"data\":{\"CoinName\":[\"Bitcoin\",\"Litecoin\",\"ProsperCoin\",\"Spreadcoin\",\"Argentum\",\"ZetaCoin\",\"SexCoin\",\"Quatloo\",\"QuarkCoin\",\"Riecoin\",\"Digitalcoin \",\"Catcoin\",\"CannaCoin\",\"CryptCoin\",\"DevCoin\",\"EarthCoin\",\"E-Gulden\",\"Einsteinium\",\"Emerald\",\"Franko\",\"GrandCoin\",\"GlobalCoin\",\"GoldCoin\",\"Infinite Coin\",\"IXcoin\",\"KrugerCoin\",\"LuckyCoin\",\"Litebar \",\"MegaCoin\",\"MinCoin\",\"NobleCoin\",\"Namecoin\",\"NyanCoin\",\"RonPaulCoin\",\"StableCoin\",\"SmartCoin\",\"SysCoin\",\"TigerCoin\",\"TerraCoin\",\"UnbreakableCoin\",\"Unobtanium\",\"UroCoin\",\"ViaCoin\",\"Vertcoin\",\"WorldCoin\",\"JouleCoin\",\"MonaCoin\",\"Gulden\",\"PesetaCoin\",\"Wild Beast Coin\",\"Flo\",\"ArtByte\",\"CypherPunkCoin\",\"OmniCron\",\"GreenCoin\",\"MasterCoin\",\"SoonCoin\",\"1Credit\",\"MarsCoin \",\"Anarchists Prime\",\"BowsCoin\",\"Song Coin\",\"BitZeny\",\"MindCoin\",\"I0coin\",\"Revolution VR\",\"Gamecredits\",\"CarpeDiemCoin\",\"Adzcoin\",\"YoCoin\",\"Francs\",\"BolivarCoin\",\"Omni\",\"PizzaCoin\",\"Komodo\",\"ZayedCoin\",\"DopeCoin\",\"DollarCoin\",\"Shilling\",\"KiloCoin\",\"ArtexCoin\",\"Kurrent\",\"OsmiumCoin\",\"PacCoin\",\"BeaverCoin\",\"VaultCoin\",\"Canada eCoin\",\"EB3coin\",\"Coinonat\",\"BenjiRolls\",\"ILCoin\",\"EquiTrader\",\"DigitalPrice\",\"Unify\",\"SocialCoin\",\"ArcticCoin\",\"DAS\",\"SmartCash\",\"Onix\",\"Bitcoin Cash\",\"Sojourn Coin\",\"NewYorkCoin\",\"FrazCoin\",\"Kronecoin\",\"AdCoin\",\"Linx\",\"Elements\",\"eBoost\",\"Pura\",\"AC3\",\"PopularCoin\",\"Photon\",\"Sucre\",\"IrishCoin\",\"Pioneer Coin\",\"UnitedBitcoin\",\"Interzone\",\"ShareChain\",\"KREDS\",\"BitFlip\",\"LottoCoin\",\"Crypto Improvement Fund\",\"Poseidon\",\"FuturoCoin\",\"Jumpcoin\",\"Motion\",\"Axe\",\"HexCoin\",\"Urals Coin\",\"Project Pai\",\"Azart\",\"Xchange\",\"Bitcoin SV\",\"Block-Logic\",\"SLICE\",\"BLAST\",\"Bitcoin Rhodium\",\"GlobalToken\",\"SolarCoin\",\"Crypto Escudo\",\"Crown Coin\",\"SmileyCoin\",\"Groestlcoin\",\"Bata\",\"Pakcoin\"],\"TotalCoinSupply\":[\"21000000\",\"84000000\",\"21000000\",\"20000000\",\"64000000\",\"169795588\",\"250000000\",\"100000000\",\"247000000\",\"84000000\",\"48166000\",\"21000000 \",\"13140000\",\"18000000\",\"21000000000\",\"13500000000\",\"21000000 \",\"299792458\",\"32000000\",\"11235813\",\"1420609614\",\"70000000\",\"72245700\",\"90600000000\",\"21000000\",\"265420800\",\"20000000\",\"1350000\",\"42000000\",\"10000000\",\"15000000000\",\"21000000\",\"337000000\",\"21000000\",\"250000000\",\"51200000\",\"888000000\",\"47011968\",\"42000000\",\"80000000\",\"250000\",\"0\",\"23000000\",\"84000000\",\"265420800\",\"45000000\",\"105120000\",\"1680000000\",\"166386000\",\"2628000\",\"160000000\",\"1000000000\",\"0\",\"3371337\",\"10000000000\",\"619478\",\"21000000\",\"92000000000\",\"33000000\",\"53760000\",\"21000000\",\"210240000\",\"250000000\",\"16000000\",\"21000000\",\"210000000\",\"84000000\",\"21626280000 \",\"84000000\",\"168351300\",\"20000000\",\"25000000\",\"616448\",\"25000000\",\"200000000\",\"9736000\",\"200000000\",\"10638298\",\"30000000\",\"10000000000\",\"500000000\",\"228000000\",\"2714286\",\"100000000000\",\"3360000\",\"1000000000\",\"100000000 \",\"4000000000\",\"48252000\",\"35520400\",\"2500000000\",\"72000000\",\"100000000\",\"19276800\",\" 75000000\",\"60000000\",\"18900000\",\"5000000000\",\"1100000000\",\"21000000\",\"10500000000\",\"0\",\"20000000\",\"84000000\",\"100000000\",\"100000000\",\"1800000000\",\"100000000\",\"350000000\",\"550000000\",\"4999999999\",\" 90000000000\",\"19800000\",\"64000000\",\"23000000\",\"20166000\",\"23000000\",\"10000000000\",\"1100000000\",\"40000000\",\"18406979840\",\"500000000\",\"21000000\",\"100000000\",\"21000000\",\"22075700\",\"21000000\",\"22105263\",\"210000000\",\"2100000000\",\"25000000\",\"100000000\",\"21000000\",\"120000000\",\"100000000\",\"64000000\",\"2100000\",\"168000000\",\"98100000000\",\"1000000000\",\"42000000\",\"50000000000\",\"105000000\",\"5000000\",\"182000000\"],\"TotalCoinsMined\":{\"__ndarray__\":\"AAAAcMAYcUH3aGZaOA+OQQAAAIAdAVZBaIHsvzREZUEQEj1u3EdnQZF7gss5SqRBaXC7XO69nkHsUbiyWBFcQbxc1FkO8a5BjF0hSWmgh0FQLIHFyuR/QWZYXCm9iltB0Ooq4aHxUUFBDiuN3g9TQQAAcFMJfBFCdJOWgBFbB0JLZubsGPFzQd7//7BwF6pBtMj2JPWXckGkPC0mzG8xQQAAADVYWcpBAVrEg7BQj0EP8f+/SN2DQaOhOnztFzVCbef7T8QcdEGamZnD0A2iQc3MTPJWbnJB67a4OtjZMEFC3vH/OTGCQbco1DgrJFZBaHk40Omg4UEAAAAAghtsQe6ue+dB87NBs3X0ax3ZMEGamZnb6Bd3QakGK5J4aHhBSWWmrurJwEEAAAAAjcKEQQAAAEB233VBAAAAAINhQUF75AdVfoYIQQAAAAAObDJB8v+vwhIUdkHHd4jeymaIQQAAAHQ6hJxBZY7l2qKwgkFwE3zLRUKQQQAAAGTkvLhB4PPTrLRkoEGTMePy+TQGQdumuJHuJqJBAAAAUZSex0EAAABAGUhYQclLLY4xV2NBcT0OcsMs8UEAAAAArOciQQAAAIBDxWdBAAAAAFCJ9UC0zCJtmLp+QW6jAQDIIGxBAAAAsANCbkEAAABAgw5/QQAAAJAkB5JBAAAA4OVDbkF3ItdNVgZ0QQAAAACxCKlBAAAAEHWmkEEAAGSVNj8UQgAAAKChgoVBFXuiHl1sI0H1ngjqzRBZQQAr9k8IC2pBAAAAAADQIkEAAAAAfQY1QQAAAEzcoZtBAAAAAIDRV0EAAACwqtubQQAAAECjXmFBAAAAAEw1ZUEAAADmiWanQQAAAACfjshBAAAAaNJCjUEAAAAAlEgrQQAAAB3ZAMBBAAAAAH3ER0EAAABAWPp8QaJtQ0H1zZdBAAAAoDmQjkEAAAAA+E5jQYwpWDI4VnNBAAAAy86i00FyQtfNdxRqQQAAAPhswYBBAAAAsAxLcUEAAADAp7ZTQSAV+sX/1XhBAAAAANMCREFLH6e/YrLgQcoYj9lRM51BarxZWnQpcUEAAAAAeJ0dQe/X1k3upUBCAAAAQE2CYkFw2XdWK6VwQQkyArFkIn9BAAAAcMkTgEHLSpu+SSPkQSdP+cXn1pdBAAAA5injpEEAAAC8HCaTQUjhGyQdie1BWReqze8FHEL+dkAg7CFQQZvyt0ohsIVBbNHeCrMrYEEAAAAAVztzQUTdB4OlumZBAAAAIF+gAkLVIcXjxS/DQRXGFoAyvWdBAACoqNr9CkJPPwDNSjCpQZhQHBOiDU9BiRH9UgdUfkGTQQkk4hd0QaatV0Fq/15BoqWhrAEMU0FIZOUQ1501QWnLFCNFIGxBAAAAQN1K30HawOFXUiJTQVFXrzOTmmJBP8xZKrQocUHNPWRpN9OAQY25hs1rp2hBzbkFZYbviEEAAACAdNsxQdL+/69fLJRB+z8Xo9h+ikEAAAAGiUDHQUrmXREL7HVBaa8raV+NG0K6qYxvxHmRQZ9B3voiRlNBmTrBnTOdkEE=\",\"dtype\":\"float64\",\"order\":\"little\",\"shape\":[145]},\"class\":[3,3,3,3,3,3,3,3,3,3,3,3,3,3,3,3,3,3,3,3,3,3,3,3,3,3,3,3,3,3,3,3,3,3,3,3,3,3,3,3,3,3,3,3,3,3,3,3,3,3,3,3,3,3,3,3,3,3,3,3,3,3,3,3,3,3,3,3,3,3,3,3,3,3,3,3,3,3,3,3,3,3,3,3,3,3,3,3,3,3,3,3,3,3,3,3,3,3,3,3,3,3,3,3,3,3,3,3,3,3,3,3,3,3,3,3,3,3,3,3,3,3,3,3,3,3,3,3,3,3,3,3,3,3,3,3,3,3,3,3,3,3,3,3,3]},\"selected\":{\"id\":\"3487\"},\"selection_policy\":{\"id\":\"3507\"}},\"id\":\"3486\",\"type\":\"ColumnDataSource\"},{\"attributes\":{},\"id\":\"3532\",\"type\":\"UnionRenderers\"},{\"attributes\":{\"margin\":[5,5,5,5],\"name\":\"HSpacer07766\",\"sizing_mode\":\"stretch_width\"},\"id\":\"3923\",\"type\":\"Spacer\"},{\"attributes\":{\"fill_alpha\":{\"value\":0.2},\"fill_color\":{\"value\":\"#7e7e7e\"},\"line_alpha\":{\"value\":0.2},\"line_color\":{\"value\":\"#7e7e7e\"},\"size\":{\"units\":\"screen\",\"value\":5.477225575051661},\"x\":{\"field\":\"TotalCoinsMined\"},\"y\":{\"field\":\"TotalCoinSupply\"}},\"id\":\"3595\",\"type\":\"Scatter\"},{\"attributes\":{\"source\":{\"id\":\"3446\"}},\"id\":\"3453\",\"type\":\"CDSView\"},{\"attributes\":{\"label\":{\"value\":\"6\"},\"renderers\":[{\"id\":\"3567\"}]},\"id\":\"3589\",\"type\":\"LegendItem\"},{\"attributes\":{\"data_source\":{\"id\":\"3590\"},\"glyph\":{\"id\":\"3593\"},\"hover_glyph\":null,\"muted_glyph\":{\"id\":\"3595\"},\"nonselection_glyph\":{\"id\":\"3594\"},\"selection_glyph\":null,\"view\":{\"id\":\"3597\"}},\"id\":\"3596\",\"type\":\"GlyphRenderer\"},{\"attributes\":{},\"id\":\"3622\",\"type\":\"Selection\"},{\"attributes\":{},\"id\":\"3447\",\"type\":\"Selection\"},{\"attributes\":{\"fill_alpha\":{\"value\":0.2},\"fill_color\":{\"value\":\"#bcbc21\"},\"line_alpha\":{\"value\":0.2},\"line_color\":{\"value\":\"#bcbc21\"},\"size\":{\"units\":\"screen\",\"value\":5.477225575051661},\"x\":{\"field\":\"TotalCoinsMined\"},\"y\":{\"field\":\"TotalCoinSupply\"}},\"id\":\"3626\",\"type\":\"Scatter\"}],\"root_ids\":[\"3381\"]},\"title\":\"Bokeh Application\",\"version\":\"2.1.0\"}};\n",
       "  var render_items = [{\"docid\":\"3f11e14b-ee12-4ce1-95cc-4bd1d36ee677\",\"root_ids\":[\"3381\"],\"roots\":{\"3381\":\"43de368f-e7d5-407b-b5c9-c8ec026ab6e4\"}}];\n",
       "  root.Bokeh.embed.embed_items_notebook(docs_json, render_items);\n",
       "  }\n",
       "if (root.Bokeh !== undefined) {\n",
       "    embed_document(root);\n",
       "  } else {\n",
       "    var attempts = 0;\n",
       "    var timer = setInterval(function(root) {\n",
       "      if (root.Bokeh !== undefined) {\n",
       "        clearInterval(timer);\n",
       "        embed_document(root);\n",
       "      } else if (document.readyState == \"complete\") {\n",
       "        attempts++;\n",
       "        if (attempts > 100) {\n",
       "          clearInterval(timer);\n",
       "          console.log(\"Bokeh: ERROR: Unable to run BokehJS code because BokehJS library is missing\");\n",
       "        }\n",
       "      }\n",
       "    }, 10, root)\n",
       "  }\n",
       "})(window);</script>"
      ],
      "text/plain": [
       ":NdOverlay   [class]\n",
       "   :Scatter   [TotalCoinsMined]   (TotalCoinSupply,CoinName)"
      ]
     },
     "execution_count": 101,
     "metadata": {
      "application/vnd.holoviews_exec.v0+json": {
       "id": "3381"
      }
     },
     "output_type": "execute_result"
    }
   ],
   "source": [
    "# Scatter Plot using hvplot.scatter\n",
    "\n",
    "clustered_df.hvplot.scatter(x = 'TotalCoinsMined', y = 'TotalCoinSupply', hover_cols=['CoinName'], by ='class')"
   ]
  }
 ],
 "metadata": {
  "kernelspec": {
   "display_name": "PythonData",
   "language": "python",
   "name": "pythondata"
  },
  "language_info": {
   "codemirror_mode": {
    "name": "ipython",
    "version": 3
   },
   "file_extension": ".py",
   "mimetype": "text/x-python",
   "name": "python",
   "nbconvert_exporter": "python",
   "pygments_lexer": "ipython3",
   "version": "3.7.7"
  }
 },
 "nbformat": 4,
 "nbformat_minor": 4
}
